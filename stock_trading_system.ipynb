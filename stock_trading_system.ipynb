{
  "nbformat": 4,
  "nbformat_minor": 0,
  "metadata": {
    "colab": {
      "name": "stock-trading-system.ipynb",
      "provenance": [],
      "authorship_tag": "ABX9TyNtcx6XMaquC470cQpjEtoM",
      "include_colab_link": true
    },
    "kernelspec": {
      "name": "python3",
      "display_name": "Python 3"
    },
    "widgets": {
      "application/vnd.jupyter.widget-state+json": {
        "80d419dc44ce4ff8b6ee90524fd36682": {
          "model_module": "@jupyter-widgets/controls",
          "model_name": "HBoxModel",
          "state": {
            "_view_name": "HBoxView",
            "_dom_classes": [],
            "_model_name": "HBoxModel",
            "_view_module": "@jupyter-widgets/controls",
            "_model_module_version": "1.5.0",
            "_view_count": null,
            "_view_module_version": "1.5.0",
            "box_style": "",
            "layout": "IPY_MODEL_44e25d55f8e9409da02629926065e761",
            "_model_module": "@jupyter-widgets/controls",
            "children": [
              "IPY_MODEL_f1bb0c811070438ca74d1e0b8640def3",
              "IPY_MODEL_331bdf49f56d40b882cc833a3dbf43a9"
            ]
          }
        },
        "44e25d55f8e9409da02629926065e761": {
          "model_module": "@jupyter-widgets/base",
          "model_name": "LayoutModel",
          "state": {
            "_view_name": "LayoutView",
            "grid_template_rows": null,
            "right": null,
            "justify_content": null,
            "_view_module": "@jupyter-widgets/base",
            "overflow": null,
            "_model_module_version": "1.2.0",
            "_view_count": null,
            "flex_flow": null,
            "width": null,
            "min_width": null,
            "border": null,
            "align_items": null,
            "bottom": null,
            "_model_module": "@jupyter-widgets/base",
            "top": null,
            "grid_column": null,
            "overflow_y": null,
            "overflow_x": null,
            "grid_auto_flow": null,
            "grid_area": null,
            "grid_template_columns": null,
            "flex": null,
            "_model_name": "LayoutModel",
            "justify_items": null,
            "grid_row": null,
            "max_height": null,
            "align_content": null,
            "visibility": null,
            "align_self": null,
            "height": null,
            "min_height": null,
            "padding": null,
            "grid_auto_rows": null,
            "grid_gap": null,
            "max_width": null,
            "order": null,
            "_view_module_version": "1.2.0",
            "grid_template_areas": null,
            "object_position": null,
            "object_fit": null,
            "grid_auto_columns": null,
            "margin": null,
            "display": null,
            "left": null
          }
        },
        "f1bb0c811070438ca74d1e0b8640def3": {
          "model_module": "@jupyter-widgets/controls",
          "model_name": "FloatProgressModel",
          "state": {
            "_view_name": "ProgressView",
            "style": "IPY_MODEL_8e452b1b052246cfab495803b85cafaf",
            "_dom_classes": [],
            "description": "100%",
            "_model_name": "FloatProgressModel",
            "bar_style": "success",
            "max": 1752,
            "_view_module": "@jupyter-widgets/controls",
            "_model_module_version": "1.5.0",
            "value": 1752,
            "_view_count": null,
            "_view_module_version": "1.5.0",
            "orientation": "horizontal",
            "min": 0,
            "description_tooltip": null,
            "_model_module": "@jupyter-widgets/controls",
            "layout": "IPY_MODEL_c87f03e4c40d420fa846b4cbfe4afb55"
          }
        },
        "331bdf49f56d40b882cc833a3dbf43a9": {
          "model_module": "@jupyter-widgets/controls",
          "model_name": "HTMLModel",
          "state": {
            "_view_name": "HTMLView",
            "style": "IPY_MODEL_25e6cc0d1e4945b1aec4e114e6ee8b6c",
            "_dom_classes": [],
            "description": "",
            "_model_name": "HTMLModel",
            "placeholder": "​",
            "_view_module": "@jupyter-widgets/controls",
            "_model_module_version": "1.5.0",
            "value": " 1752/1752 [37:09&lt;00:00,  1.27s/it]",
            "_view_count": null,
            "_view_module_version": "1.5.0",
            "description_tooltip": null,
            "_model_module": "@jupyter-widgets/controls",
            "layout": "IPY_MODEL_8da45e51635c4ce58dadb8c495165f61"
          }
        },
        "8e452b1b052246cfab495803b85cafaf": {
          "model_module": "@jupyter-widgets/controls",
          "model_name": "ProgressStyleModel",
          "state": {
            "_view_name": "StyleView",
            "_model_name": "ProgressStyleModel",
            "description_width": "initial",
            "_view_module": "@jupyter-widgets/base",
            "_model_module_version": "1.5.0",
            "_view_count": null,
            "_view_module_version": "1.2.0",
            "bar_color": null,
            "_model_module": "@jupyter-widgets/controls"
          }
        },
        "c87f03e4c40d420fa846b4cbfe4afb55": {
          "model_module": "@jupyter-widgets/base",
          "model_name": "LayoutModel",
          "state": {
            "_view_name": "LayoutView",
            "grid_template_rows": null,
            "right": null,
            "justify_content": null,
            "_view_module": "@jupyter-widgets/base",
            "overflow": null,
            "_model_module_version": "1.2.0",
            "_view_count": null,
            "flex_flow": null,
            "width": null,
            "min_width": null,
            "border": null,
            "align_items": null,
            "bottom": null,
            "_model_module": "@jupyter-widgets/base",
            "top": null,
            "grid_column": null,
            "overflow_y": null,
            "overflow_x": null,
            "grid_auto_flow": null,
            "grid_area": null,
            "grid_template_columns": null,
            "flex": null,
            "_model_name": "LayoutModel",
            "justify_items": null,
            "grid_row": null,
            "max_height": null,
            "align_content": null,
            "visibility": null,
            "align_self": null,
            "height": null,
            "min_height": null,
            "padding": null,
            "grid_auto_rows": null,
            "grid_gap": null,
            "max_width": null,
            "order": null,
            "_view_module_version": "1.2.0",
            "grid_template_areas": null,
            "object_position": null,
            "object_fit": null,
            "grid_auto_columns": null,
            "margin": null,
            "display": null,
            "left": null
          }
        },
        "25e6cc0d1e4945b1aec4e114e6ee8b6c": {
          "model_module": "@jupyter-widgets/controls",
          "model_name": "DescriptionStyleModel",
          "state": {
            "_view_name": "StyleView",
            "_model_name": "DescriptionStyleModel",
            "description_width": "",
            "_view_module": "@jupyter-widgets/base",
            "_model_module_version": "1.5.0",
            "_view_count": null,
            "_view_module_version": "1.2.0",
            "_model_module": "@jupyter-widgets/controls"
          }
        },
        "8da45e51635c4ce58dadb8c495165f61": {
          "model_module": "@jupyter-widgets/base",
          "model_name": "LayoutModel",
          "state": {
            "_view_name": "LayoutView",
            "grid_template_rows": null,
            "right": null,
            "justify_content": null,
            "_view_module": "@jupyter-widgets/base",
            "overflow": null,
            "_model_module_version": "1.2.0",
            "_view_count": null,
            "flex_flow": null,
            "width": null,
            "min_width": null,
            "border": null,
            "align_items": null,
            "bottom": null,
            "_model_module": "@jupyter-widgets/base",
            "top": null,
            "grid_column": null,
            "overflow_y": null,
            "overflow_x": null,
            "grid_auto_flow": null,
            "grid_area": null,
            "grid_template_columns": null,
            "flex": null,
            "_model_name": "LayoutModel",
            "justify_items": null,
            "grid_row": null,
            "max_height": null,
            "align_content": null,
            "visibility": null,
            "align_self": null,
            "height": null,
            "min_height": null,
            "padding": null,
            "grid_auto_rows": null,
            "grid_gap": null,
            "max_width": null,
            "order": null,
            "_view_module_version": "1.2.0",
            "grid_template_areas": null,
            "object_position": null,
            "object_fit": null,
            "grid_auto_columns": null,
            "margin": null,
            "display": null,
            "left": null
          }
        },
        "3eb3960563a64aaca433aca2edfa16d8": {
          "model_module": "@jupyter-widgets/controls",
          "model_name": "HBoxModel",
          "state": {
            "_view_name": "HBoxView",
            "_dom_classes": [],
            "_model_name": "HBoxModel",
            "_view_module": "@jupyter-widgets/controls",
            "_model_module_version": "1.5.0",
            "_view_count": null,
            "_view_module_version": "1.5.0",
            "box_style": "",
            "layout": "IPY_MODEL_1c8e8f14750d45c98ebc0123a404a594",
            "_model_module": "@jupyter-widgets/controls",
            "children": [
              "IPY_MODEL_807c207b487940b3a31477029cb1a032",
              "IPY_MODEL_cdd3f1853cd04f0baa884451b793072d"
            ]
          }
        },
        "1c8e8f14750d45c98ebc0123a404a594": {
          "model_module": "@jupyter-widgets/base",
          "model_name": "LayoutModel",
          "state": {
            "_view_name": "LayoutView",
            "grid_template_rows": null,
            "right": null,
            "justify_content": null,
            "_view_module": "@jupyter-widgets/base",
            "overflow": null,
            "_model_module_version": "1.2.0",
            "_view_count": null,
            "flex_flow": null,
            "width": null,
            "min_width": null,
            "border": null,
            "align_items": null,
            "bottom": null,
            "_model_module": "@jupyter-widgets/base",
            "top": null,
            "grid_column": null,
            "overflow_y": null,
            "overflow_x": null,
            "grid_auto_flow": null,
            "grid_area": null,
            "grid_template_columns": null,
            "flex": null,
            "_model_name": "LayoutModel",
            "justify_items": null,
            "grid_row": null,
            "max_height": null,
            "align_content": null,
            "visibility": null,
            "align_self": null,
            "height": null,
            "min_height": null,
            "padding": null,
            "grid_auto_rows": null,
            "grid_gap": null,
            "max_width": null,
            "order": null,
            "_view_module_version": "1.2.0",
            "grid_template_areas": null,
            "object_position": null,
            "object_fit": null,
            "grid_auto_columns": null,
            "margin": null,
            "display": null,
            "left": null
          }
        },
        "807c207b487940b3a31477029cb1a032": {
          "model_module": "@jupyter-widgets/controls",
          "model_name": "FloatProgressModel",
          "state": {
            "_view_name": "ProgressView",
            "style": "IPY_MODEL_586fe3f0562944169ae91de646ba872e",
            "_dom_classes": [],
            "description": "100%",
            "_model_name": "FloatProgressModel",
            "bar_style": "success",
            "max": 393,
            "_view_module": "@jupyter-widgets/controls",
            "_model_module_version": "1.5.0",
            "value": 393,
            "_view_count": null,
            "_view_module_version": "1.5.0",
            "orientation": "horizontal",
            "min": 0,
            "description_tooltip": null,
            "_model_module": "@jupyter-widgets/controls",
            "layout": "IPY_MODEL_31df11cd04874efd9b6c50b1c47c8ab0"
          }
        },
        "cdd3f1853cd04f0baa884451b793072d": {
          "model_module": "@jupyter-widgets/controls",
          "model_name": "HTMLModel",
          "state": {
            "_view_name": "HTMLView",
            "style": "IPY_MODEL_722cb92374e148a9a9a502888d077856",
            "_dom_classes": [],
            "description": "",
            "_model_name": "HTMLModel",
            "placeholder": "​",
            "_view_module": "@jupyter-widgets/controls",
            "_model_module_version": "1.5.0",
            "value": " 393/393 [37:09&lt;00:00,  5.67s/it]",
            "_view_count": null,
            "_view_module_version": "1.5.0",
            "description_tooltip": null,
            "_model_module": "@jupyter-widgets/controls",
            "layout": "IPY_MODEL_25e175c579ed49abb2a30c825a31abd2"
          }
        },
        "586fe3f0562944169ae91de646ba872e": {
          "model_module": "@jupyter-widgets/controls",
          "model_name": "ProgressStyleModel",
          "state": {
            "_view_name": "StyleView",
            "_model_name": "ProgressStyleModel",
            "description_width": "initial",
            "_view_module": "@jupyter-widgets/base",
            "_model_module_version": "1.5.0",
            "_view_count": null,
            "_view_module_version": "1.2.0",
            "bar_color": null,
            "_model_module": "@jupyter-widgets/controls"
          }
        },
        "31df11cd04874efd9b6c50b1c47c8ab0": {
          "model_module": "@jupyter-widgets/base",
          "model_name": "LayoutModel",
          "state": {
            "_view_name": "LayoutView",
            "grid_template_rows": null,
            "right": null,
            "justify_content": null,
            "_view_module": "@jupyter-widgets/base",
            "overflow": null,
            "_model_module_version": "1.2.0",
            "_view_count": null,
            "flex_flow": null,
            "width": null,
            "min_width": null,
            "border": null,
            "align_items": null,
            "bottom": null,
            "_model_module": "@jupyter-widgets/base",
            "top": null,
            "grid_column": null,
            "overflow_y": null,
            "overflow_x": null,
            "grid_auto_flow": null,
            "grid_area": null,
            "grid_template_columns": null,
            "flex": null,
            "_model_name": "LayoutModel",
            "justify_items": null,
            "grid_row": null,
            "max_height": null,
            "align_content": null,
            "visibility": null,
            "align_self": null,
            "height": null,
            "min_height": null,
            "padding": null,
            "grid_auto_rows": null,
            "grid_gap": null,
            "max_width": null,
            "order": null,
            "_view_module_version": "1.2.0",
            "grid_template_areas": null,
            "object_position": null,
            "object_fit": null,
            "grid_auto_columns": null,
            "margin": null,
            "display": null,
            "left": null
          }
        },
        "722cb92374e148a9a9a502888d077856": {
          "model_module": "@jupyter-widgets/controls",
          "model_name": "DescriptionStyleModel",
          "state": {
            "_view_name": "StyleView",
            "_model_name": "DescriptionStyleModel",
            "description_width": "",
            "_view_module": "@jupyter-widgets/base",
            "_model_module_version": "1.5.0",
            "_view_count": null,
            "_view_module_version": "1.2.0",
            "_model_module": "@jupyter-widgets/controls"
          }
        },
        "25e175c579ed49abb2a30c825a31abd2": {
          "model_module": "@jupyter-widgets/base",
          "model_name": "LayoutModel",
          "state": {
            "_view_name": "LayoutView",
            "grid_template_rows": null,
            "right": null,
            "justify_content": null,
            "_view_module": "@jupyter-widgets/base",
            "overflow": null,
            "_model_module_version": "1.2.0",
            "_view_count": null,
            "flex_flow": null,
            "width": null,
            "min_width": null,
            "border": null,
            "align_items": null,
            "bottom": null,
            "_model_module": "@jupyter-widgets/base",
            "top": null,
            "grid_column": null,
            "overflow_y": null,
            "overflow_x": null,
            "grid_auto_flow": null,
            "grid_area": null,
            "grid_template_columns": null,
            "flex": null,
            "_model_name": "LayoutModel",
            "justify_items": null,
            "grid_row": null,
            "max_height": null,
            "align_content": null,
            "visibility": null,
            "align_self": null,
            "height": null,
            "min_height": null,
            "padding": null,
            "grid_auto_rows": null,
            "grid_gap": null,
            "max_width": null,
            "order": null,
            "_view_module_version": "1.2.0",
            "grid_template_areas": null,
            "object_position": null,
            "object_fit": null,
            "grid_auto_columns": null,
            "margin": null,
            "display": null,
            "left": null
          }
        }
      }
    }
  },
  "cells": [
    {
      "cell_type": "markdown",
      "metadata": {
        "id": "view-in-github",
        "colab_type": "text"
      },
      "source": [
        "<a href=\"https://colab.research.google.com/github/adnaneaabbar/stock-trading-system/blob/master/stock_trading_system.ipynb\" target=\"_parent\"><img src=\"https://colab.research.google.com/assets/colab-badge.svg\" alt=\"Open In Colab\"/></a>"
      ]
    },
    {
      "cell_type": "markdown",
      "metadata": {
        "id": "4f2W_a4TUkei",
        "colab_type": "text"
      },
      "source": [
        "Nous allons tout d'abord faire l'étude, sur la banque d'investissement GS - Goldman Sachs Inc. Nous allons essayer de prédire à l'aide de séries chronologiques les prix de leurs actions.\n",
        "\n",
        "---\n",
        "\n",
        "# Etude à base de modèle LSTM\n",
        "\n",
        "\n",
        "---\n",
        "\n",
        "## Etape 1 : Chargement et analyse des données.\n",
        "\n",
        "Nous utiliserons les données historiques des 10 dernières années du cours des actions de GS. Vous pouvez trouver les données sur yahoo finance.\n"
      ]
    },
    {
      "cell_type": "code",
      "metadata": {
        "id": "_3USqhyhU3Dh",
        "colab_type": "code",
        "colab": {}
      },
      "source": [
        "import numpy as np\n",
        "import pandas as pd "
      ],
      "execution_count": 0,
      "outputs": []
    },
    {
      "cell_type": "code",
      "metadata": {
        "id": "l9oBxgb0X_qz",
        "colab_type": "code",
        "colab": {}
      },
      "source": [
        "url = 'https://raw.githubusercontent.com/adnaneaabbar/stock-trading-system/master/data/goldman_sachs.csv?token=AKSKTRUAR2AK2UA6KZLPFDC6Z5GH4'\n",
        "gs = pd.read_csv(url)"
      ],
      "execution_count": 0,
      "outputs": []
    },
    {
      "cell_type": "code",
      "metadata": {
        "id": "r26rdGWjZ8Rh",
        "colab_type": "code",
        "outputId": "d8ab643d-5ca8-4d76-88fc-1d8235be8bd7",
        "colab": {
          "base_uri": "https://localhost:8080/",
          "height": 204
        }
      },
      "source": [
        "gs.head()"
      ],
      "execution_count": 4,
      "outputs": [
        {
          "output_type": "execute_result",
          "data": {
            "text/html": [
              "<div>\n",
              "<style scoped>\n",
              "    .dataframe tbody tr th:only-of-type {\n",
              "        vertical-align: middle;\n",
              "    }\n",
              "\n",
              "    .dataframe tbody tr th {\n",
              "        vertical-align: top;\n",
              "    }\n",
              "\n",
              "    .dataframe thead th {\n",
              "        text-align: right;\n",
              "    }\n",
              "</style>\n",
              "<table border=\"1\" class=\"dataframe\">\n",
              "  <thead>\n",
              "    <tr style=\"text-align: right;\">\n",
              "      <th></th>\n",
              "      <th>Date</th>\n",
              "      <th>Open</th>\n",
              "      <th>High</th>\n",
              "      <th>Low</th>\n",
              "      <th>Close</th>\n",
              "      <th>Adj Close</th>\n",
              "      <th>Volume</th>\n",
              "    </tr>\n",
              "  </thead>\n",
              "  <tbody>\n",
              "    <tr>\n",
              "      <th>0</th>\n",
              "      <td>2009-12-31</td>\n",
              "      <td>167.289993</td>\n",
              "      <td>170.130005</td>\n",
              "      <td>166.929993</td>\n",
              "      <td>168.839996</td>\n",
              "      <td>146.078110</td>\n",
              "      <td>6401800</td>\n",
              "    </tr>\n",
              "    <tr>\n",
              "      <th>1</th>\n",
              "      <td>2010-01-04</td>\n",
              "      <td>170.050003</td>\n",
              "      <td>174.250000</td>\n",
              "      <td>169.509995</td>\n",
              "      <td>173.080002</td>\n",
              "      <td>149.746597</td>\n",
              "      <td>9135000</td>\n",
              "    </tr>\n",
              "    <tr>\n",
              "      <th>2</th>\n",
              "      <td>2010-01-05</td>\n",
              "      <td>173.000000</td>\n",
              "      <td>176.259995</td>\n",
              "      <td>172.570007</td>\n",
              "      <td>176.139999</td>\n",
              "      <td>152.394012</td>\n",
              "      <td>11659400</td>\n",
              "    </tr>\n",
              "    <tr>\n",
              "      <th>3</th>\n",
              "      <td>2010-01-06</td>\n",
              "      <td>175.380005</td>\n",
              "      <td>175.380005</td>\n",
              "      <td>173.759995</td>\n",
              "      <td>174.259995</td>\n",
              "      <td>150.767426</td>\n",
              "      <td>7381100</td>\n",
              "    </tr>\n",
              "    <tr>\n",
              "      <th>4</th>\n",
              "      <td>2010-01-07</td>\n",
              "      <td>174.320007</td>\n",
              "      <td>178.750000</td>\n",
              "      <td>173.949997</td>\n",
              "      <td>177.669998</td>\n",
              "      <td>153.717728</td>\n",
              "      <td>8727400</td>\n",
              "    </tr>\n",
              "  </tbody>\n",
              "</table>\n",
              "</div>"
            ],
            "text/plain": [
              "         Date        Open        High  ...       Close   Adj Close    Volume\n",
              "0  2009-12-31  167.289993  170.130005  ...  168.839996  146.078110   6401800\n",
              "1  2010-01-04  170.050003  174.250000  ...  173.080002  149.746597   9135000\n",
              "2  2010-01-05  173.000000  176.259995  ...  176.139999  152.394012  11659400\n",
              "3  2010-01-06  175.380005  175.380005  ...  174.259995  150.767426   7381100\n",
              "4  2010-01-07  174.320007  178.750000  ...  177.669998  153.717728   8727400\n",
              "\n",
              "[5 rows x 7 columns]"
            ]
          },
          "metadata": {
            "tags": []
          },
          "execution_count": 4
        }
      ]
    },
    {
      "cell_type": "code",
      "metadata": {
        "id": "ya_YX1uqaJPG",
        "colab_type": "code",
        "outputId": "43f16f51-604a-4fa3-e6d6-7209a9c433c6",
        "colab": {
          "base_uri": "https://localhost:8080/",
          "height": 204
        }
      },
      "source": [
        "gs.tail()"
      ],
      "execution_count": 5,
      "outputs": [
        {
          "output_type": "execute_result",
          "data": {
            "text/html": [
              "<div>\n",
              "<style scoped>\n",
              "    .dataframe tbody tr th:only-of-type {\n",
              "        vertical-align: middle;\n",
              "    }\n",
              "\n",
              "    .dataframe tbody tr th {\n",
              "        vertical-align: top;\n",
              "    }\n",
              "\n",
              "    .dataframe thead th {\n",
              "        text-align: right;\n",
              "    }\n",
              "</style>\n",
              "<table border=\"1\" class=\"dataframe\">\n",
              "  <thead>\n",
              "    <tr style=\"text-align: right;\">\n",
              "      <th></th>\n",
              "      <th>Date</th>\n",
              "      <th>Open</th>\n",
              "      <th>High</th>\n",
              "      <th>Low</th>\n",
              "      <th>Close</th>\n",
              "      <th>Adj Close</th>\n",
              "      <th>Volume</th>\n",
              "    </tr>\n",
              "  </thead>\n",
              "  <tbody>\n",
              "    <tr>\n",
              "      <th>2260</th>\n",
              "      <td>2018-12-24</td>\n",
              "      <td>159.000000</td>\n",
              "      <td>160.000000</td>\n",
              "      <td>154.309998</td>\n",
              "      <td>156.350006</td>\n",
              "      <td>152.260864</td>\n",
              "      <td>3783500</td>\n",
              "    </tr>\n",
              "    <tr>\n",
              "      <th>2261</th>\n",
              "      <td>2018-12-26</td>\n",
              "      <td>157.000000</td>\n",
              "      <td>163.110001</td>\n",
              "      <td>151.699997</td>\n",
              "      <td>162.929993</td>\n",
              "      <td>158.668777</td>\n",
              "      <td>7054700</td>\n",
              "    </tr>\n",
              "    <tr>\n",
              "      <th>2262</th>\n",
              "      <td>2018-12-27</td>\n",
              "      <td>160.119995</td>\n",
              "      <td>165.410004</td>\n",
              "      <td>159.020004</td>\n",
              "      <td>165.410004</td>\n",
              "      <td>161.083923</td>\n",
              "      <td>4973000</td>\n",
              "    </tr>\n",
              "    <tr>\n",
              "      <th>2263</th>\n",
              "      <td>2018-12-28</td>\n",
              "      <td>165.639999</td>\n",
              "      <td>165.949997</td>\n",
              "      <td>162.020004</td>\n",
              "      <td>163.029999</td>\n",
              "      <td>158.766159</td>\n",
              "      <td>4110500</td>\n",
              "    </tr>\n",
              "    <tr>\n",
              "      <th>2264</th>\n",
              "      <td>2018-12-31</td>\n",
              "      <td>163.779999</td>\n",
              "      <td>167.119995</td>\n",
              "      <td>163.779999</td>\n",
              "      <td>167.050003</td>\n",
              "      <td>162.681030</td>\n",
              "      <td>4550000</td>\n",
              "    </tr>\n",
              "  </tbody>\n",
              "</table>\n",
              "</div>"
            ],
            "text/plain": [
              "            Date        Open        High  ...       Close   Adj Close   Volume\n",
              "2260  2018-12-24  159.000000  160.000000  ...  156.350006  152.260864  3783500\n",
              "2261  2018-12-26  157.000000  163.110001  ...  162.929993  158.668777  7054700\n",
              "2262  2018-12-27  160.119995  165.410004  ...  165.410004  161.083923  4973000\n",
              "2263  2018-12-28  165.639999  165.949997  ...  163.029999  158.766159  4110500\n",
              "2264  2018-12-31  163.779999  167.119995  ...  167.050003  162.681030  4550000\n",
              "\n",
              "[5 rows x 7 columns]"
            ]
          },
          "metadata": {
            "tags": []
          },
          "execution_count": 5
        }
      ]
    },
    {
      "cell_type": "markdown",
      "metadata": {
        "id": "FANml5p5co4j",
        "colab_type": "text"
      },
      "source": [
        "\n",
        "Comme vous pouvez le voir, il y a 2265 lignes, chacune représentant les attributs boursiers d'une journée pour la banque. Traçons les différents attributs :"
      ]
    },
    {
      "cell_type": "code",
      "metadata": {
        "id": "JRpvJhO1c_G1",
        "colab_type": "code",
        "outputId": "ef9229b3-37b5-429a-b170-ffec085bf773",
        "colab": {
          "base_uri": "https://localhost:8080/",
          "height": 530
        }
      },
      "source": [
        "from matplotlib import pyplot as plt\n",
        "from matplotlib import style\n",
        "style.use('dark_background')\n",
        "\n",
        "plt.figure()\n",
        "plt.figure(figsize=(15,8))\n",
        "plt.plot(gs[\"Open\"])\n",
        "plt.plot(gs[\"High\"])\n",
        "plt.plot(gs[\"Low\"])\n",
        "plt.plot(gs[\"Close\"])\n",
        "plt.title('Historique des prix des actions de GS')\n",
        "plt.ylabel('Prix USD')\n",
        "plt.xlabel('Jours')\n",
        "plt.legend(['Open','High','Low','Close'], loc='upper left')\n",
        "plt.show()"
      ],
      "execution_count": 6,
      "outputs": [
        {
          "output_type": "display_data",
          "data": {
            "text/plain": [
              "<Figure size 432x288 with 0 Axes>"
            ]
          },
          "metadata": {
            "tags": []
          }
        },
        {
          "output_type": "display_data",
          "data": {
            "image/png": "[encoded data removed]",
            "text/plain": [
              "<Figure size 1080x576 with 1 Axes>"
            ]
          },
          "metadata": {
            "tags": []
          }
        }
      ]
    },
    {
      "cell_type": "markdown",
      "metadata": {
        "id": "LTX6GHK7fumo",
        "colab_type": "text"
      },
      "source": [
        "\n",
        "Les prix - Open, Close, Low, High - ne varient pas trop les uns des autres, sauf occasionnellement. Traçons le Volume:"
      ]
    },
    {
      "cell_type": "code",
      "metadata": {
        "id": "VicBEOXdgDky",
        "colab_type": "code",
        "outputId": "c76e9400-d980-4305-d410-8e543383643c",
        "colab": {
          "base_uri": "https://localhost:8080/",
          "height": 530
        }
      },
      "source": [
        "plt.figure()\n",
        "plt.figure(figsize=(15,8))\n",
        "plt.plot(gs[\"Volume\"])\n",
        "plt.title('Historique du volume')\n",
        "plt.ylabel('Volume')\n",
        "plt.xlabel('Jours')\n",
        "plt.show()"
      ],
      "execution_count": 7,
      "outputs": [
        {
          "output_type": "display_data",
          "data": {
            "text/plain": [
              "<Figure size 432x288 with 0 Axes>"
            ]
          },
          "metadata": {
            "tags": []
          }
        },
        {
          "output_type": "display_data",
          "data": {
            "image/png": "[encoded data removed]",
            "text/plain": [
              "<Figure size 1080x576 with 1 Axes>"
            ]
          },
          "metadata": {
            "tags": []
          }
        }
      ]
    },
    {
      "cell_type": "markdown",
      "metadata": {
        "id": "ncT0wm8PXYaF",
        "colab_type": "text"
      },
      "source": [
        "Il y a une forte augmentation du nombre de transactions autour du 80ème jour sur la chronologie, qui coïncide avec la chute soudaine du cours des actions just après quelques jours.\n"
      ]
    },
    {
      "cell_type": "markdown",
      "metadata": {
        "id": "aEACIbZeYGhs",
        "colab_type": "text"
      },
      "source": [
        "Après avoir chargé les données, nous nous assurons que toutes les données sont présentes, lorsqu'une donnée n'existe pas, elle est remplacée par la valeur null ou NaN."
      ]
    },
    {
      "cell_type": "code",
      "metadata": {
        "id": "iSnAurY6YVZs",
        "colab_type": "code",
        "outputId": "53a28b70-ca08-486c-fe7b-d469b590fdcb",
        "colab": {
          "base_uri": "https://localhost:8080/",
          "height": 153
        }
      },
      "source": [
        "gs.isna().sum()"
      ],
      "execution_count": 8,
      "outputs": [
        {
          "output_type": "execute_result",
          "data": {
            "text/plain": [
              "Date         0\n",
              "Open         0\n",
              "High         0\n",
              "Low          0\n",
              "Close        0\n",
              "Adj Close    0\n",
              "Volume       0\n",
              "dtype: int64"
            ]
          },
          "metadata": {
            "tags": []
          },
          "execution_count": 8
        }
      ]
    },
    {
      "cell_type": "markdown",
      "metadata": {
        "id": "jJC7t_6YYddr",
        "colab_type": "text"
      },
      "source": [
        "Comme nous pouvons voir toutes les valeurs existent et de type int64."
      ]
    },
    {
      "cell_type": "markdown",
      "metadata": {
        "id": "0xjxv3K6aQe9",
        "colab_type": "text"
      },
      "source": [
        "## Etape 2 : Normalisation des données.\n",
        "\n",
        "Les données ne sont pas normalisées et la plage pour chaque colonne varie, en particulier le volume. La normalisation des données aide l'algorithme à converger, c'est-à-dire à trouver efficacement le minimum local / global. \n"
      ]
    },
    {
      "cell_type": "markdown",
      "metadata": {
        "id": "TKWOo1eGalsa",
        "colab_type": "text"
      },
      "source": [
        "Nous utiliserons MinMaxScaler de Sci-kit Learn. Mais avant cela, nous devons diviser l'ensemble de données en ensembles de données d'apprentissage(**training**) et de **test**. Je vais également convertir le *DataFrame* en *ndarray* dans le processus.\n"
      ]
    },
    {
      "cell_type": "code",
      "metadata": {
        "id": "AzzuaYx3a-7K",
        "colab_type": "code",
        "outputId": "90a21b88-1eeb-4af7-ab92-97d869a2068f",
        "colab": {
          "base_uri": "https://localhost:8080/",
          "height": 85
        }
      },
      "source": [
        "from sklearn.preprocessing import MinMaxScaler\n",
        "from sklearn.model_selection import train_test_split\n",
        "\n",
        "# definir les colonnes qu'on va nourrir à notre modèle d'apprentissage\n",
        "train_cols = [\"Open\",\"High\",\"Low\",\"Close\",\"Volume\"]\n",
        "\n",
        "# nous voulons 80% des données en training et les 20% qui restent pour tester le modèle sur des données qu'il n'a pas encore appris\n",
        "gs_train, gs_test = train_test_split(gs, train_size=0.8, test_size=0.2, shuffle=False)\n",
        "\n",
        "# regarder la forme de nos données, leur taille..\n",
        "print(gs_train.shape)\n",
        "print(gs_test.shape)\n",
        "\n",
        "# redimensionnement pour garder les colonnes qui nous interéssent\n",
        "x = gs_train.loc[:,train_cols].values\n",
        "xx = gs_test.loc[:,train_cols].values\n",
        "min_max_scaler = MinMaxScaler()\n",
        "x_train = min_max_scaler.fit_transform(x)\n",
        "x_test = min_max_scaler.transform(xx)\n",
        "\n",
        "print(x_train.shape)\n",
        "print(x_test.shape)"
      ],
      "execution_count": 9,
      "outputs": [
        {
          "output_type": "stream",
          "text": [
            "(1812, 7)\n",
            "(453, 7)\n",
            "(1812, 5)\n",
            "(453, 5)\n"
          ],
          "name": "stdout"
        }
      ]
    },
    {
      "cell_type": "markdown",
      "metadata": {
        "id": "cdDF9FZugdxA",
        "colab_type": "text"
      },
      "source": [
        "## Etape 3 : Conversion des données en séries chronologiques.\n",
        "\n",
        "\n",
        "Les ***LSTM***s consomment des entrées au format **[batch_size, time_steps, features]** un tableau tridimensionnel.\n",
        "\n",
        "\n",
        "*   ***batch_size*** : indique le nombre d'échantillons d'entrée que vous souhaitez que votre réseau processe avant de mettre à jour les poids. L'utilisation d'une très petite taille de lot réduit la vitesse de formation et d'autre part, l'utilisation d'une taille de lot trop grande réduit la capacité des modèles à se généraliser à différentes données et consomme également plus de mémoire.\n",
        "\n"
      ]
    },
    {
      "cell_type": "code",
      "metadata": {
        "id": "nBJMWi6KnrYD",
        "colab_type": "code",
        "colab": {}
      },
      "source": [
        "batch_size = 20"
      ],
      "execution_count": 0,
      "outputs": []
    },
    {
      "cell_type": "markdown",
      "metadata": {
        "id": "EvbdCMCLnqaw",
        "colab_type": "text"
      },
      "source": [
        "*   ***time_steps*** : définissent le nombre d'unités dans le temps passé que vous souhaitez que votre réseau prenne en considération. Dans notre cas, nous utiliserons la valeur **60**, c'est-à-dire que nous examinerons **2 mois** de données pour prédire le prix du jour suivant.\n",
        "\n"
      ]
    },
    {
      "cell_type": "code",
      "metadata": {
        "id": "v132N1BojpZy",
        "colab_type": "code",
        "colab": {}
      },
      "source": [
        "time_steps = 60"
      ],
      "execution_count": 0,
      "outputs": []
    },
    {
      "cell_type": "markdown",
      "metadata": {
        "id": "MzY2w-XckKO2",
        "colab_type": "text"
      },
      "source": [
        "\n",
        "\n",
        "*   ***features*** : indique le nombre d'attributs utilisés pour représenter chaque ***time_step***.\n",
        "\n",
        "\n",
        "Nous allons écrire deux fonctions qui vont nous permettre de faire cette conversion de nos données en séries chronologiques."
      ]
    },
    {
      "cell_type": "code",
      "metadata": {
        "id": "pqFCHqLQkyBC",
        "colab_type": "code",
        "colab": {
          "base_uri": "https://localhost:8080/",
          "height": 68
        },
        "outputId": "b5e091d8-3101-46ea-c700-86017279d96c"
      },
      "source": [
        "from tqdm._tqdm_notebook import tqdm_notebook\n",
        "\n",
        "def build_timeseries(matrix, y_col_index):\n",
        "    # y_col_index est l'indice dela colonne qui sera l'output\n",
        "    '''\n",
        "     le dernier échantillon permet de prédire la dernière case\n",
        "     donc le nombre total d'échantillons est len(matrix) - time_steps\n",
        "    '''\n",
        "    n = matrix.shape[0] - time_steps\n",
        "    m = matrix.shape[1]\n",
        "\n",
        "    x = np.zeros((n, time_steps, m))\n",
        "    y = np.zeros((n,))\n",
        "    \n",
        "    for i in tqdm_notebook(range(n)):\n",
        "        x[i] = matrix[i:time_steps+i]\n",
        "        y[i] = matrix[time_steps+i, y_col_index]\n",
        "    print(\"La taille de la série chronologique est :\\nInput : \", x.shape, \"\\nOutput : \", y.shape)\n",
        "    return x, y"
      ],
      "execution_count": 12,
      "outputs": [
        {
          "output_type": "stream",
          "text": [
            "/usr/local/lib/python3.6/dist-packages/ipykernel_launcher.py:1: TqdmDeprecationWarning: This function will be removed in tqdm==5.0.0\n",
            "Please use `tqdm.notebook.*` instead of `tqdm._tqdm_notebook.*`\n",
            "  \"\"\"Entry point for launching an IPython kernel.\n"
          ],
          "name": "stderr"
        }
      ]
    },
    {
      "cell_type": "markdown",
      "metadata": {
        "id": "9GbDvmqQoXff",
        "colab_type": "text"
      },
      "source": [
        "\n",
        "***y_col_index*** est l'indice de la colonne output. Supposons maintenant qu'après la conversion des données vous avez **41 échantillons** dans votre jeu de données d'entraînement mais votre ***batch_size*** est de **20** nous aurons un échantillon qui ne sera pas utilisé."
      ]
    },
    {
      "cell_type": "markdown",
      "metadata": {
        "id": "Yxa8_VGopThD",
        "colab_type": "text"
      },
      "source": [
        "Pour raison de nettoyage de données, nous devrons couper l'ensemble d'apprentissage pour supprimer les échantillons laissés de côté."
      ]
    },
    {
      "cell_type": "code",
      "metadata": {
        "id": "JnrssQHFpUoU",
        "colab_type": "code",
        "colab": {}
      },
      "source": [
        "# coupe l'ensemble d'apprentissage en une taille divisible par le batch_size\n",
        "def trim_dataset(matrix, batch_size):\n",
        "    rows_to_drop = matrix.shape[0] % batch_size\n",
        "    if(rows_to_drop > 0):\n",
        "        return matrix[:-rows_to_drop] # retire rows_to_drop ligne depuis la fin\n",
        "    else:\n",
        "        return matrix"
      ],
      "execution_count": 0,
      "outputs": []
    },
    {
      "cell_type": "markdown",
      "metadata": {
        "id": "xcS50yaIqfh0",
        "colab_type": "text"
      },
      "source": [
        "### Maintenant on peut faire la conversion de notre dataset."
      ]
    },
    {
      "cell_type": "code",
      "metadata": {
        "id": "BpMescPrqcR6",
        "colab_type": "code",
        "outputId": "b1fc05ee-b45e-4bc2-d249-5a41384242a8",
        "colab": {
          "base_uri": "https://localhost:8080/",
          "height": 217,
          "referenced_widgets": [
            "80d419dc44ce4ff8b6ee90524fd36682",
            "44e25d55f8e9409da02629926065e761",
            "f1bb0c811070438ca74d1e0b8640def3",
            "331bdf49f56d40b882cc833a3dbf43a9",
            "8e452b1b052246cfab495803b85cafaf",
            "c87f03e4c40d420fa846b4cbfe4afb55",
            "25e6cc0d1e4945b1aec4e114e6ee8b6c",
            "8da45e51635c4ce58dadb8c495165f61",
            "3eb3960563a64aaca433aca2edfa16d8",
            "1c8e8f14750d45c98ebc0123a404a594",
            "807c207b487940b3a31477029cb1a032",
            "cdd3f1853cd04f0baa884451b793072d",
            "586fe3f0562944169ae91de646ba872e",
            "31df11cd04874efd9b6c50b1c47c8ab0",
            "722cb92374e148a9a9a502888d077856",
            "25e175c579ed49abb2a30c825a31abd2"
          ]
        }
      },
      "source": [
        "# training set\n",
        "x_t, y_t = build_timeseries(x_train, 3) # y_col_index=3 car on prédit la colonne prix 'Close'\n",
        "x_t = trim_dataset(x_t, batch_size)\n",
        "y_t = trim_dataset(y_t, batch_size)\n",
        "\n",
        "# validation set and test set\n",
        "x_temp, y_temp = build_timeseries(x_test, 3)\n",
        "x_val, x_test_t = np.split(trim_dataset(x_temp, batch_size), 2)\n",
        "y_val, y_test_t = np.split(trim_dataset(y_temp, batch_size), 2)"
      ],
      "execution_count": 14,
      "outputs": [
        {
          "output_type": "display_data",
          "data": {
            "application/vnd.jupyter.widget-view+json": {
              "model_id": "80d419dc44ce4ff8b6ee90524fd36682",
              "version_minor": 0,
              "version_major": 2
            },
            "text/plain": [
              "HBox(children=(FloatProgress(value=0.0, max=1752.0), HTML(value='')))"
            ]
          },
          "metadata": {
            "tags": []
          }
        },
        {
          "output_type": "stream",
          "text": [
            "\n",
            "La taille de la série chronologique est :\n",
            "Input :  (1752, 60, 5) \n",
            "Output :  (1752,)\n"
          ],
          "name": "stdout"
        },
        {
          "output_type": "display_data",
          "data": {
            "application/vnd.jupyter.widget-view+json": {
              "model_id": "3eb3960563a64aaca433aca2edfa16d8",
              "version_minor": 0,
              "version_major": 2
            },
            "text/plain": [
              "HBox(children=(FloatProgress(value=0.0, max=393.0), HTML(value='')))"
            ]
          },
          "metadata": {
            "tags": []
          }
        },
        {
          "output_type": "stream",
          "text": [
            "\n",
            "La taille de la série chronologique est :\n",
            "Input :  (393, 60, 5) \n",
            "Output :  (393,)\n"
          ],
          "name": "stdout"
        }
      ]
    },
    {
      "cell_type": "markdown",
      "metadata": {
        "id": "VjDv4_equaPZ",
        "colab_type": "text"
      },
      "source": [
        "## Etape 4 : Création du modèle.\n",
        "\n",
        "\n",
        "Le LSTM est une variation des réseaux de neurones récurrents, nous allons utiliser **une couche de 100 blocks LSTM**, **un dropout de 0.5** qui va permettre de désactiver la moitié des neurones aléatoirement pour accélérer l'apprentissage, **une couche** qui applique la fonction ***relu*** qui est tout simplement la fonction x -> max(x, 0) effectuée élément par élément, et enfin **une couche** qui applique la fonction ***sigmoid*** .\n",
        "\n",
        "![alt text](https://wikimedia.org/api/rest_v1/media/math/render/svg/13a5596ec9730facb11304344463632904f83242)\n",
        "\n",
        "Nous allons laisser le modèle s'entraîner à minimiser la fonction de coût qui est l'**erreur en moyenne quadratique MSE** à l'aide de l'algorithme d'optimistion RMSprop, nous allons fixer le pas d'apprentissage à 0.0001 en avançant vers le minimum de cette fonction de coût, nous pourrions le changer si nous voulons et voir ce qui se passerait.\n"
      ]
    },
    {
      "cell_type": "code",
      "metadata": {
        "id": "VNcXnuF5sabD",
        "colab_type": "code",
        "colab": {}
      },
      "source": [
        "from keras.models import Sequential\n",
        "from keras.layers import Dense, Dropout\n",
        "from keras.layers import LSTM\n",
        "from keras import optimizers\n",
        "\n",
        "learning_rate = 1e-4\n",
        "optimizer = optimizers.RMSprop(lr=learning_rate)"
      ],
      "execution_count": 0,
      "outputs": []
    },
    {
      "cell_type": "code",
      "metadata": {
        "id": "QmUX5ke51o3v",
        "colab_type": "code",
        "colab": {
          "base_uri": "https://localhost:8080/",
          "height": 289
        },
        "outputId": "238533b9-30ac-4737-b9cf-b53df2d4cac9"
      },
      "source": [
        "model = Sequential([\n",
        "    LSTM(100, batch_input_shape=(batch_size, time_steps, x_t.shape[2]), stateful=True, kernel_initializer='random_uniform'),\n",
        "    Dropout(0.5),\n",
        "    Dense(20,activation='relu'),\n",
        "    Dense(1,activation='sigmoid')                  \n",
        "])\n",
        "\n",
        "model.summary()\n",
        "\n",
        "model.compile(loss='mean_squared_error', optimizer=optimizer)"
      ],
      "execution_count": 25,
      "outputs": [
        {
          "output_type": "stream",
          "text": [
            "Model: \"sequential_1\"\n",
            "_________________________________________________________________\n",
            "Layer (type)                 Output Shape              Param #   \n",
            "=================================================================\n",
            "lstm_2 (LSTM)                (20, 100)                 42400     \n",
            "_________________________________________________________________\n",
            "dropout_2 (Dropout)          (20, 100)                 0         \n",
            "_________________________________________________________________\n",
            "dense_3 (Dense)              (20, 20)                  2020      \n",
            "_________________________________________________________________\n",
            "dense_4 (Dense)              (20, 1)                   21        \n",
            "=================================================================\n",
            "Total params: 44,441\n",
            "Trainable params: 44,441\n",
            "Non-trainable params: 0\n",
            "_________________________________________________________________\n"
          ],
          "name": "stdout"
        }
      ]
    },
    {
      "cell_type": "markdown",
      "metadata": {
        "id": "vI6-qWrd6Txg",
        "colab_type": "text"
      },
      "source": [
        "## Il ne reste plus qu'à lancer l'apprentissage."
      ]
    },
    {
      "cell_type": "code",
      "metadata": {
        "id": "KpKk96-u5shi",
        "colab_type": "code",
        "colab": {}
      },
      "source": [
        ""
      ],
      "execution_count": 0,
      "outputs": []
    }
  ]
}