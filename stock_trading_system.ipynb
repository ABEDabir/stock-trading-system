{
  "nbformat": 4,
  "nbformat_minor": 0,
  "metadata": {
    "colab": {
      "name": "stock-trading-system.ipynb",
      "provenance": [],
      "authorship_tag": "ABX9TyMPM63gNJ+hYIs9Z2/y1udS",
      "include_colab_link": true
    },
    "kernelspec": {
      "name": "python3",
      "display_name": "Python 3"
    },
    "widgets": {
      "application/vnd.jupyter.widget-state+json": {
        "7d638884d84243fd9f05cabeb88ecda0": {
          "model_module": "@jupyter-widgets/controls",
          "model_name": "HBoxModel",
          "state": {
            "_view_name": "HBoxView",
            "_dom_classes": [],
            "_model_name": "HBoxModel",
            "_view_module": "@jupyter-widgets/controls",
            "_model_module_version": "1.5.0",
            "_view_count": null,
            "_view_module_version": "1.5.0",
            "box_style": "",
            "layout": "IPY_MODEL_944da0d683a940aea9c32a54b273f8ce",
            "_model_module": "@jupyter-widgets/controls",
            "children": [
              "IPY_MODEL_415e0e4801764f4fb295370649360ba4",
              "IPY_MODEL_1051913a21a9424e9900e08318a5ca65"
            ]
          }
        },
        "944da0d683a940aea9c32a54b273f8ce": {
          "model_module": "@jupyter-widgets/base",
          "model_name": "LayoutModel",
          "state": {
            "_view_name": "LayoutView",
            "grid_template_rows": null,
            "right": null,
            "justify_content": null,
            "_view_module": "@jupyter-widgets/base",
            "overflow": null,
            "_model_module_version": "1.2.0",
            "_view_count": null,
            "flex_flow": null,
            "width": null,
            "min_width": null,
            "border": null,
            "align_items": null,
            "bottom": null,
            "_model_module": "@jupyter-widgets/base",
            "top": null,
            "grid_column": null,
            "overflow_y": null,
            "overflow_x": null,
            "grid_auto_flow": null,
            "grid_area": null,
            "grid_template_columns": null,
            "flex": null,
            "_model_name": "LayoutModel",
            "justify_items": null,
            "grid_row": null,
            "max_height": null,
            "align_content": null,
            "visibility": null,
            "align_self": null,
            "height": null,
            "min_height": null,
            "padding": null,
            "grid_auto_rows": null,
            "grid_gap": null,
            "max_width": null,
            "order": null,
            "_view_module_version": "1.2.0",
            "grid_template_areas": null,
            "object_position": null,
            "object_fit": null,
            "grid_auto_columns": null,
            "margin": null,
            "display": null,
            "left": null
          }
        },
        "415e0e4801764f4fb295370649360ba4": {
          "model_module": "@jupyter-widgets/controls",
          "model_name": "FloatProgressModel",
          "state": {
            "_view_name": "ProgressView",
            "style": "IPY_MODEL_2870d2d2cd754c11ad0549cac4e46629",
            "_dom_classes": [],
            "description": "100%",
            "_model_name": "FloatProgressModel",
            "bar_style": "success",
            "max": 11186,
            "_view_module": "@jupyter-widgets/controls",
            "_model_module_version": "1.5.0",
            "value": 11186,
            "_view_count": null,
            "_view_module_version": "1.5.0",
            "orientation": "horizontal",
            "min": 0,
            "description_tooltip": null,
            "_model_module": "@jupyter-widgets/controls",
            "layout": "IPY_MODEL_8105b7c6b5bc4b29a2fbf30be3fd5640"
          }
        },
        "1051913a21a9424e9900e08318a5ca65": {
          "model_module": "@jupyter-widgets/controls",
          "model_name": "HTMLModel",
          "state": {
            "_view_name": "HTMLView",
            "style": "IPY_MODEL_379acf6fae704c1d9991e1a8abb09b3c",
            "_dom_classes": [],
            "description": "",
            "_model_name": "HTMLModel",
            "placeholder": "​",
            "_view_module": "@jupyter-widgets/controls",
            "_model_module_version": "1.5.0",
            "value": " 11186/11186 [00:03&lt;00:00, 3578.24it/s]",
            "_view_count": null,
            "_view_module_version": "1.5.0",
            "description_tooltip": null,
            "_model_module": "@jupyter-widgets/controls",
            "layout": "IPY_MODEL_d40e9cfa7e194401b3cc6ec32b03fb23"
          }
        },
        "2870d2d2cd754c11ad0549cac4e46629": {
          "model_module": "@jupyter-widgets/controls",
          "model_name": "ProgressStyleModel",
          "state": {
            "_view_name": "StyleView",
            "_model_name": "ProgressStyleModel",
            "description_width": "initial",
            "_view_module": "@jupyter-widgets/base",
            "_model_module_version": "1.5.0",
            "_view_count": null,
            "_view_module_version": "1.2.0",
            "bar_color": null,
            "_model_module": "@jupyter-widgets/controls"
          }
        },
        "8105b7c6b5bc4b29a2fbf30be3fd5640": {
          "model_module": "@jupyter-widgets/base",
          "model_name": "LayoutModel",
          "state": {
            "_view_name": "LayoutView",
            "grid_template_rows": null,
            "right": null,
            "justify_content": null,
            "_view_module": "@jupyter-widgets/base",
            "overflow": null,
            "_model_module_version": "1.2.0",
            "_view_count": null,
            "flex_flow": null,
            "width": null,
            "min_width": null,
            "border": null,
            "align_items": null,
            "bottom": null,
            "_model_module": "@jupyter-widgets/base",
            "top": null,
            "grid_column": null,
            "overflow_y": null,
            "overflow_x": null,
            "grid_auto_flow": null,
            "grid_area": null,
            "grid_template_columns": null,
            "flex": null,
            "_model_name": "LayoutModel",
            "justify_items": null,
            "grid_row": null,
            "max_height": null,
            "align_content": null,
            "visibility": null,
            "align_self": null,
            "height": null,
            "min_height": null,
            "padding": null,
            "grid_auto_rows": null,
            "grid_gap": null,
            "max_width": null,
            "order": null,
            "_view_module_version": "1.2.0",
            "grid_template_areas": null,
            "object_position": null,
            "object_fit": null,
            "grid_auto_columns": null,
            "margin": null,
            "display": null,
            "left": null
          }
        },
        "379acf6fae704c1d9991e1a8abb09b3c": {
          "model_module": "@jupyter-widgets/controls",
          "model_name": "DescriptionStyleModel",
          "state": {
            "_view_name": "StyleView",
            "_model_name": "DescriptionStyleModel",
            "description_width": "",
            "_view_module": "@jupyter-widgets/base",
            "_model_module_version": "1.5.0",
            "_view_count": null,
            "_view_module_version": "1.2.0",
            "_model_module": "@jupyter-widgets/controls"
          }
        },
        "d40e9cfa7e194401b3cc6ec32b03fb23": {
          "model_module": "@jupyter-widgets/base",
          "model_name": "LayoutModel",
          "state": {
            "_view_name": "LayoutView",
            "grid_template_rows": null,
            "right": null,
            "justify_content": null,
            "_view_module": "@jupyter-widgets/base",
            "overflow": null,
            "_model_module_version": "1.2.0",
            "_view_count": null,
            "flex_flow": null,
            "width": null,
            "min_width": null,
            "border": null,
            "align_items": null,
            "bottom": null,
            "_model_module": "@jupyter-widgets/base",
            "top": null,
            "grid_column": null,
            "overflow_y": null,
            "overflow_x": null,
            "grid_auto_flow": null,
            "grid_area": null,
            "grid_template_columns": null,
            "flex": null,
            "_model_name": "LayoutModel",
            "justify_items": null,
            "grid_row": null,
            "max_height": null,
            "align_content": null,
            "visibility": null,
            "align_self": null,
            "height": null,
            "min_height": null,
            "padding": null,
            "grid_auto_rows": null,
            "grid_gap": null,
            "max_width": null,
            "order": null,
            "_view_module_version": "1.2.0",
            "grid_template_areas": null,
            "object_position": null,
            "object_fit": null,
            "grid_auto_columns": null,
            "margin": null,
            "display": null,
            "left": null
          }
        },
        "a11a7181efb24584b4c57b047ca66d22": {
          "model_module": "@jupyter-widgets/controls",
          "model_name": "HBoxModel",
          "state": {
            "_view_name": "HBoxView",
            "_dom_classes": [],
            "_model_name": "HBoxModel",
            "_view_module": "@jupyter-widgets/controls",
            "_model_module_version": "1.5.0",
            "_view_count": null,
            "_view_module_version": "1.5.0",
            "box_style": "",
            "layout": "IPY_MODEL_c5f8ffb689134a6f8134c1a3e29799cf",
            "_model_module": "@jupyter-widgets/controls",
            "children": [
              "IPY_MODEL_650e42cc4ec24af994aacee8e07d3e20",
              "IPY_MODEL_100c5878d93c4191bd29a45b8827de3a"
            ]
          }
        },
        "c5f8ffb689134a6f8134c1a3e29799cf": {
          "model_module": "@jupyter-widgets/base",
          "model_name": "LayoutModel",
          "state": {
            "_view_name": "LayoutView",
            "grid_template_rows": null,
            "right": null,
            "justify_content": null,
            "_view_module": "@jupyter-widgets/base",
            "overflow": null,
            "_model_module_version": "1.2.0",
            "_view_count": null,
            "flex_flow": null,
            "width": null,
            "min_width": null,
            "border": null,
            "align_items": null,
            "bottom": null,
            "_model_module": "@jupyter-widgets/base",
            "top": null,
            "grid_column": null,
            "overflow_y": null,
            "overflow_x": null,
            "grid_auto_flow": null,
            "grid_area": null,
            "grid_template_columns": null,
            "flex": null,
            "_model_name": "LayoutModel",
            "justify_items": null,
            "grid_row": null,
            "max_height": null,
            "align_content": null,
            "visibility": null,
            "align_self": null,
            "height": null,
            "min_height": null,
            "padding": null,
            "grid_auto_rows": null,
            "grid_gap": null,
            "max_width": null,
            "order": null,
            "_view_module_version": "1.2.0",
            "grid_template_areas": null,
            "object_position": null,
            "object_fit": null,
            "grid_auto_columns": null,
            "margin": null,
            "display": null,
            "left": null
          }
        },
        "650e42cc4ec24af994aacee8e07d3e20": {
          "model_module": "@jupyter-widgets/controls",
          "model_name": "FloatProgressModel",
          "state": {
            "_view_name": "ProgressView",
            "style": "IPY_MODEL_d327a64260474436bcb29e012703aa7f",
            "_dom_classes": [],
            "description": "100%",
            "_model_name": "FloatProgressModel",
            "bar_style": "success",
            "max": 2752,
            "_view_module": "@jupyter-widgets/controls",
            "_model_module_version": "1.5.0",
            "value": 2752,
            "_view_count": null,
            "_view_module_version": "1.5.0",
            "orientation": "horizontal",
            "min": 0,
            "description_tooltip": null,
            "_model_module": "@jupyter-widgets/controls",
            "layout": "IPY_MODEL_4fdacd1163284257ae33e659011293e7"
          }
        },
        "100c5878d93c4191bd29a45b8827de3a": {
          "model_module": "@jupyter-widgets/controls",
          "model_name": "HTMLModel",
          "state": {
            "_view_name": "HTMLView",
            "style": "IPY_MODEL_1b209384ed06447bb03f6ac8ab828db2",
            "_dom_classes": [],
            "description": "",
            "_model_name": "HTMLModel",
            "placeholder": "​",
            "_view_module": "@jupyter-widgets/controls",
            "_model_module_version": "1.5.0",
            "value": " 2752/2752 [00:03&lt;00:00, 907.11it/s]",
            "_view_count": null,
            "_view_module_version": "1.5.0",
            "description_tooltip": null,
            "_model_module": "@jupyter-widgets/controls",
            "layout": "IPY_MODEL_6919d181f8c74331a6f2b6f6f6bd6be4"
          }
        },
        "d327a64260474436bcb29e012703aa7f": {
          "model_module": "@jupyter-widgets/controls",
          "model_name": "ProgressStyleModel",
          "state": {
            "_view_name": "StyleView",
            "_model_name": "ProgressStyleModel",
            "description_width": "initial",
            "_view_module": "@jupyter-widgets/base",
            "_model_module_version": "1.5.0",
            "_view_count": null,
            "_view_module_version": "1.2.0",
            "bar_color": null,
            "_model_module": "@jupyter-widgets/controls"
          }
        },
        "4fdacd1163284257ae33e659011293e7": {
          "model_module": "@jupyter-widgets/base",
          "model_name": "LayoutModel",
          "state": {
            "_view_name": "LayoutView",
            "grid_template_rows": null,
            "right": null,
            "justify_content": null,
            "_view_module": "@jupyter-widgets/base",
            "overflow": null,
            "_model_module_version": "1.2.0",
            "_view_count": null,
            "flex_flow": null,
            "width": null,
            "min_width": null,
            "border": null,
            "align_items": null,
            "bottom": null,
            "_model_module": "@jupyter-widgets/base",
            "top": null,
            "grid_column": null,
            "overflow_y": null,
            "overflow_x": null,
            "grid_auto_flow": null,
            "grid_area": null,
            "grid_template_columns": null,
            "flex": null,
            "_model_name": "LayoutModel",
            "justify_items": null,
            "grid_row": null,
            "max_height": null,
            "align_content": null,
            "visibility": null,
            "align_self": null,
            "height": null,
            "min_height": null,
            "padding": null,
            "grid_auto_rows": null,
            "grid_gap": null,
            "max_width": null,
            "order": null,
            "_view_module_version": "1.2.0",
            "grid_template_areas": null,
            "object_position": null,
            "object_fit": null,
            "grid_auto_columns": null,
            "margin": null,
            "display": null,
            "left": null
          }
        },
        "1b209384ed06447bb03f6ac8ab828db2": {
          "model_module": "@jupyter-widgets/controls",
          "model_name": "DescriptionStyleModel",
          "state": {
            "_view_name": "StyleView",
            "_model_name": "DescriptionStyleModel",
            "description_width": "",
            "_view_module": "@jupyter-widgets/base",
            "_model_module_version": "1.5.0",
            "_view_count": null,
            "_view_module_version": "1.2.0",
            "_model_module": "@jupyter-widgets/controls"
          }
        },
        "6919d181f8c74331a6f2b6f6f6bd6be4": {
          "model_module": "@jupyter-widgets/base",
          "model_name": "LayoutModel",
          "state": {
            "_view_name": "LayoutView",
            "grid_template_rows": null,
            "right": null,
            "justify_content": null,
            "_view_module": "@jupyter-widgets/base",
            "overflow": null,
            "_model_module_version": "1.2.0",
            "_view_count": null,
            "flex_flow": null,
            "width": null,
            "min_width": null,
            "border": null,
            "align_items": null,
            "bottom": null,
            "_model_module": "@jupyter-widgets/base",
            "top": null,
            "grid_column": null,
            "overflow_y": null,
            "overflow_x": null,
            "grid_auto_flow": null,
            "grid_area": null,
            "grid_template_columns": null,
            "flex": null,
            "_model_name": "LayoutModel",
            "justify_items": null,
            "grid_row": null,
            "max_height": null,
            "align_content": null,
            "visibility": null,
            "align_self": null,
            "height": null,
            "min_height": null,
            "padding": null,
            "grid_auto_rows": null,
            "grid_gap": null,
            "max_width": null,
            "order": null,
            "_view_module_version": "1.2.0",
            "grid_template_areas": null,
            "object_position": null,
            "object_fit": null,
            "grid_auto_columns": null,
            "margin": null,
            "display": null,
            "left": null
          }
        }
      }
    }
  },
  "cells": [
    {
      "cell_type": "markdown",
      "metadata": {
        "id": "view-in-github",
        "colab_type": "text"
      },
      "source": [
        "<a href=\"https://colab.research.google.com/github/adnaneaabbar/stock-trading-system/blob/master/stock_trading_system.ipynb\" target=\"_parent\"><img src=\"https://colab.research.google.com/assets/colab-badge.svg\" alt=\"Open In Colab\"/></a>"
      ]
    },
    {
      "cell_type": "markdown",
      "metadata": {
        "id": "4f2W_a4TUkei",
        "colab_type": "text"
      },
      "source": [
        "Nous allons tout d'abord faire l'étude, sur la GE - General Electric Co. Nous allons essayer de prédire à l'aide de séries chronologiques les prix de leurs actions.\n",
        "\n",
        "---\n",
        "\n",
        "# Etude à base de modèle LSTM\n",
        "\n",
        "\n",
        "---\n",
        "\n",
        "## Etape 1 : Chargement et analyse des données.\n",
        "\n",
        "Nous utiliserons les données historiques des 55 dernières années du cours des actions de GE. Vous pouvez trouver les données sur yahoo finance.\n"
      ]
    },
    {
      "cell_type": "code",
      "metadata": {
        "id": "_3USqhyhU3Dh",
        "colab_type": "code",
        "colab": {}
      },
      "source": [
        "import numpy as np\n",
        "import pandas as pd "
      ],
      "execution_count": 0,
      "outputs": []
    },
    {
      "cell_type": "code",
      "metadata": {
        "id": "l9oBxgb0X_qz",
        "colab_type": "code",
        "colab": {}
      },
      "source": [
        "url = 'https://raw.githubusercontent.com/adnaneaabbar/stock-trading-system/master/data/ge.csv?token=AKSKTRR27W6GPGTXETAZPWC6Z5T3K'\n",
        "gs = pd.read_csv(url)"
      ],
      "execution_count": 0,
      "outputs": []
    },
    {
      "cell_type": "code",
      "metadata": {
        "id": "r26rdGWjZ8Rh",
        "colab_type": "code",
        "outputId": "65a08ec1-78fb-4f3f-be86-8b704228a939",
        "colab": {
          "base_uri": "https://localhost:8080/",
          "height": 204
        }
      },
      "source": [
        "gs.head()"
      ],
      "execution_count": 0,
      "outputs": [
        {
          "output_type": "execute_result",
          "data": {
            "text/html": [
              "<div>\n",
              "<style scoped>\n",
              "    .dataframe tbody tr th:only-of-type {\n",
              "        vertical-align: middle;\n",
              "    }\n",
              "\n",
              "    .dataframe tbody tr th {\n",
              "        vertical-align: top;\n",
              "    }\n",
              "\n",
              "    .dataframe thead th {\n",
              "        text-align: right;\n",
              "    }\n",
              "</style>\n",
              "<table border=\"1\" class=\"dataframe\">\n",
              "  <thead>\n",
              "    <tr style=\"text-align: right;\">\n",
              "      <th></th>\n",
              "      <th>Date</th>\n",
              "      <th>Open</th>\n",
              "      <th>High</th>\n",
              "      <th>Low</th>\n",
              "      <th>Close</th>\n",
              "      <th>Volume</th>\n",
              "      <th>OpenInt</th>\n",
              "    </tr>\n",
              "  </thead>\n",
              "  <tbody>\n",
              "    <tr>\n",
              "      <th>0</th>\n",
              "      <td>1962-01-02</td>\n",
              "      <td>0.6277</td>\n",
              "      <td>0.6362</td>\n",
              "      <td>0.6201</td>\n",
              "      <td>0.6201</td>\n",
              "      <td>2575579</td>\n",
              "      <td>0</td>\n",
              "    </tr>\n",
              "    <tr>\n",
              "      <th>1</th>\n",
              "      <td>1962-01-03</td>\n",
              "      <td>0.6201</td>\n",
              "      <td>0.6201</td>\n",
              "      <td>0.6122</td>\n",
              "      <td>0.6201</td>\n",
              "      <td>1764749</td>\n",
              "      <td>0</td>\n",
              "    </tr>\n",
              "    <tr>\n",
              "      <th>2</th>\n",
              "      <td>1962-01-04</td>\n",
              "      <td>0.6201</td>\n",
              "      <td>0.6201</td>\n",
              "      <td>0.6037</td>\n",
              "      <td>0.6122</td>\n",
              "      <td>2194010</td>\n",
              "      <td>0</td>\n",
              "    </tr>\n",
              "    <tr>\n",
              "      <th>3</th>\n",
              "      <td>1962-01-05</td>\n",
              "      <td>0.6122</td>\n",
              "      <td>0.6122</td>\n",
              "      <td>0.5798</td>\n",
              "      <td>0.5957</td>\n",
              "      <td>3255244</td>\n",
              "      <td>0</td>\n",
              "    </tr>\n",
              "    <tr>\n",
              "      <th>4</th>\n",
              "      <td>1962-01-08</td>\n",
              "      <td>0.5957</td>\n",
              "      <td>0.5957</td>\n",
              "      <td>0.5716</td>\n",
              "      <td>0.5957</td>\n",
              "      <td>3696430</td>\n",
              "      <td>0</td>\n",
              "    </tr>\n",
              "  </tbody>\n",
              "</table>\n",
              "</div>"
            ],
            "text/plain": [
              "         Date    Open    High     Low   Close   Volume  OpenInt\n",
              "0  1962-01-02  0.6277  0.6362  0.6201  0.6201  2575579        0\n",
              "1  1962-01-03  0.6201  0.6201  0.6122  0.6201  1764749        0\n",
              "2  1962-01-04  0.6201  0.6201  0.6037  0.6122  2194010        0\n",
              "3  1962-01-05  0.6122  0.6122  0.5798  0.5957  3255244        0\n",
              "4  1962-01-08  0.5957  0.5957  0.5716  0.5957  3696430        0"
            ]
          },
          "metadata": {
            "tags": []
          },
          "execution_count": 4
        }
      ]
    },
    {
      "cell_type": "code",
      "metadata": {
        "id": "ya_YX1uqaJPG",
        "colab_type": "code",
        "outputId": "39da8c31-6ca0-4478-d57a-1b29f2c98b65",
        "colab": {
          "base_uri": "https://localhost:8080/",
          "height": 204
        }
      },
      "source": [
        "gs.tail()"
      ],
      "execution_count": 0,
      "outputs": [
        {
          "output_type": "execute_result",
          "data": {
            "text/html": [
              "<div>\n",
              "<style scoped>\n",
              "    .dataframe tbody tr th:only-of-type {\n",
              "        vertical-align: middle;\n",
              "    }\n",
              "\n",
              "    .dataframe tbody tr th {\n",
              "        vertical-align: top;\n",
              "    }\n",
              "\n",
              "    .dataframe thead th {\n",
              "        text-align: right;\n",
              "    }\n",
              "</style>\n",
              "<table border=\"1\" class=\"dataframe\">\n",
              "  <thead>\n",
              "    <tr style=\"text-align: right;\">\n",
              "      <th></th>\n",
              "      <th>Date</th>\n",
              "      <th>Open</th>\n",
              "      <th>High</th>\n",
              "      <th>Low</th>\n",
              "      <th>Close</th>\n",
              "      <th>Volume</th>\n",
              "      <th>OpenInt</th>\n",
              "    </tr>\n",
              "  </thead>\n",
              "  <tbody>\n",
              "    <tr>\n",
              "      <th>14053</th>\n",
              "      <td>2017-11-06</td>\n",
              "      <td>20.52</td>\n",
              "      <td>20.530</td>\n",
              "      <td>20.08</td>\n",
              "      <td>20.13</td>\n",
              "      <td>60641787</td>\n",
              "      <td>0</td>\n",
              "    </tr>\n",
              "    <tr>\n",
              "      <th>14054</th>\n",
              "      <td>2017-11-07</td>\n",
              "      <td>20.17</td>\n",
              "      <td>20.250</td>\n",
              "      <td>20.12</td>\n",
              "      <td>20.21</td>\n",
              "      <td>41622851</td>\n",
              "      <td>0</td>\n",
              "    </tr>\n",
              "    <tr>\n",
              "      <th>14055</th>\n",
              "      <td>2017-11-08</td>\n",
              "      <td>20.21</td>\n",
              "      <td>20.320</td>\n",
              "      <td>20.07</td>\n",
              "      <td>20.12</td>\n",
              "      <td>39672190</td>\n",
              "      <td>0</td>\n",
              "    </tr>\n",
              "    <tr>\n",
              "      <th>14056</th>\n",
              "      <td>2017-11-09</td>\n",
              "      <td>20.04</td>\n",
              "      <td>20.071</td>\n",
              "      <td>19.85</td>\n",
              "      <td>19.99</td>\n",
              "      <td>50831779</td>\n",
              "      <td>0</td>\n",
              "    </tr>\n",
              "    <tr>\n",
              "      <th>14057</th>\n",
              "      <td>2017-11-10</td>\n",
              "      <td>19.98</td>\n",
              "      <td>20.680</td>\n",
              "      <td>19.90</td>\n",
              "      <td>20.49</td>\n",
              "      <td>100698474</td>\n",
              "      <td>0</td>\n",
              "    </tr>\n",
              "  </tbody>\n",
              "</table>\n",
              "</div>"
            ],
            "text/plain": [
              "             Date   Open    High    Low  Close     Volume  OpenInt\n",
              "14053  2017-11-06  20.52  20.530  20.08  20.13   60641787        0\n",
              "14054  2017-11-07  20.17  20.250  20.12  20.21   41622851        0\n",
              "14055  2017-11-08  20.21  20.320  20.07  20.12   39672190        0\n",
              "14056  2017-11-09  20.04  20.071  19.85  19.99   50831779        0\n",
              "14057  2017-11-10  19.98  20.680  19.90  20.49  100698474        0"
            ]
          },
          "metadata": {
            "tags": []
          },
          "execution_count": 5
        }
      ]
    },
    {
      "cell_type": "markdown",
      "metadata": {
        "id": "FANml5p5co4j",
        "colab_type": "text"
      },
      "source": [
        "\n",
        "Comme vous pouvez le voir, il y a 2265 lignes, chacune représentant les attributs boursiers d'une journée pour la banque. Traçons les différents attributs :"
      ]
    },
    {
      "cell_type": "code",
      "metadata": {
        "id": "JRpvJhO1c_G1",
        "colab_type": "code",
        "outputId": "eb75631c-24f9-47fd-a31e-761da1bed980",
        "colab": {
          "base_uri": "https://localhost:8080/",
          "height": 528
        }
      },
      "source": [
        "from matplotlib import pyplot as plt\n",
        "from matplotlib import style\n",
        "style.use('dark_background')\n",
        "\n",
        "plt.figure()\n",
        "plt.figure(figsize=(15,8))\n",
        "plt.plot(gs[\"Open\"])\n",
        "plt.plot(gs[\"High\"])\n",
        "plt.plot(gs[\"Low\"])\n",
        "plt.plot(gs[\"Close\"])\n",
        "plt.title('Historique des prix des actions de GE')\n",
        "plt.ylabel('Prix USD')\n",
        "plt.xlabel('Jours')\n",
        "plt.legend(['Open','High','Low','Close'], loc='upper left')\n",
        "plt.show()"
      ],
      "execution_count": 31,
      "outputs": [
        {
          "output_type": "display_data",
          "data": {
            "text/plain": [
              "<Figure size 432x288 with 0 Axes>"
            ]
          },
          "metadata": {
            "tags": []
          }
        },
        {
          "output_type": "display_data",
          "data": {
            "image/png": "[encoded data removed]",
            "text/plain": [
              "<Figure size 1080x576 with 1 Axes>"
            ]
          },
          "metadata": {
            "tags": []
          }
        }
      ]
    },
    {
      "cell_type": "markdown",
      "metadata": {
        "id": "LTX6GHK7fumo",
        "colab_type": "text"
      },
      "source": [
        "\n",
        "Les prix - Open, Close, Low, High - ne varient pas trop les uns des autres, sauf occasionnellement. Traçons le Volume:"
      ]
    },
    {
      "cell_type": "code",
      "metadata": {
        "id": "VicBEOXdgDky",
        "colab_type": "code",
        "outputId": "2a335b8f-e6ca-47e0-bf72-09805a2250fb",
        "colab": {
          "base_uri": "https://localhost:8080/",
          "height": 530
        }
      },
      "source": [
        "plt.figure()\n",
        "plt.figure(figsize=(15,8))\n",
        "plt.plot(gs[\"Volume\"])\n",
        "plt.title('Historique du volume')\n",
        "plt.ylabel('Volume')\n",
        "plt.xlabel('Jours')\n",
        "plt.show()"
      ],
      "execution_count": 0,
      "outputs": [
        {
          "output_type": "display_data",
          "data": {
            "text/plain": [
              "<Figure size 432x288 with 0 Axes>"
            ]
          },
          "metadata": {
            "tags": []
          }
        },
        {
          "output_type": "display_data",
          "data": {
            "image/png": "[encoded data removed]",
            "text/plain": [
              "<Figure size 1080x576 with 1 Axes>"
            ]
          },
          "metadata": {
            "tags": []
          }
        }
      ]
    },
    {
      "cell_type": "markdown",
      "metadata": {
        "id": "ncT0wm8PXYaF",
        "colab_type": "text"
      },
      "source": [
        "Il y a une forte augmentation du nombre de transactions autour du 12000ème jour sur la chronologie, qui coïncide avec la chute soudaine du cours des actions just après quelques jours.\n"
      ]
    },
    {
      "cell_type": "markdown",
      "metadata": {
        "id": "aEACIbZeYGhs",
        "colab_type": "text"
      },
      "source": [
        "Après avoir chargé les données, nous nous assurons que toutes les données sont présentes, lorsqu'une donnée n'existe pas, elle est remplacée par la valeur null ou NaN."
      ]
    },
    {
      "cell_type": "code",
      "metadata": {
        "id": "iSnAurY6YVZs",
        "colab_type": "code",
        "outputId": "a5b2181d-5beb-43ba-97f7-0a09c94dd7b9",
        "colab": {
          "base_uri": "https://localhost:8080/",
          "height": 153
        }
      },
      "source": [
        "gs.isna().sum()"
      ],
      "execution_count": 0,
      "outputs": [
        {
          "output_type": "execute_result",
          "data": {
            "text/plain": [
              "Date       0\n",
              "Open       0\n",
              "High       0\n",
              "Low        0\n",
              "Close      0\n",
              "Volume     0\n",
              "OpenInt    0\n",
              "dtype: int64"
            ]
          },
          "metadata": {
            "tags": []
          },
          "execution_count": 8
        }
      ]
    },
    {
      "cell_type": "markdown",
      "metadata": {
        "id": "jJC7t_6YYddr",
        "colab_type": "text"
      },
      "source": [
        "Comme nous pouvons voir toutes les valeurs existent et de type int64."
      ]
    },
    {
      "cell_type": "markdown",
      "metadata": {
        "id": "0xjxv3K6aQe9",
        "colab_type": "text"
      },
      "source": [
        "## Etape 2 : Normalisation des données.\n",
        "\n",
        "Les données ne sont pas normalisées et la plage pour chaque colonne varie, en particulier le volume. La normalisation des données aide l'algorithme à converger, c'est-à-dire à trouver efficacement le minimum local / global. \n"
      ]
    },
    {
      "cell_type": "markdown",
      "metadata": {
        "id": "TKWOo1eGalsa",
        "colab_type": "text"
      },
      "source": [
        "Nous utiliserons MinMaxScaler de Sci-kit Learn. Mais avant cela, nous devons diviser l'ensemble de données en ensembles de données d'apprentissage(**training**) et de **test**. Je vais également convertir le *DataFrame* en *ndarray* dans le processus.\n"
      ]
    },
    {
      "cell_type": "code",
      "metadata": {
        "id": "AzzuaYx3a-7K",
        "colab_type": "code",
        "outputId": "8fe5a944-db95-4e6d-d6b3-49cede818d63",
        "colab": {
          "base_uri": "https://localhost:8080/",
          "height": 85
        }
      },
      "source": [
        "from sklearn.preprocessing import MinMaxScaler\n",
        "from sklearn.model_selection import train_test_split\n",
        "\n",
        "# definir les colonnes qu'on va nourrir à notre modèle d'apprentissage\n",
        "train_cols = [\"Open\",\"High\",\"Low\",\"Close\",\"Volume\"]\n",
        "\n",
        "# nous voulons 80% des données en training et les 20% qui restent pour tester le modèle sur des données qu'il n'a pas encore appris\n",
        "gs_train, gs_test = train_test_split(gs, train_size=0.8, test_size=0.2, shuffle=False)\n",
        "\n",
        "# regarder la forme de nos données, leur taille..\n",
        "print(gs_train.shape)\n",
        "print(gs_test.shape)\n",
        "\n",
        "# redimensionnement pour garder les colonnes qui nous interéssent\n",
        "x = gs_train.loc[:,train_cols].values\n",
        "xx = gs_test.loc[:,train_cols].values\n",
        "min_max_scaler = MinMaxScaler()\n",
        "x_train = min_max_scaler.fit_transform(x)\n",
        "x_test = min_max_scaler.transform(xx)\n",
        "\n",
        "print(x_train.shape)\n",
        "print(x_test.shape)"
      ],
      "execution_count": 0,
      "outputs": [
        {
          "output_type": "stream",
          "text": [
            "(11246, 7)\n",
            "(2812, 7)\n",
            "(11246, 5)\n",
            "(2812, 5)\n"
          ],
          "name": "stdout"
        }
      ]
    },
    {
      "cell_type": "markdown",
      "metadata": {
        "id": "cdDF9FZugdxA",
        "colab_type": "text"
      },
      "source": [
        "## Etape 3 : Conversion des données en séries chronologiques.\n",
        "\n",
        "\n",
        "Les ***LSTM***s consomment des entrées au format **[batch_size, time_steps, features]** un tableau tridimensionnel.\n",
        "\n",
        "\n",
        "*   ***batch_size*** : indique le nombre d'échantillons d'entrée que vous souhaitez que votre réseau processe avant de mettre à jour les poids. L'utilisation d'une très petite taille de lot réduit la vitesse de formation et d'autre part, l'utilisation d'une taille de lot trop grande réduit la capacité des modèles à se généraliser à différentes données et consomme également plus de mémoire.\n",
        "\n"
      ]
    },
    {
      "cell_type": "code",
      "metadata": {
        "id": "nBJMWi6KnrYD",
        "colab_type": "code",
        "colab": {}
      },
      "source": [
        "batch_size = 20"
      ],
      "execution_count": 0,
      "outputs": []
    },
    {
      "cell_type": "markdown",
      "metadata": {
        "id": "EvbdCMCLnqaw",
        "colab_type": "text"
      },
      "source": [
        "*   ***time_steps*** : définissent le nombre d'unités dans le temps passé que vous souhaitez que votre réseau prenne en considération. Dans notre cas, nous utiliserons la valeur **60**, c'est-à-dire que nous examinerons **2 mois** de données pour prédire le prix du jour suivant.\n",
        "\n"
      ]
    },
    {
      "cell_type": "code",
      "metadata": {
        "id": "v132N1BojpZy",
        "colab_type": "code",
        "colab": {}
      },
      "source": [
        "time_steps = 60"
      ],
      "execution_count": 0,
      "outputs": []
    },
    {
      "cell_type": "markdown",
      "metadata": {
        "id": "MzY2w-XckKO2",
        "colab_type": "text"
      },
      "source": [
        "\n",
        "\n",
        "*   ***features*** : indique le nombre d'attributs utilisés pour représenter chaque ***time_step***.\n",
        "\n",
        "\n",
        "Nous allons écrire deux fonctions qui vont nous permettre de faire cette conversion de nos données en séries chronologiques."
      ]
    },
    {
      "cell_type": "code",
      "metadata": {
        "id": "pqFCHqLQkyBC",
        "colab_type": "code",
        "colab": {}
      },
      "source": [
        "from tqdm._tqdm_notebook import tqdm_notebook\n",
        "\n",
        "def build_timeseries(matrix, y_col_index):\n",
        "    # y_col_index est l'indice dela colonne qui sera l'output\n",
        "    '''\n",
        "     le dernier échantillon permet de prédire la dernière case\n",
        "     donc le nombre total d'échantillons est len(matrix) - time_steps\n",
        "    '''\n",
        "    n = matrix.shape[0] - time_steps\n",
        "    m = matrix.shape[1]\n",
        "\n",
        "    x = np.zeros((n, time_steps, m))\n",
        "    y = np.zeros((n,))\n",
        "    \n",
        "    for i in tqdm_notebook(range(n)):\n",
        "        x[i] = matrix[i:time_steps+i]\n",
        "        y[i] = matrix[time_steps+i, y_col_index]\n",
        "    print(\"La taille de la série chronologique est :\\nInput : \", x.shape, \"\\nOutput : \", y.shape)\n",
        "    return x, y"
      ],
      "execution_count": 0,
      "outputs": []
    },
    {
      "cell_type": "markdown",
      "metadata": {
        "id": "9GbDvmqQoXff",
        "colab_type": "text"
      },
      "source": [
        "\n",
        "***y_col_index*** est l'indice de la colonne output. Supposons maintenant qu'après la conversion des données vous avez **41 échantillons** dans votre jeu de données d'entraînement mais votre ***batch_size*** est de **20** nous aurons un échantillon qui ne sera pas utilisé."
      ]
    },
    {
      "cell_type": "markdown",
      "metadata": {
        "id": "Yxa8_VGopThD",
        "colab_type": "text"
      },
      "source": [
        "Pour raison de nettoyage de données, nous devrons couper l'ensemble d'apprentissage pour supprimer les échantillons laissés de côté."
      ]
    },
    {
      "cell_type": "code",
      "metadata": {
        "id": "JnrssQHFpUoU",
        "colab_type": "code",
        "colab": {}
      },
      "source": [
        "# coupe l'ensemble d'apprentissage en une taille divisible par le batch_size\n",
        "def trim_dataset(matrix, batch_size):\n",
        "    rows_to_drop = matrix.shape[0] % batch_size\n",
        "    if(rows_to_drop > 0):\n",
        "        return matrix[:-rows_to_drop] # retire rows_to_drop ligne depuis la fin\n",
        "    else:\n",
        "        return matrix"
      ],
      "execution_count": 0,
      "outputs": []
    },
    {
      "cell_type": "markdown",
      "metadata": {
        "id": "xcS50yaIqfh0",
        "colab_type": "text"
      },
      "source": [
        "### Maintenant on peut faire la conversion de notre dataset."
      ]
    },
    {
      "cell_type": "code",
      "metadata": {
        "id": "BpMescPrqcR6",
        "colab_type": "code",
        "outputId": "726ec4ac-911b-4517-b4da-d964bd7b1855",
        "colab": {
          "base_uri": "https://localhost:8080/",
          "height": 217,
          "referenced_widgets": [
            "7d638884d84243fd9f05cabeb88ecda0",
            "944da0d683a940aea9c32a54b273f8ce",
            "415e0e4801764f4fb295370649360ba4",
            "1051913a21a9424e9900e08318a5ca65",
            "2870d2d2cd754c11ad0549cac4e46629",
            "8105b7c6b5bc4b29a2fbf30be3fd5640",
            "379acf6fae704c1d9991e1a8abb09b3c",
            "d40e9cfa7e194401b3cc6ec32b03fb23",
            "a11a7181efb24584b4c57b047ca66d22",
            "c5f8ffb689134a6f8134c1a3e29799cf",
            "650e42cc4ec24af994aacee8e07d3e20",
            "100c5878d93c4191bd29a45b8827de3a",
            "d327a64260474436bcb29e012703aa7f",
            "4fdacd1163284257ae33e659011293e7",
            "1b209384ed06447bb03f6ac8ab828db2",
            "6919d181f8c74331a6f2b6f6f6bd6be4"
          ]
        }
      },
      "source": [
        "# training set\n",
        "x_t, y_t = build_timeseries(x_train, 3) # y_col_index=3 car on prédit la colonne prix 'Close'\n",
        "x_t = trim_dataset(x_t, batch_size)\n",
        "y_t = trim_dataset(y_t, batch_size)\n",
        "\n",
        "# validation set and test set\n",
        "x_temp, y_temp = build_timeseries(x_test, 3)\n",
        "x_val, x_test_t = np.split(trim_dataset(x_temp, batch_size), 2)\n",
        "y_val, y_test_t = np.split(trim_dataset(y_temp, batch_size), 2)"
      ],
      "execution_count": 0,
      "outputs": [
        {
          "output_type": "display_data",
          "data": {
            "application/vnd.jupyter.widget-view+json": {
              "model_id": "7d638884d84243fd9f05cabeb88ecda0",
              "version_minor": 0,
              "version_major": 2
            },
            "text/plain": [
              "HBox(children=(FloatProgress(value=0.0, max=11186.0), HTML(value='')))"
            ]
          },
          "metadata": {
            "tags": []
          }
        },
        {
          "output_type": "stream",
          "text": [
            "\n",
            "La taille de la série chronologique est :\n",
            "Input :  (11186, 60, 5) \n",
            "Output :  (11186,)\n"
          ],
          "name": "stdout"
        },
        {
          "output_type": "display_data",
          "data": {
            "application/vnd.jupyter.widget-view+json": {
              "model_id": "a11a7181efb24584b4c57b047ca66d22",
              "version_minor": 0,
              "version_major": 2
            },
            "text/plain": [
              "HBox(children=(FloatProgress(value=0.0, max=2752.0), HTML(value='')))"
            ]
          },
          "metadata": {
            "tags": []
          }
        },
        {
          "output_type": "stream",
          "text": [
            "\n",
            "La taille de la série chronologique est :\n",
            "Input :  (2752, 60, 5) \n",
            "Output :  (2752,)\n"
          ],
          "name": "stdout"
        }
      ]
    },
    {
      "cell_type": "markdown",
      "metadata": {
        "id": "VjDv4_equaPZ",
        "colab_type": "text"
      },
      "source": [
        "## Etape 4 : Création du modèle.\n",
        "\n",
        "\n",
        "Le LSTM est une variation des réseaux de neurones récurrents, nous allons utiliser **une couche de 100 blocks LSTM**, **un dropout de 0.5** qui va permettre de désactiver la moitié des neurones aléatoirement pour accélérer l'apprentissage, **une couche** qui applique la fonction ***relu*** qui est tout simplement la fonction x -> max(x, 0) effectuée élément par élément, et enfin **une couche** qui applique la fonction ***sigmoid*** .\n",
        "\n",
        "![alt text](https://wikimedia.org/api/rest_v1/media/math/render/svg/13a5596ec9730facb11304344463632904f83242)\n",
        "\n",
        "Nous allons laisser le modèle s'entraîner à minimiser la fonction de coût qui est l'**erreur en moyenne quadratique MSE** à l'aide de l'algorithme d'optimistion RMSprop, nous allons fixer le pas d'apprentissage à 0.0001 en avançant vers le minimum de cette fonction de coût, nous pourrions le changer si nous voulons et voir ce qui se passerait.\n"
      ]
    },
    {
      "cell_type": "code",
      "metadata": {
        "id": "VNcXnuF5sabD",
        "colab_type": "code",
        "outputId": "72a28194-471d-487c-9094-1b47ffdfbd2b",
        "colab": {
          "base_uri": "https://localhost:8080/",
          "height": 34
        }
      },
      "source": [
        "from keras.models import Sequential\n",
        "from keras.layers import Dense, Dropout\n",
        "from keras.layers import LSTM\n",
        "from keras import optimizers\n",
        "\n",
        "learning_rate = 1e-4\n",
        "optimizer = optimizers.RMSprop(lr=learning_rate)"
      ],
      "execution_count": 0,
      "outputs": [
        {
          "output_type": "stream",
          "text": [
            "Using TensorFlow backend.\n"
          ],
          "name": "stderr"
        }
      ]
    },
    {
      "cell_type": "code",
      "metadata": {
        "id": "QmUX5ke51o3v",
        "colab_type": "code",
        "outputId": "d6b507d8-52fb-40a5-f0ea-a726a9d704d1",
        "colab": {
          "base_uri": "https://localhost:8080/",
          "height": 289
        }
      },
      "source": [
        "model = Sequential([\n",
        "    LSTM(100, batch_input_shape=(batch_size, time_steps, x_t.shape[2]), stateful=True, kernel_initializer='random_uniform'),\n",
        "    Dropout(0.5),\n",
        "    Dense(20,activation='relu'),\n",
        "    Dense(1,activation='sigmoid')                  \n",
        "])\n",
        "\n",
        "model.summary()\n",
        "\n",
        "model.compile(loss='mean_squared_error', optimizer=optimizer)"
      ],
      "execution_count": 0,
      "outputs": [
        {
          "output_type": "stream",
          "text": [
            "Model: \"sequential_1\"\n",
            "_________________________________________________________________\n",
            "Layer (type)                 Output Shape              Param #   \n",
            "=================================================================\n",
            "lstm_1 (LSTM)                (20, 100)                 42400     \n",
            "_________________________________________________________________\n",
            "dropout_1 (Dropout)          (20, 100)                 0         \n",
            "_________________________________________________________________\n",
            "dense_1 (Dense)              (20, 20)                  2020      \n",
            "_________________________________________________________________\n",
            "dense_2 (Dense)              (20, 1)                   21        \n",
            "=================================================================\n",
            "Total params: 44,441\n",
            "Trainable params: 44,441\n",
            "Non-trainable params: 0\n",
            "_________________________________________________________________\n"
          ],
          "name": "stdout"
        }
      ]
    },
    {
      "cell_type": "markdown",
      "metadata": {
        "id": "vI6-qWrd6Txg",
        "colab_type": "text"
      },
      "source": [
        "### Il ne reste plus qu'à lancer l'apprentissage pour 100 époques."
      ]
    },
    {
      "cell_type": "code",
      "metadata": {
        "id": "KpKk96-u5shi",
        "colab_type": "code",
        "colab": {}
      },
      "source": [
        "history = model.fit(\n",
        "    x_t,\n",
        "    y_t,\n",
        "    epochs=100,\n",
        "    verbose=2,\n",
        "    batch_size=batch_size,\n",
        "    shuffle=False,\n",
        "    validation_data=(trim_dataset(x_val, batch_size), trim_dataset(y_val, batch_size))\n",
        ")"
      ],
      "execution_count": 0,
      "outputs": []
    },
    {
      "cell_type": "markdown",
      "metadata": {
        "id": "jX0AG0kZ9i9U",
        "colab_type": "text"
      },
      "source": [
        "## Etape 5 : Prédiction et visualisation du résultat.\n"
      ]
    },
    {
      "cell_type": "markdown",
      "metadata": {
        "id": "PudUpjB1_vcY",
        "colab_type": "text"
      },
      "source": [
        "On visualise le coût lors de l'apprentissage et lors de la validation."
      ]
    },
    {
      "cell_type": "code",
      "metadata": {
        "id": "FVaQwMZg7qpI",
        "colab_type": "code",
        "outputId": "cbadf330-7dc9-40d1-f8a2-e6d96980938b",
        "colab": {
          "base_uri": "https://localhost:8080/",
          "height": 528
        }
      },
      "source": [
        "plt.figure()\n",
        "plt.figure(figsize=(15,8))\n",
        "plt.plot(history.history['loss'], color='red')\n",
        "plt.plot(history.history['val_loss'], color='green')\n",
        "plt.title('Coût du modèle')\n",
        "plt.ylabel('Coût')\n",
        "plt.xlabel('Epoque')\n",
        "plt.legend(['Apprentissage', 'Test'], loc='upper left')\n",
        "plt.show()"
      ],
      "execution_count": 32,
      "outputs": [
        {
          "output_type": "display_data",
          "data": {
            "text/plain": [
              "<Figure size 432x288 with 0 Axes>"
            ]
          },
          "metadata": {
            "tags": []
          }
        },
        {
          "output_type": "display_data",
          "data": {
            "image/png": "[encoded data removed]",
            "text/plain": [
              "<Figure size 1080x576 with 1 Axes>"
            ]
          },
          "metadata": {
            "tags": []
          }
        }
      ]
    },
    {
      "cell_type": "markdown",
      "metadata": {
        "id": "XL55jVTHAhzx",
        "colab_type": "text"
      },
      "source": [
        "La prédiction avec le modèle est la suivante :"
      ]
    },
    {
      "cell_type": "code",
      "metadata": {
        "id": "_sDrtbso_D1X",
        "colab_type": "code",
        "outputId": "2ba044bc-4b4e-4a00-c90d-44d3b4a7bf0c",
        "colab": {
          "base_uri": "https://localhost:8080/",
          "height": 33
        }
      },
      "source": [
        "from sklearn.metrics import mean_squared_error\n",
        "\n",
        "y_pred = model.predict(trim_dataset(x_test_t, batch_size), batch_size=batch_size)\n",
        "y_pred = y_pred.flatten()\n",
        "y_test_t = trim_dataset(y_test_t, batch_size)\n",
        "error = mean_squared_error(y_test_t, y_pred)\n",
        "\n",
        "print(\"L'erreur est :\", error)"
      ],
      "execution_count": 33,
      "outputs": [
        {
          "output_type": "stream",
          "text": [
            "L'erreur est : 0.00039289558828962387\n"
          ],
          "name": "stdout"
        }
      ]
    },
    {
      "cell_type": "markdown",
      "metadata": {
        "id": "GTg56W5EDvsd",
        "colab_type": "text"
      },
      "source": [
        "Nous allons ensuite convertir le vecteur prédit en d'intervalles de données réelles :"
      ]
    },
    {
      "cell_type": "code",
      "metadata": {
        "id": "the3y6rvDiXT",
        "colab_type": "code",
        "outputId": "9e3e218b-11a4-4ebf-b8f5-ecaaaddd53f7",
        "colab": {
          "base_uri": "https://localhost:8080/",
          "height": 33
        }
      },
      "source": [
        "y_pred_org = (y_pred * min_max_scaler.data_range_[3]) + min_max_scaler.data_min_[3]\n",
        "y_test_t_org = (y_test_t * min_max_scaler.data_range_[3]) + min_max_scaler.data_min_[3]\n",
        "error = mean_squared_error(y_test_t_org, y_pred_org)\n",
        "\n",
        "print(\"L'erreur réelle est :\", error)"
      ],
      "execution_count": 34,
      "outputs": [
        {
          "output_type": "stream",
          "text": [
            "L'erreur réelle est : 0.8900936908819842\n"
          ],
          "name": "stdout"
        }
      ]
    },
    {
      "cell_type": "markdown",
      "metadata": {
        "id": "04xoI33RFNB7",
        "colab_type": "text"
      },
      "source": [
        "Sur la même figure, la prédiction en rouge et le graphe réel en vert :"
      ]
    },
    {
      "cell_type": "code",
      "metadata": {
        "id": "TkrXaVVKEzrm",
        "colab_type": "code",
        "outputId": "61c30db5-6574-4fa9-ed19-43eb9fc1302b",
        "colab": {
          "base_uri": "https://localhost:8080/",
          "height": 528
        }
      },
      "source": [
        "plt.figure()\n",
        "plt.figure(figsize=(15,8))\n",
        "plt.plot(y_pred_org, color='red')\n",
        "plt.plot(y_test_t_org, color='green')\n",
        "plt.title('Prediction et Prix réel')\n",
        "plt.ylabel('Prix')\n",
        "plt.xlabel('Jours')\n",
        "plt.legend(['Prediction', 'Réel'], loc='upper left')\n",
        "plt.show()"
      ],
      "execution_count": 35,
      "outputs": [
        {
          "output_type": "display_data",
          "data": {
            "text/plain": [
              "<Figure size 432x288 with 0 Axes>"
            ]
          },
          "metadata": {
            "tags": []
          }
        },
        {
          "output_type": "display_data",
          "data": {
            "image/png": "[encoded data removed]",
            "text/plain": [
              "<Figure size 1080x576 with 1 Axes>"
            ]
          },
          "metadata": {
            "tags": []
          }
        }
      ]
    },
    {
      "cell_type": "markdown",
      "metadata": {
        "id": "L_QfSVLDdAyG",
        "colab_type": "text"
      },
      "source": [
        "On peut dire que le modèle est plus ou moins bien, il parvient à prédire la hausse ou la baisse d'une manière exacte, à l'exclusion de quelques jours 750ème et 850ème par exemple où il échoue de prédire la baisse soudaine."
      ]
    },
    {
      "cell_type": "code",
      "metadata": {
        "id": "Z5Xgel8fnN3j",
        "colab_type": "code",
        "colab": {}
      },
      "source": [
        "import pickle\n",
        "\n",
        "filename = 'stock_price_prediction.sav'\n",
        "pickle.dump(model, open(filename, 'wb'))"
      ],
      "execution_count": 0,
      "outputs": []
    },
    {
      "cell_type": "code",
      "metadata": {
        "id": "NtL_kVBEnQuc",
        "colab_type": "code",
        "colab": {}
      },
      "source": [
        "from google.colab import files\n",
        "files.download('stock_price_prediction.sav')"
      ],
      "execution_count": 0,
      "outputs": []
    },
    {
      "cell_type": "code",
      "metadata": {
        "id": "UUNm6eFEonTQ",
        "colab_type": "code",
        "colab": {}
      },
      "source": [
        "from google.colab import files\n",
        "files.upload()"
      ],
      "execution_count": 0,
      "outputs": []
    },
    {
      "cell_type": "code",
      "metadata": {
        "id": "CAykSD_5pmkX",
        "colab_type": "code",
        "colab": {}
      },
      "source": [
        "filename = 'stock_price_prediction.sav'\n",
        "loaded_model = pickle.load(open(filename, 'rb'))"
      ],
      "execution_count": 0,
      "outputs": []
    },
    {
      "cell_type": "code",
      "metadata": {
        "id": "zDkZHgYkqOte",
        "colab_type": "code",
        "colab": {
          "base_uri": "https://localhost:8080/",
          "height": 277
        },
        "outputId": "78702e06-89fa-4f49-ddf0-8532c4de4631"
      },
      "source": [
        "loaded_model.summary()"
      ],
      "execution_count": 51,
      "outputs": [
        {
          "output_type": "stream",
          "text": [
            "Model: \"sequential_1\"\n",
            "_________________________________________________________________\n",
            "Layer (type)                 Output Shape              Param #   \n",
            "=================================================================\n",
            "lstm_1 (LSTM)                (20, 100)                 42400     \n",
            "_________________________________________________________________\n",
            "dropout_1 (Dropout)          (20, 100)                 0         \n",
            "_________________________________________________________________\n",
            "dense_1 (Dense)              (20, 20)                  2020      \n",
            "_________________________________________________________________\n",
            "dense_2 (Dense)              (20, 1)                   21        \n",
            "=================================================================\n",
            "Total params: 44,441\n",
            "Trainable params: 44,441\n",
            "Non-trainable params: 0\n",
            "_________________________________________________________________\n"
          ],
          "name": "stdout"
        }
      ]
    },
    {
      "cell_type": "code",
      "metadata": {
        "id": "wjS1ycsGqRu3",
        "colab_type": "code",
        "colab": {}
      },
      "source": [
        ""
      ],
      "execution_count": 0,
      "outputs": []
    }
  ]
}