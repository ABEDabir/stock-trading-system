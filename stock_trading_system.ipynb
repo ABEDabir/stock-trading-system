{
  "nbformat": 4,
  "nbformat_minor": 0,
  "metadata": {
    "colab": {
      "name": "stock-trading-system.ipynb",
      "provenance": [],
      "authorship_tag": "ABX9TyPFtUusYX9NhlKC36Q3dQNn",
      "include_colab_link": true
    },
    "kernelspec": {
      "name": "python3",
      "display_name": "Python 3"
    }
  },
  "cells": [
    {
      "cell_type": "markdown",
      "metadata": {
        "id": "view-in-github",
        "colab_type": "text"
      },
      "source": [
        "<a href=\"https://colab.research.google.com/github/adnaneaabbar/stock-trading-system/blob/master/stock_trading_system.ipynb\" target=\"_parent\"><img src=\"https://colab.research.google.com/assets/colab-badge.svg\" alt=\"Open In Colab\"/></a>"
      ]
    },
    {
      "cell_type": "markdown",
      "metadata": {
        "id": "4f2W_a4TUkei",
        "colab_type": "text"
      },
      "source": [
        "Nous allons tout d'abord faire l'étude, sur la banque d'investissement GS - Goldman Sachs Inc. Nous allons essayer de prédire à l'aide de séries chronologiques les prix de leurs actions.\n",
        "\n",
        "---\n",
        "\n",
        "# Etude à base de modèle LSTM\n",
        "\n",
        "\n",
        "---\n",
        "\n",
        "## Etape 1 : Chargement et analyse des données.\n",
        "\n",
        "Nous utiliserons les données historiques des 10 dernières années du cours des actions de GS. Vous pouvez trouver les données sur yahoo finance.\n"
      ]
    },
    {
      "cell_type": "code",
      "metadata": {
        "id": "_3USqhyhU3Dh",
        "colab_type": "code",
        "colab": {}
      },
      "source": [
        "import os\n",
        "import sys\n",
        "import time\n",
        "import numpy as np\n",
        "import pandas as pd "
      ],
      "execution_count": 0,
      "outputs": []
    },
    {
      "cell_type": "code",
      "metadata": {
        "id": "l9oBxgb0X_qz",
        "colab_type": "code",
        "colab": {}
      },
      "source": [
        "url = 'https://raw.githubusercontent.com/adnaneaabbar/stock-trading-system/master/data/goldman_sachs.csv'\n",
        "gs = pd.read_csv(url)"
      ],
      "execution_count": 0,
      "outputs": []
    },
    {
      "cell_type": "code",
      "metadata": {
        "id": "r26rdGWjZ8Rh",
        "colab_type": "code",
        "colab": {
          "base_uri": "https://localhost:8080/",
          "height": 204
        },
        "outputId": "08038a18-010f-4c36-fef2-3e70db373186"
      },
      "source": [
        "gs.head()"
      ],
      "execution_count": 9,
      "outputs": [
        {
          "output_type": "execute_result",
          "data": {
            "text/html": [
              "<div>\n",
              "<style scoped>\n",
              "    .dataframe tbody tr th:only-of-type {\n",
              "        vertical-align: middle;\n",
              "    }\n",
              "\n",
              "    .dataframe tbody tr th {\n",
              "        vertical-align: top;\n",
              "    }\n",
              "\n",
              "    .dataframe thead th {\n",
              "        text-align: right;\n",
              "    }\n",
              "</style>\n",
              "<table border=\"1\" class=\"dataframe\">\n",
              "  <thead>\n",
              "    <tr style=\"text-align: right;\">\n",
              "      <th></th>\n",
              "      <th>Date</th>\n",
              "      <th>Open</th>\n",
              "      <th>High</th>\n",
              "      <th>Low</th>\n",
              "      <th>Close</th>\n",
              "      <th>Adj Close</th>\n",
              "      <th>Volume</th>\n",
              "    </tr>\n",
              "  </thead>\n",
              "  <tbody>\n",
              "    <tr>\n",
              "      <th>0</th>\n",
              "      <td>2009-12-31</td>\n",
              "      <td>167.289993</td>\n",
              "      <td>170.130005</td>\n",
              "      <td>166.929993</td>\n",
              "      <td>168.839996</td>\n",
              "      <td>146.078110</td>\n",
              "      <td>6401800</td>\n",
              "    </tr>\n",
              "    <tr>\n",
              "      <th>1</th>\n",
              "      <td>2010-01-04</td>\n",
              "      <td>170.050003</td>\n",
              "      <td>174.250000</td>\n",
              "      <td>169.509995</td>\n",
              "      <td>173.080002</td>\n",
              "      <td>149.746597</td>\n",
              "      <td>9135000</td>\n",
              "    </tr>\n",
              "    <tr>\n",
              "      <th>2</th>\n",
              "      <td>2010-01-05</td>\n",
              "      <td>173.000000</td>\n",
              "      <td>176.259995</td>\n",
              "      <td>172.570007</td>\n",
              "      <td>176.139999</td>\n",
              "      <td>152.394012</td>\n",
              "      <td>11659400</td>\n",
              "    </tr>\n",
              "    <tr>\n",
              "      <th>3</th>\n",
              "      <td>2010-01-06</td>\n",
              "      <td>175.380005</td>\n",
              "      <td>175.380005</td>\n",
              "      <td>173.759995</td>\n",
              "      <td>174.259995</td>\n",
              "      <td>150.767426</td>\n",
              "      <td>7381100</td>\n",
              "    </tr>\n",
              "    <tr>\n",
              "      <th>4</th>\n",
              "      <td>2010-01-07</td>\n",
              "      <td>174.320007</td>\n",
              "      <td>178.750000</td>\n",
              "      <td>173.949997</td>\n",
              "      <td>177.669998</td>\n",
              "      <td>153.717728</td>\n",
              "      <td>8727400</td>\n",
              "    </tr>\n",
              "  </tbody>\n",
              "</table>\n",
              "</div>"
            ],
            "text/plain": [
              "         Date        Open        High  ...       Close   Adj Close    Volume\n",
              "0  2009-12-31  167.289993  170.130005  ...  168.839996  146.078110   6401800\n",
              "1  2010-01-04  170.050003  174.250000  ...  173.080002  149.746597   9135000\n",
              "2  2010-01-05  173.000000  176.259995  ...  176.139999  152.394012  11659400\n",
              "3  2010-01-06  175.380005  175.380005  ...  174.259995  150.767426   7381100\n",
              "4  2010-01-07  174.320007  178.750000  ...  177.669998  153.717728   8727400\n",
              "\n",
              "[5 rows x 7 columns]"
            ]
          },
          "metadata": {
            "tags": []
          },
          "execution_count": 9
        }
      ]
    },
    {
      "cell_type": "code",
      "metadata": {
        "id": "ya_YX1uqaJPG",
        "colab_type": "code",
        "colab": {
          "base_uri": "https://localhost:8080/",
          "height": 204
        },
        "outputId": "b3d46e52-8cd5-4a3d-999f-871f8d696123"
      },
      "source": [
        "gs.tail()"
      ],
      "execution_count": 10,
      "outputs": [
        {
          "output_type": "execute_result",
          "data": {
            "text/html": [
              "<div>\n",
              "<style scoped>\n",
              "    .dataframe tbody tr th:only-of-type {\n",
              "        vertical-align: middle;\n",
              "    }\n",
              "\n",
              "    .dataframe tbody tr th {\n",
              "        vertical-align: top;\n",
              "    }\n",
              "\n",
              "    .dataframe thead th {\n",
              "        text-align: right;\n",
              "    }\n",
              "</style>\n",
              "<table border=\"1\" class=\"dataframe\">\n",
              "  <thead>\n",
              "    <tr style=\"text-align: right;\">\n",
              "      <th></th>\n",
              "      <th>Date</th>\n",
              "      <th>Open</th>\n",
              "      <th>High</th>\n",
              "      <th>Low</th>\n",
              "      <th>Close</th>\n",
              "      <th>Adj Close</th>\n",
              "      <th>Volume</th>\n",
              "    </tr>\n",
              "  </thead>\n",
              "  <tbody>\n",
              "    <tr>\n",
              "      <th>2260</th>\n",
              "      <td>2018-12-24</td>\n",
              "      <td>159.000000</td>\n",
              "      <td>160.000000</td>\n",
              "      <td>154.309998</td>\n",
              "      <td>156.350006</td>\n",
              "      <td>152.260864</td>\n",
              "      <td>3783500</td>\n",
              "    </tr>\n",
              "    <tr>\n",
              "      <th>2261</th>\n",
              "      <td>2018-12-26</td>\n",
              "      <td>157.000000</td>\n",
              "      <td>163.110001</td>\n",
              "      <td>151.699997</td>\n",
              "      <td>162.929993</td>\n",
              "      <td>158.668777</td>\n",
              "      <td>7054700</td>\n",
              "    </tr>\n",
              "    <tr>\n",
              "      <th>2262</th>\n",
              "      <td>2018-12-27</td>\n",
              "      <td>160.119995</td>\n",
              "      <td>165.410004</td>\n",
              "      <td>159.020004</td>\n",
              "      <td>165.410004</td>\n",
              "      <td>161.083923</td>\n",
              "      <td>4973000</td>\n",
              "    </tr>\n",
              "    <tr>\n",
              "      <th>2263</th>\n",
              "      <td>2018-12-28</td>\n",
              "      <td>165.639999</td>\n",
              "      <td>165.949997</td>\n",
              "      <td>162.020004</td>\n",
              "      <td>163.029999</td>\n",
              "      <td>158.766159</td>\n",
              "      <td>4110500</td>\n",
              "    </tr>\n",
              "    <tr>\n",
              "      <th>2264</th>\n",
              "      <td>2018-12-31</td>\n",
              "      <td>163.779999</td>\n",
              "      <td>167.119995</td>\n",
              "      <td>163.779999</td>\n",
              "      <td>167.050003</td>\n",
              "      <td>162.681030</td>\n",
              "      <td>4550000</td>\n",
              "    </tr>\n",
              "  </tbody>\n",
              "</table>\n",
              "</div>"
            ],
            "text/plain": [
              "            Date        Open        High  ...       Close   Adj Close   Volume\n",
              "2260  2018-12-24  159.000000  160.000000  ...  156.350006  152.260864  3783500\n",
              "2261  2018-12-26  157.000000  163.110001  ...  162.929993  158.668777  7054700\n",
              "2262  2018-12-27  160.119995  165.410004  ...  165.410004  161.083923  4973000\n",
              "2263  2018-12-28  165.639999  165.949997  ...  163.029999  158.766159  4110500\n",
              "2264  2018-12-31  163.779999  167.119995  ...  167.050003  162.681030  4550000\n",
              "\n",
              "[5 rows x 7 columns]"
            ]
          },
          "metadata": {
            "tags": []
          },
          "execution_count": 10
        }
      ]
    },
    {
      "cell_type": "code",
      "metadata": {
        "id": "f5UkwcI7aQwc",
        "colab_type": "code",
        "colab": {}
      },
      "source": [
        ""
      ],
      "execution_count": 0,
      "outputs": []
    }
  ]
}