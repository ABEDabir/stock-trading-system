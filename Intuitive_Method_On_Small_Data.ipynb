{
  "nbformat": 4,
  "nbformat_minor": 0,
  "metadata": {
    "colab": {
      "name": "Stock trading system.ipynb",
      "provenance": [],
      "collapsed_sections": [],
      "toc_visible": true
    },
    "kernelspec": {
      "name": "python3",
      "display_name": "Python 3"
    }
  },
  "cells": [
    {
      "cell_type": "markdown",
      "metadata": {
        "id": "4f2W_a4TUkei",
        "colab_type": "text"
      },
      "source": [
        "Nous allons tout d'abord faire l'étude, sur la banque GS - Goldman Sachs. Nous allons essayer de prédire à l'aide de séries chronologiques les prix de leurs actions.\n",
        "\n",
        "---\n",
        "\n",
        "# Etude à base de modèle LSTM\n",
        "\n",
        "\n",
        "---\n",
        "\n",
        "## Etape 1 : Chargement et analyse des données.\n",
        "\n",
        "Nous utiliserons les données historiques des 55 dernières années du cours des actions de GS. Vous pouvez trouver les données sur yahoo finance.\n"
      ]
    },
    {
      "cell_type": "code",
      "metadata": {
        "id": "_3USqhyhU3Dh",
        "colab_type": "code",
        "colab": {}
      },
      "source": [
        "import numpy as np\n",
        "import pandas as pd "
      ],
      "execution_count": 0,
      "outputs": []
    },
    {
      "cell_type": "code",
      "metadata": {
        "id": "l9oBxgb0X_qz",
        "colab_type": "code",
        "colab": {}
      },
      "source": [
        "url = 'https://raw.githubusercontent.com/adnaneaabbar/stock-trading-system/master/data/goldman_sachs.csv?token=AKSKTRTWKMIG4WHJM655JL262MSZG'\n",
        "gs = pd.read_csv(url)"
      ],
      "execution_count": 0,
      "outputs": []
    },
    {
      "cell_type": "code",
      "metadata": {
        "id": "r26rdGWjZ8Rh",
        "colab_type": "code",
        "outputId": "e95e7b7f-fc63-436b-8d21-d6d6c9624be7",
        "colab": {
          "base_uri": "https://localhost:8080/",
          "height": 197
        }
      },
      "source": [
        "gs.head()"
      ],
      "execution_count": 3,
      "outputs": [
        {
          "output_type": "execute_result",
          "data": {
            "text/html": [
              "<div>\n",
              "<style scoped>\n",
              "    .dataframe tbody tr th:only-of-type {\n",
              "        vertical-align: middle;\n",
              "    }\n",
              "\n",
              "    .dataframe tbody tr th {\n",
              "        vertical-align: top;\n",
              "    }\n",
              "\n",
              "    .dataframe thead th {\n",
              "        text-align: right;\n",
              "    }\n",
              "</style>\n",
              "<table border=\"1\" class=\"dataframe\">\n",
              "  <thead>\n",
              "    <tr style=\"text-align: right;\">\n",
              "      <th></th>\n",
              "      <th>Date</th>\n",
              "      <th>Open</th>\n",
              "      <th>High</th>\n",
              "      <th>Low</th>\n",
              "      <th>Close</th>\n",
              "      <th>Adj Close</th>\n",
              "      <th>Volume</th>\n",
              "    </tr>\n",
              "  </thead>\n",
              "  <tbody>\n",
              "    <tr>\n",
              "      <th>0</th>\n",
              "      <td>2009-12-31</td>\n",
              "      <td>167.289993</td>\n",
              "      <td>170.130005</td>\n",
              "      <td>166.929993</td>\n",
              "      <td>168.839996</td>\n",
              "      <td>146.078110</td>\n",
              "      <td>6401800</td>\n",
              "    </tr>\n",
              "    <tr>\n",
              "      <th>1</th>\n",
              "      <td>2010-01-04</td>\n",
              "      <td>170.050003</td>\n",
              "      <td>174.250000</td>\n",
              "      <td>169.509995</td>\n",
              "      <td>173.080002</td>\n",
              "      <td>149.746597</td>\n",
              "      <td>9135000</td>\n",
              "    </tr>\n",
              "    <tr>\n",
              "      <th>2</th>\n",
              "      <td>2010-01-05</td>\n",
              "      <td>173.000000</td>\n",
              "      <td>176.259995</td>\n",
              "      <td>172.570007</td>\n",
              "      <td>176.139999</td>\n",
              "      <td>152.394012</td>\n",
              "      <td>11659400</td>\n",
              "    </tr>\n",
              "    <tr>\n",
              "      <th>3</th>\n",
              "      <td>2010-01-06</td>\n",
              "      <td>175.380005</td>\n",
              "      <td>175.380005</td>\n",
              "      <td>173.759995</td>\n",
              "      <td>174.259995</td>\n",
              "      <td>150.767426</td>\n",
              "      <td>7381100</td>\n",
              "    </tr>\n",
              "    <tr>\n",
              "      <th>4</th>\n",
              "      <td>2010-01-07</td>\n",
              "      <td>174.320007</td>\n",
              "      <td>178.750000</td>\n",
              "      <td>173.949997</td>\n",
              "      <td>177.669998</td>\n",
              "      <td>153.717728</td>\n",
              "      <td>8727400</td>\n",
              "    </tr>\n",
              "  </tbody>\n",
              "</table>\n",
              "</div>"
            ],
            "text/plain": [
              "         Date        Open        High  ...       Close   Adj Close    Volume\n",
              "0  2009-12-31  167.289993  170.130005  ...  168.839996  146.078110   6401800\n",
              "1  2010-01-04  170.050003  174.250000  ...  173.080002  149.746597   9135000\n",
              "2  2010-01-05  173.000000  176.259995  ...  176.139999  152.394012  11659400\n",
              "3  2010-01-06  175.380005  175.380005  ...  174.259995  150.767426   7381100\n",
              "4  2010-01-07  174.320007  178.750000  ...  177.669998  153.717728   8727400\n",
              "\n",
              "[5 rows x 7 columns]"
            ]
          },
          "metadata": {
            "tags": []
          },
          "execution_count": 3
        }
      ]
    },
    {
      "cell_type": "code",
      "metadata": {
        "id": "ya_YX1uqaJPG",
        "colab_type": "code",
        "outputId": "60086602-93aa-4719-cda9-591a8d483e28",
        "colab": {
          "base_uri": "https://localhost:8080/",
          "height": 197
        }
      },
      "source": [
        "gs.tail()"
      ],
      "execution_count": 4,
      "outputs": [
        {
          "output_type": "execute_result",
          "data": {
            "text/html": [
              "<div>\n",
              "<style scoped>\n",
              "    .dataframe tbody tr th:only-of-type {\n",
              "        vertical-align: middle;\n",
              "    }\n",
              "\n",
              "    .dataframe tbody tr th {\n",
              "        vertical-align: top;\n",
              "    }\n",
              "\n",
              "    .dataframe thead th {\n",
              "        text-align: right;\n",
              "    }\n",
              "</style>\n",
              "<table border=\"1\" class=\"dataframe\">\n",
              "  <thead>\n",
              "    <tr style=\"text-align: right;\">\n",
              "      <th></th>\n",
              "      <th>Date</th>\n",
              "      <th>Open</th>\n",
              "      <th>High</th>\n",
              "      <th>Low</th>\n",
              "      <th>Close</th>\n",
              "      <th>Adj Close</th>\n",
              "      <th>Volume</th>\n",
              "    </tr>\n",
              "  </thead>\n",
              "  <tbody>\n",
              "    <tr>\n",
              "      <th>2260</th>\n",
              "      <td>2018-12-24</td>\n",
              "      <td>159.000000</td>\n",
              "      <td>160.000000</td>\n",
              "      <td>154.309998</td>\n",
              "      <td>156.350006</td>\n",
              "      <td>152.260864</td>\n",
              "      <td>3783500</td>\n",
              "    </tr>\n",
              "    <tr>\n",
              "      <th>2261</th>\n",
              "      <td>2018-12-26</td>\n",
              "      <td>157.000000</td>\n",
              "      <td>163.110001</td>\n",
              "      <td>151.699997</td>\n",
              "      <td>162.929993</td>\n",
              "      <td>158.668777</td>\n",
              "      <td>7054700</td>\n",
              "    </tr>\n",
              "    <tr>\n",
              "      <th>2262</th>\n",
              "      <td>2018-12-27</td>\n",
              "      <td>160.119995</td>\n",
              "      <td>165.410004</td>\n",
              "      <td>159.020004</td>\n",
              "      <td>165.410004</td>\n",
              "      <td>161.083923</td>\n",
              "      <td>4973000</td>\n",
              "    </tr>\n",
              "    <tr>\n",
              "      <th>2263</th>\n",
              "      <td>2018-12-28</td>\n",
              "      <td>165.639999</td>\n",
              "      <td>165.949997</td>\n",
              "      <td>162.020004</td>\n",
              "      <td>163.029999</td>\n",
              "      <td>158.766159</td>\n",
              "      <td>4110500</td>\n",
              "    </tr>\n",
              "    <tr>\n",
              "      <th>2264</th>\n",
              "      <td>2018-12-31</td>\n",
              "      <td>163.779999</td>\n",
              "      <td>167.119995</td>\n",
              "      <td>163.779999</td>\n",
              "      <td>167.050003</td>\n",
              "      <td>162.681030</td>\n",
              "      <td>4550000</td>\n",
              "    </tr>\n",
              "  </tbody>\n",
              "</table>\n",
              "</div>"
            ],
            "text/plain": [
              "            Date        Open        High  ...       Close   Adj Close   Volume\n",
              "2260  2018-12-24  159.000000  160.000000  ...  156.350006  152.260864  3783500\n",
              "2261  2018-12-26  157.000000  163.110001  ...  162.929993  158.668777  7054700\n",
              "2262  2018-12-27  160.119995  165.410004  ...  165.410004  161.083923  4973000\n",
              "2263  2018-12-28  165.639999  165.949997  ...  163.029999  158.766159  4110500\n",
              "2264  2018-12-31  163.779999  167.119995  ...  167.050003  162.681030  4550000\n",
              "\n",
              "[5 rows x 7 columns]"
            ]
          },
          "metadata": {
            "tags": []
          },
          "execution_count": 4
        }
      ]
    },
    {
      "cell_type": "markdown",
      "metadata": {
        "id": "FANml5p5co4j",
        "colab_type": "text"
      },
      "source": [
        "\n",
        "Comme vous pouvez le voir, il y a 2265 lignes, chacune représentant les attributs boursiers d'une journée pour la compagnie. Traçons les différents attributs :"
      ]
    },
    {
      "cell_type": "code",
      "metadata": {
        "id": "JRpvJhO1c_G1",
        "colab_type": "code",
        "outputId": "71a592fe-205e-4663-89a7-d41b6e3bfaa2",
        "colab": {
          "base_uri": "https://localhost:8080/",
          "height": 531
        }
      },
      "source": [
        "from matplotlib import pyplot as plt\n",
        "from matplotlib import style\n",
        "style.use('dark_background')\n",
        "\n",
        "plt.figure()\n",
        "plt.figure(figsize=(15,8))\n",
        "plt.plot(gs[\"Open\"])\n",
        "plt.plot(gs[\"High\"])\n",
        "plt.plot(gs[\"Low\"])\n",
        "plt.plot(gs[\"Close\"])\n",
        "plt.title('Historique des prix des actions de GS')\n",
        "plt.ylabel('Prix USD')\n",
        "plt.xlabel('Jours')\n",
        "plt.legend(['Open','High','Low','Close'], loc='upper left')\n",
        "plt.show()"
      ],
      "execution_count": 5,
      "outputs": [
        {
          "output_type": "display_data",
          "data": {
            "text/plain": [
              "<Figure size 432x288 with 0 Axes>"
            ]
          },
          "metadata": {
            "tags": []
          }
        },
        {
          "output_type": "display_data",
          "data": {
            "image/png": "[encoded data removed]",
            "text/plain": [
              "<Figure size 1080x576 with 1 Axes>"
            ]
          },
          "metadata": {
            "tags": []
          }
        }
      ]
    },
    {
      "cell_type": "markdown",
      "metadata": {
        "id": "LTX6GHK7fumo",
        "colab_type": "text"
      },
      "source": [
        "\n",
        "Les prix - Open, Close, Low, High - ne varient pas trop les uns des autres, sauf occasionnellement. Traçons le Volume:"
      ]
    },
    {
      "cell_type": "code",
      "metadata": {
        "id": "VicBEOXdgDky",
        "colab_type": "code",
        "outputId": "71eb3c6c-8960-4686-a953-c35623c97939",
        "colab": {
          "base_uri": "https://localhost:8080/",
          "height": 531
        }
      },
      "source": [
        "plt.figure()\n",
        "plt.figure(figsize=(15,8))\n",
        "plt.plot(gs[\"Volume\"])\n",
        "plt.title('Historique du volume')\n",
        "plt.ylabel('Volume')\n",
        "plt.xlabel('Jours')\n",
        "plt.show()"
      ],
      "execution_count": 6,
      "outputs": [
        {
          "output_type": "display_data",
          "data": {
            "text/plain": [
              "<Figure size 432x288 with 0 Axes>"
            ]
          },
          "metadata": {
            "tags": []
          }
        },
        {
          "output_type": "display_data",
          "data": {
            "image/png": "[encoded data removed]",
            "text/plain": [
              "<Figure size 1080x576 with 1 Axes>"
            ]
          },
          "metadata": {
            "tags": []
          }
        }
      ]
    },
    {
      "cell_type": "markdown",
      "metadata": {
        "id": "ncT0wm8PXYaF",
        "colab_type": "text"
      },
      "source": [
        "Il y a une forte augmentation du nombre de transactions autour du 80ème jour sur la chronologie, qui coïncide avec la chute soudaine du cours des actions just après quelques jours.\n"
      ]
    },
    {
      "cell_type": "markdown",
      "metadata": {
        "id": "aEACIbZeYGhs",
        "colab_type": "text"
      },
      "source": [
        "Après avoir chargé les données, nous nous assurons que toutes les données sont présentes, lorsqu'une donnée n'existe pas, elle est remplacée par la valeur null ou NaN."
      ]
    },
    {
      "cell_type": "code",
      "metadata": {
        "id": "iSnAurY6YVZs",
        "colab_type": "code",
        "outputId": "5bef4bb6-b227-46ae-dd1b-f8cc99b5755d",
        "colab": {
          "base_uri": "https://localhost:8080/",
          "height": 158
        }
      },
      "source": [
        "gs.isna().sum()"
      ],
      "execution_count": 7,
      "outputs": [
        {
          "output_type": "execute_result",
          "data": {
            "text/plain": [
              "Date         0\n",
              "Open         0\n",
              "High         0\n",
              "Low          0\n",
              "Close        0\n",
              "Adj Close    0\n",
              "Volume       0\n",
              "dtype: int64"
            ]
          },
          "metadata": {
            "tags": []
          },
          "execution_count": 7
        }
      ]
    },
    {
      "cell_type": "markdown",
      "metadata": {
        "id": "jJC7t_6YYddr",
        "colab_type": "text"
      },
      "source": [
        "Comme nous pouvons voir toutes les valeurs existent et de type int64."
      ]
    },
    {
      "cell_type": "markdown",
      "metadata": {
        "id": "0xjxv3K6aQe9",
        "colab_type": "text"
      },
      "source": [
        "## Etape 2 : Normalisation des données.\n",
        "\n",
        "Les données ne sont pas normalisées et la plage pour chaque colonne varie, en particulier le volume. La normalisation des données aide l'algorithme à converger, c'est-à-dire à trouver efficacement le minimum local / global. \n"
      ]
    },
    {
      "cell_type": "markdown",
      "metadata": {
        "id": "TKWOo1eGalsa",
        "colab_type": "text"
      },
      "source": [
        "Nous utiliserons MinMaxScaler de Sci-kit Learn. Mais avant cela, nous devons diviser l'ensemble de données en ensembles de données d'apprentissage(**training**) et de **test**. Je vais également convertir le *DataFrame* en *ndarray* dans le processus.\n"
      ]
    },
    {
      "cell_type": "code",
      "metadata": {
        "id": "AzzuaYx3a-7K",
        "colab_type": "code",
        "outputId": "1a4ec218-8d79-437b-b98d-efc3a7d3e6bf",
        "colab": {
          "base_uri": "https://localhost:8080/",
          "height": 87
        }
      },
      "source": [
        "from sklearn.preprocessing import MinMaxScaler\n",
        "from sklearn.model_selection import train_test_split\n",
        "\n",
        "# definir les colonnes qu'on va nourrir à notre modèle d'apprentissage\n",
        "train_cols = [\"Open\",\"High\",\"Low\",\"Close\",\"Volume\"]\n",
        "\n",
        "# nous voulons 80% des données en training et les 20% qui restent pour tester le modèle sur des données qu'il n'a pas encore appris\n",
        "gs_train, gs_test = train_test_split(gs, train_size=0.8, test_size=0.2, shuffle=False)\n",
        "\n",
        "# regarder la forme de nos données, leur taille..\n",
        "print(gs_train.shape)\n",
        "print(gs_test.shape)\n",
        "\n",
        "# redimensionnement pour garder les colonnes qui nous interéssent\n",
        "x = gs_train.loc[:,train_cols].values\n",
        "xx = gs_test.loc[:,train_cols].values\n",
        "min_max_scaler = MinMaxScaler()\n",
        "x_train = min_max_scaler.fit_transform(x)\n",
        "x_test = min_max_scaler.transform(xx)\n",
        "\n",
        "print(x_train.shape)\n",
        "print(x_test.shape)"
      ],
      "execution_count": 8,
      "outputs": [
        {
          "output_type": "stream",
          "text": [
            "(1812, 7)\n",
            "(453, 7)\n",
            "(1812, 5)\n",
            "(453, 5)\n"
          ],
          "name": "stdout"
        }
      ]
    },
    {
      "cell_type": "markdown",
      "metadata": {
        "id": "cdDF9FZugdxA",
        "colab_type": "text"
      },
      "source": [
        "## Etape 3 : Conversion des données en séries chronologiques.\n",
        "\n",
        "\n",
        "Les ***LSTM***s consomment des entrées au format **[batch_size, time_steps, features]** un tableau tridimensionnel.\n",
        "\n",
        "\n",
        "*   ***batch_size*** : indique le nombre d'échantillons d'entrée que vous souhaitez que votre réseau processe avant de mettre à jour les poids. L'utilisation d'une très petite taille de lot réduit la vitesse de formation et d'autre part, l'utilisation d'une taille de lot trop grande réduit la capacité des modèles à se généraliser à différentes données et consomme également plus de mémoire.\n",
        "\n"
      ]
    },
    {
      "cell_type": "code",
      "metadata": {
        "id": "nBJMWi6KnrYD",
        "colab_type": "code",
        "colab": {}
      },
      "source": [
        "batch_size = 20"
      ],
      "execution_count": 0,
      "outputs": []
    },
    {
      "cell_type": "markdown",
      "metadata": {
        "id": "EvbdCMCLnqaw",
        "colab_type": "text"
      },
      "source": [
        "*   ***time_steps*** : définissent le nombre d'unités dans le temps passé que vous souhaitez que votre réseau prenne en considération. Dans notre cas, nous utiliserons la valeur **10**, c'est-à-dire que nous examinerons **10 jours** de données pour prédire le prix du jour suivant.\n",
        "\n"
      ]
    },
    {
      "cell_type": "code",
      "metadata": {
        "id": "v132N1BojpZy",
        "colab_type": "code",
        "colab": {}
      },
      "source": [
        "time_steps = 10"
      ],
      "execution_count": 0,
      "outputs": []
    },
    {
      "cell_type": "markdown",
      "metadata": {
        "id": "MzY2w-XckKO2",
        "colab_type": "text"
      },
      "source": [
        "\n",
        "\n",
        "*   ***features*** : indique le nombre d'attributs utilisés pour représenter chaque ***time_step***.\n",
        "\n",
        "\n",
        "Nous allons écrire deux fonctions qui vont nous permettre de faire cette conversion de nos données en séries chronologiques."
      ]
    },
    {
      "cell_type": "code",
      "metadata": {
        "id": "pqFCHqLQkyBC",
        "colab_type": "code",
        "colab": {}
      },
      "source": [
        "from tqdm import tqdm\n",
        "\n",
        "def build_timeseries(matrix, y_col_index):\n",
        "    # y_col_index est l'indice dela colonne qui sera l'output\n",
        "    '''\n",
        "     le dernier échantillon permet de prédire la dernière case\n",
        "     donc le nombre total d'échantillons est len(matrix) - time_steps\n",
        "    '''\n",
        "    n = matrix.shape[0] - time_steps\n",
        "    m = matrix.shape[1]\n",
        "\n",
        "    x = np.zeros((n, time_steps, m))\n",
        "    y = np.zeros((n,))\n",
        "    \n",
        "    for i in tqdm(range(n)):\n",
        "        x[i] = matrix[i:time_steps+i]\n",
        "        y[i] = matrix[time_steps+i, y_col_index]\n",
        "    print(\"La taille de la série chronologique est :\\nInput : \", x.shape, \"\\nOutput : \", y.shape)\n",
        "    return x, y"
      ],
      "execution_count": 0,
      "outputs": []
    },
    {
      "cell_type": "markdown",
      "metadata": {
        "id": "9GbDvmqQoXff",
        "colab_type": "text"
      },
      "source": [
        "\n",
        "***y_col_index*** est l'indice de la colonne output. Supposons maintenant qu'après la conversion des données vous avez **41 échantillons** dans votre jeu de données d'entraînement mais votre ***batch_size*** est de **20** nous aurons un échantillon qui ne sera pas utilisé."
      ]
    },
    {
      "cell_type": "markdown",
      "metadata": {
        "id": "Yxa8_VGopThD",
        "colab_type": "text"
      },
      "source": [
        "Pour raison de nettoyage de données, nous devrons couper l'ensemble d'apprentissage pour supprimer les échantillons laissés de côté."
      ]
    },
    {
      "cell_type": "code",
      "metadata": {
        "id": "JnrssQHFpUoU",
        "colab_type": "code",
        "colab": {}
      },
      "source": [
        "# coupe l'ensemble d'apprentissage en une taille divisible par le batch_size\n",
        "def trim_dataset(matrix, batch_size):\n",
        "    rows_to_drop = matrix.shape[0] % batch_size\n",
        "    if(rows_to_drop > 0):\n",
        "        return matrix[:-rows_to_drop] # retire rows_to_drop ligne depuis la fin\n",
        "    else:\n",
        "        return matrix"
      ],
      "execution_count": 0,
      "outputs": []
    },
    {
      "cell_type": "markdown",
      "metadata": {
        "id": "xcS50yaIqfh0",
        "colab_type": "text"
      },
      "source": [
        "### Maintenant on peut faire la conversion de notre dataset."
      ]
    },
    {
      "cell_type": "code",
      "metadata": {
        "id": "BpMescPrqcR6",
        "colab_type": "code",
        "outputId": "99af0585-aa5d-4705-8e46-f082035b1368",
        "colab": {
          "base_uri": "https://localhost:8080/",
          "height": 158
        }
      },
      "source": [
        "# training set\n",
        "x_t, y_t = build_timeseries(x_train, 3) # y_col_index=3 car on prédit la colonne prix 'Close'\n",
        "x_t = trim_dataset(x_t, batch_size)\n",
        "y_t = trim_dataset(y_t, batch_size)\n",
        "\n",
        "# validation set and test set\n",
        "x_temp, y_temp = build_timeseries(x_test, 3)\n",
        "x_val, x_test_t = np.split(trim_dataset(x_temp, batch_size), 2)\n",
        "y_val, y_test_t = np.split(trim_dataset(y_temp, batch_size), 2)"
      ],
      "execution_count": 13,
      "outputs": [
        {
          "output_type": "stream",
          "text": [
            "100%|██████████| 1802/1802 [00:00<00:00, 282631.66it/s]\n",
            "100%|██████████| 443/443 [00:00<00:00, 303260.43it/s]"
          ],
          "name": "stderr"
        },
        {
          "output_type": "stream",
          "text": [
            "La taille de la série chronologique est :\n",
            "Input :  (1802, 10, 5) \n",
            "Output :  (1802,)\n",
            "La taille de la série chronologique est :\n",
            "Input :  (443, 10, 5) \n",
            "Output :  (443,)\n"
          ],
          "name": "stdout"
        },
        {
          "output_type": "stream",
          "text": [
            "\n"
          ],
          "name": "stderr"
        }
      ]
    },
    {
      "cell_type": "markdown",
      "metadata": {
        "id": "VjDv4_equaPZ",
        "colab_type": "text"
      },
      "source": [
        "## Etape 4 : Création du modèle.\n",
        "\n",
        "\n",
        "Le LSTM est une variation des réseaux de neurones récurrents, nous allons utiliser **une couche de 100 blocks LSTM**, **un dropout de 0.5** qui va permettre de désactiver la moitié des neurones aléatoirement pour accélérer l'apprentissage, **une couche** qui applique la fonction ***relu*** qui est tout simplement la fonction x -> max(x, 0) effectuée élément par élément, et enfin **une couche** qui applique la fonction ***sigmoid*** .\n",
        "\n",
        "![alt text](https://wikimedia.org/api/rest_v1/media/math/render/svg/13a5596ec9730facb11304344463632904f83242)\n",
        "\n",
        "Nous allons laisser le modèle s'entraîner à minimiser la fonction de coût qui est l'**erreur en moyenne quadratique MSE** à l'aide de l'algorithme d'optimistion RMSprop, nous allons fixer le pas d'apprentissage à 0.0001 en avançant vers le minimum de cette fonction de coût, nous pourrions le changer si nous voulons et voir ce qui se passerait.\n"
      ]
    },
    {
      "cell_type": "code",
      "metadata": {
        "id": "VNcXnuF5sabD",
        "colab_type": "code",
        "colab": {
          "base_uri": "https://localhost:8080/",
          "height": 34
        },
        "outputId": "41b1a137-b062-42fa-ded3-b76a6eb29b27"
      },
      "source": [
        "from keras.models import Sequential\n",
        "from keras.layers import Dense, Dropout\n",
        "from keras.layers import LSTM\n",
        "from keras import optimizers\n",
        "\n",
        "learning_rate = 1e-4\n",
        "optimizer = optimizers.RMSprop(lr=learning_rate)"
      ],
      "execution_count": 14,
      "outputs": [
        {
          "output_type": "stream",
          "text": [
            "Using TensorFlow backend.\n"
          ],
          "name": "stderr"
        }
      ]
    },
    {
      "cell_type": "code",
      "metadata": {
        "id": "QmUX5ke51o3v",
        "colab_type": "code",
        "outputId": "a6eca66d-c714-4948-b061-8f96960b9eda",
        "colab": {
          "base_uri": "https://localhost:8080/",
          "height": 301
        }
      },
      "source": [
        "model = Sequential([\n",
        "    LSTM(100, batch_input_shape=(batch_size, time_steps, x_t.shape[2]), stateful=True, kernel_initializer='random_uniform'),\n",
        "    Dropout(0.5),\n",
        "    Dense(20,activation='relu'),\n",
        "    Dense(1,activation='sigmoid')                  \n",
        "])\n",
        "\n",
        "model.summary()\n",
        "\n",
        "model.compile(loss='mean_squared_error', optimizer=optimizer)"
      ],
      "execution_count": 15,
      "outputs": [
        {
          "output_type": "stream",
          "text": [
            "Model: \"sequential_1\"\n",
            "_________________________________________________________________\n",
            "Layer (type)                 Output Shape              Param #   \n",
            "=================================================================\n",
            "lstm_1 (LSTM)                (20, 100)                 42400     \n",
            "_________________________________________________________________\n",
            "dropout_1 (Dropout)          (20, 100)                 0         \n",
            "_________________________________________________________________\n",
            "dense_1 (Dense)              (20, 20)                  2020      \n",
            "_________________________________________________________________\n",
            "dense_2 (Dense)              (20, 1)                   21        \n",
            "=================================================================\n",
            "Total params: 44,441\n",
            "Trainable params: 44,441\n",
            "Non-trainable params: 0\n",
            "_________________________________________________________________\n"
          ],
          "name": "stdout"
        }
      ]
    },
    {
      "cell_type": "markdown",
      "metadata": {
        "id": "vI6-qWrd6Txg",
        "colab_type": "text"
      },
      "source": [
        "### Il ne reste plus qu'à lancer l'apprentissage pour 100 époques."
      ]
    },
    {
      "cell_type": "code",
      "metadata": {
        "id": "00ItZRQihQMp",
        "colab_type": "code",
        "colab": {}
      },
      "source": [
        "val_data = (trim_dataset(x_val, batch_size), trim_dataset(y_val, batch_size))"
      ],
      "execution_count": 0,
      "outputs": []
    },
    {
      "cell_type": "code",
      "metadata": {
        "id": "KpKk96-u5shi",
        "colab_type": "code",
        "outputId": "a4856214-7e14-448b-a651-4cb84aaae90f",
        "colab": {
          "base_uri": "https://localhost:8080/",
          "height": 1000
        }
      },
      "source": [
        "history = model.fit(\n",
        "    x_t,\n",
        "    y_t,\n",
        "    epochs=300,\n",
        "    verbose=2,\n",
        "    shuffle=False,\n",
        "    batch_size = batch_size,\n",
        "    validation_data = val_data,\n",
        ")"
      ],
      "execution_count": 17,
      "outputs": [
        {
          "output_type": "stream",
          "text": [
            "Train on 1800 samples, validate on 220 samples\n",
            "Epoch 1/300\n",
            " - 1s - loss: 0.0451 - val_loss: 0.1651\n",
            "Epoch 2/300\n",
            " - 1s - loss: 0.0426 - val_loss: 0.1400\n",
            "Epoch 3/300\n",
            " - 1s - loss: 0.0396 - val_loss: 0.1178\n",
            "Epoch 4/300\n",
            " - 1s - loss: 0.0325 - val_loss: 0.0899\n",
            "Epoch 5/300\n",
            " - 1s - loss: 0.0238 - val_loss: 0.0719\n",
            "Epoch 6/300\n",
            " - 1s - loss: 0.0194 - val_loss: 0.0576\n",
            "Epoch 7/300\n",
            " - 1s - loss: 0.0167 - val_loss: 0.0477\n",
            "Epoch 8/300\n",
            " - 1s - loss: 0.0151 - val_loss: 0.0407\n",
            "Epoch 9/300\n",
            " - 1s - loss: 0.0139 - val_loss: 0.0340\n",
            "Epoch 10/300\n",
            " - 1s - loss: 0.0125 - val_loss: 0.0295\n",
            "Epoch 11/300\n",
            " - 1s - loss: 0.0113 - val_loss: 0.0249\n",
            "Epoch 12/300\n",
            " - 1s - loss: 0.0101 - val_loss: 0.0207\n",
            "Epoch 13/300\n",
            " - 1s - loss: 0.0089 - val_loss: 0.0178\n",
            "Epoch 14/300\n",
            " - 1s - loss: 0.0078 - val_loss: 0.0150\n",
            "Epoch 15/300\n",
            " - 1s - loss: 0.0068 - val_loss: 0.0128\n",
            "Epoch 16/300\n",
            " - 1s - loss: 0.0062 - val_loss: 0.0112\n",
            "Epoch 17/300\n",
            " - 1s - loss: 0.0062 - val_loss: 0.0107\n",
            "Epoch 18/300\n",
            " - 1s - loss: 0.0061 - val_loss: 0.0100\n",
            "Epoch 19/300\n",
            " - 1s - loss: 0.0063 - val_loss: 0.0079\n",
            "Epoch 20/300\n",
            " - 1s - loss: 0.0061 - val_loss: 0.0076\n",
            "Epoch 21/300\n",
            " - 1s - loss: 0.0058 - val_loss: 0.0079\n",
            "Epoch 22/300\n",
            " - 1s - loss: 0.0056 - val_loss: 0.0068\n",
            "Epoch 23/300\n",
            " - 1s - loss: 0.0053 - val_loss: 0.0070\n",
            "Epoch 24/300\n",
            " - 1s - loss: 0.0052 - val_loss: 0.0063\n",
            "Epoch 25/300\n",
            " - 1s - loss: 0.0051 - val_loss: 0.0057\n",
            "Epoch 26/300\n",
            " - 1s - loss: 0.0049 - val_loss: 0.0057\n",
            "Epoch 27/300\n",
            " - 1s - loss: 0.0047 - val_loss: 0.0054\n",
            "Epoch 28/300\n",
            " - 1s - loss: 0.0047 - val_loss: 0.0052\n",
            "Epoch 29/300\n",
            " - 1s - loss: 0.0043 - val_loss: 0.0051\n",
            "Epoch 30/300\n",
            " - 1s - loss: 0.0041 - val_loss: 0.0043\n",
            "Epoch 31/300\n",
            " - 1s - loss: 0.0040 - val_loss: 0.0034\n",
            "Epoch 32/300\n",
            " - 1s - loss: 0.0043 - val_loss: 0.0032\n",
            "Epoch 33/300\n",
            " - 1s - loss: 0.0042 - val_loss: 0.0031\n",
            "Epoch 34/300\n",
            " - 1s - loss: 0.0041 - val_loss: 0.0028\n",
            "Epoch 35/300\n",
            " - 1s - loss: 0.0044 - val_loss: 0.0029\n",
            "Epoch 36/300\n",
            " - 1s - loss: 0.0047 - val_loss: 0.0030\n",
            "Epoch 37/300\n",
            " - 1s - loss: 0.0055 - val_loss: 0.0031\n",
            "Epoch 38/300\n",
            " - 1s - loss: 0.0055 - val_loss: 0.0037\n",
            "Epoch 39/300\n",
            " - 1s - loss: 0.0058 - val_loss: 0.0041\n",
            "Epoch 40/300\n",
            " - 1s - loss: 0.0055 - val_loss: 0.0052\n",
            "Epoch 41/300\n",
            " - 1s - loss: 0.0058 - val_loss: 0.0062\n",
            "Epoch 42/300\n",
            " - 1s - loss: 0.0060 - val_loss: 0.0048\n",
            "Epoch 43/300\n",
            " - 1s - loss: 0.0054 - val_loss: 0.0106\n",
            "Epoch 44/300\n",
            " - 1s - loss: 0.0075 - val_loss: 0.0077\n",
            "Epoch 45/300\n",
            " - 1s - loss: 0.0053 - val_loss: 0.0075\n",
            "Epoch 46/300\n",
            " - 1s - loss: 0.0053 - val_loss: 0.0112\n",
            "Epoch 47/300\n",
            " - 1s - loss: 0.0066 - val_loss: 0.0095\n",
            "Epoch 48/300\n",
            " - 1s - loss: 0.0054 - val_loss: 0.0129\n",
            "Epoch 49/300\n",
            " - 1s - loss: 0.0070 - val_loss: 0.0133\n",
            "Epoch 50/300\n",
            " - 1s - loss: 0.0059 - val_loss: 0.0091\n",
            "Epoch 51/300\n",
            " - 1s - loss: 0.0057 - val_loss: 0.0119\n",
            "Epoch 52/300\n",
            " - 1s - loss: 0.0054 - val_loss: 0.0108\n",
            "Epoch 53/300\n",
            " - 1s - loss: 0.0056 - val_loss: 0.0158\n",
            "Epoch 54/300\n",
            " - 1s - loss: 0.0076 - val_loss: 0.0145\n",
            "Epoch 55/300\n",
            " - 1s - loss: 0.0057 - val_loss: 0.0143\n",
            "Epoch 56/300\n",
            " - 1s - loss: 0.0059 - val_loss: 0.0145\n",
            "Epoch 57/300\n",
            " - 1s - loss: 0.0057 - val_loss: 0.0153\n",
            "Epoch 58/300\n",
            " - 1s - loss: 0.0057 - val_loss: 0.0134\n",
            "Epoch 59/300\n",
            " - 1s - loss: 0.0058 - val_loss: 0.0163\n",
            "Epoch 60/300\n",
            " - 1s - loss: 0.0056 - val_loss: 0.0124\n",
            "Epoch 61/300\n",
            " - 1s - loss: 0.0057 - val_loss: 0.0160\n",
            "Epoch 62/300\n",
            " - 1s - loss: 0.0058 - val_loss: 0.0157\n",
            "Epoch 63/300\n",
            " - 1s - loss: 0.0057 - val_loss: 0.0134\n",
            "Epoch 64/300\n",
            " - 1s - loss: 0.0056 - val_loss: 0.0162\n",
            "Epoch 65/300\n",
            " - 1s - loss: 0.0052 - val_loss: 0.0149\n",
            "Epoch 66/300\n",
            " - 1s - loss: 0.0057 - val_loss: 0.0162\n",
            "Epoch 67/300\n",
            " - 1s - loss: 0.0052 - val_loss: 0.0171\n",
            "Epoch 68/300\n",
            " - 1s - loss: 0.0056 - val_loss: 0.0165\n",
            "Epoch 69/300\n",
            " - 1s - loss: 0.0055 - val_loss: 0.0166\n",
            "Epoch 70/300\n",
            " - 1s - loss: 0.0053 - val_loss: 0.0153\n",
            "Epoch 71/300\n",
            " - 1s - loss: 0.0056 - val_loss: 0.0172\n",
            "Epoch 72/300\n",
            " - 1s - loss: 0.0053 - val_loss: 0.0156\n",
            "Epoch 73/300\n",
            " - 1s - loss: 0.0045 - val_loss: 0.0103\n",
            "Epoch 74/300\n",
            " - 1s - loss: 0.0050 - val_loss: 0.0168\n",
            "Epoch 75/300\n",
            " - 1s - loss: 0.0045 - val_loss: 0.0086\n",
            "Epoch 76/300\n",
            " - 1s - loss: 0.0044 - val_loss: 0.0132\n",
            "Epoch 77/300\n",
            " - 1s - loss: 0.0028 - val_loss: 0.0061\n",
            "Epoch 78/300\n",
            " - 1s - loss: 0.0021 - val_loss: 0.0111\n",
            "Epoch 79/300\n",
            " - 1s - loss: 0.0023 - val_loss: 0.0152\n",
            "Epoch 80/300\n",
            " - 1s - loss: 0.0026 - val_loss: 0.0046\n",
            "Epoch 81/300\n",
            " - 1s - loss: 0.0021 - val_loss: 0.0077\n",
            "Epoch 82/300\n",
            " - 1s - loss: 0.0017 - val_loss: 0.0084\n",
            "Epoch 83/300\n",
            " - 1s - loss: 0.0017 - val_loss: 0.0137\n",
            "Epoch 84/300\n",
            " - 1s - loss: 0.0032 - val_loss: 0.0055\n",
            "Epoch 85/300\n",
            " - 1s - loss: 0.0018 - val_loss: 0.0123\n",
            "Epoch 86/300\n",
            " - 1s - loss: 0.0020 - val_loss: 0.0063\n",
            "Epoch 87/300\n",
            " - 1s - loss: 0.0016 - val_loss: 0.0141\n",
            "Epoch 88/300\n",
            " - 1s - loss: 0.0017 - val_loss: 0.0046\n",
            "Epoch 89/300\n",
            " - 1s - loss: 0.0017 - val_loss: 0.0145\n",
            "Epoch 90/300\n",
            " - 1s - loss: 0.0016 - val_loss: 0.0112\n",
            "Epoch 91/300\n",
            " - 1s - loss: 0.0016 - val_loss: 0.0107\n",
            "Epoch 92/300\n",
            " - 1s - loss: 0.0016 - val_loss: 0.0135\n",
            "Epoch 93/300\n",
            " - 1s - loss: 0.0014 - val_loss: 0.0053\n",
            "Epoch 94/300\n",
            " - 1s - loss: 0.0017 - val_loss: 0.0137\n",
            "Epoch 95/300\n",
            " - 1s - loss: 0.0015 - val_loss: 0.0118\n",
            "Epoch 96/300\n",
            " - 1s - loss: 0.0014 - val_loss: 0.0046\n",
            "Epoch 97/300\n",
            " - 1s - loss: 0.0017 - val_loss: 0.0117\n",
            "Epoch 98/300\n",
            " - 1s - loss: 0.0014 - val_loss: 0.0035\n",
            "Epoch 99/300\n",
            " - 1s - loss: 0.0014 - val_loss: 0.0088\n",
            "Epoch 100/300\n",
            " - 1s - loss: 0.0017 - val_loss: 0.0133\n",
            "Epoch 101/300\n",
            " - 1s - loss: 0.0024 - val_loss: 0.0106\n",
            "Epoch 102/300\n",
            " - 1s - loss: 0.0018 - val_loss: 0.0097\n",
            "Epoch 103/300\n",
            " - 1s - loss: 0.0016 - val_loss: 0.0072\n",
            "Epoch 104/300\n",
            " - 1s - loss: 0.0016 - val_loss: 0.0098\n",
            "Epoch 105/300\n",
            " - 1s - loss: 0.0014 - val_loss: 0.0131\n",
            "Epoch 106/300\n",
            " - 1s - loss: 0.0017 - val_loss: 0.0036\n",
            "Epoch 107/300\n",
            " - 1s - loss: 0.0017 - val_loss: 0.0073\n",
            "Epoch 108/300\n",
            " - 1s - loss: 0.0017 - val_loss: 0.0047\n",
            "Epoch 109/300\n",
            " - 1s - loss: 0.0015 - val_loss: 0.0108\n",
            "Epoch 110/300\n",
            " - 1s - loss: 0.0014 - val_loss: 0.0051\n",
            "Epoch 111/300\n",
            " - 1s - loss: 0.0017 - val_loss: 0.0122\n",
            "Epoch 112/300\n",
            " - 1s - loss: 0.0015 - val_loss: 0.0103\n",
            "Epoch 113/300\n",
            " - 1s - loss: 0.0014 - val_loss: 0.0083\n",
            "Epoch 114/300\n",
            " - 1s - loss: 0.0015 - val_loss: 0.0043\n",
            "Epoch 115/300\n",
            " - 1s - loss: 0.0014 - val_loss: 0.0129\n",
            "Epoch 116/300\n",
            " - 1s - loss: 0.0015 - val_loss: 0.0106\n",
            "Epoch 117/300\n",
            " - 1s - loss: 0.0013 - val_loss: 0.0038\n",
            "Epoch 118/300\n",
            " - 1s - loss: 0.0014 - val_loss: 0.0113\n",
            "Epoch 119/300\n",
            " - 1s - loss: 0.0014 - val_loss: 0.0037\n",
            "Epoch 120/300\n",
            " - 1s - loss: 0.0015 - val_loss: 0.0112\n",
            "Epoch 121/300\n",
            " - 1s - loss: 0.0013 - val_loss: 0.0036\n",
            "Epoch 122/300\n",
            " - 1s - loss: 0.0014 - val_loss: 0.0066\n",
            "Epoch 123/300\n",
            " - 1s - loss: 0.0013 - val_loss: 0.0036\n",
            "Epoch 124/300\n",
            " - 1s - loss: 0.0013 - val_loss: 0.0060\n",
            "Epoch 125/300\n",
            " - 1s - loss: 0.0013 - val_loss: 0.0034\n",
            "Epoch 126/300\n",
            " - 1s - loss: 0.0013 - val_loss: 0.0049\n",
            "Epoch 127/300\n",
            " - 1s - loss: 0.0012 - val_loss: 0.0041\n",
            "Epoch 128/300\n",
            " - 1s - loss: 0.0013 - val_loss: 0.0084\n",
            "Epoch 129/300\n",
            " - 1s - loss: 0.0013 - val_loss: 0.0051\n",
            "Epoch 130/300\n",
            " - 1s - loss: 0.0013 - val_loss: 0.0091\n",
            "Epoch 131/300\n",
            " - 1s - loss: 0.0012 - val_loss: 0.0057\n",
            "Epoch 132/300\n",
            " - 1s - loss: 0.0012 - val_loss: 0.0062\n",
            "Epoch 133/300\n",
            " - 1s - loss: 0.0013 - val_loss: 0.0067\n",
            "Epoch 134/300\n",
            " - 1s - loss: 0.0012 - val_loss: 0.0061\n",
            "Epoch 135/300\n",
            " - 1s - loss: 0.0012 - val_loss: 0.0132\n",
            "Epoch 136/300\n",
            " - 1s - loss: 0.0014 - val_loss: 0.0056\n",
            "Epoch 137/300\n",
            " - 1s - loss: 0.0011 - val_loss: 0.0094\n",
            "Epoch 138/300\n",
            " - 1s - loss: 0.0012 - val_loss: 0.0066\n",
            "Epoch 139/300\n",
            " - 1s - loss: 0.0012 - val_loss: 0.0080\n",
            "Epoch 140/300\n",
            " - 1s - loss: 0.0012 - val_loss: 0.0057\n",
            "Epoch 141/300\n",
            " - 1s - loss: 0.0011 - val_loss: 0.0056\n",
            "Epoch 142/300\n",
            " - 1s - loss: 0.0011 - val_loss: 0.0035\n",
            "Epoch 143/300\n",
            " - 1s - loss: 0.0013 - val_loss: 0.0042\n",
            "Epoch 144/300\n",
            " - 1s - loss: 0.0012 - val_loss: 0.0054\n",
            "Epoch 145/300\n",
            " - 1s - loss: 0.0012 - val_loss: 0.0039\n",
            "Epoch 146/300\n",
            " - 1s - loss: 0.0011 - val_loss: 0.0049\n",
            "Epoch 147/300\n",
            " - 1s - loss: 0.0011 - val_loss: 0.0071\n",
            "Epoch 148/300\n",
            " - 1s - loss: 0.0010 - val_loss: 0.0049\n",
            "Epoch 149/300\n",
            " - 1s - loss: 0.0012 - val_loss: 0.0056\n",
            "Epoch 150/300\n",
            " - 1s - loss: 0.0012 - val_loss: 0.0047\n",
            "Epoch 151/300\n",
            " - 1s - loss: 0.0011 - val_loss: 0.0050\n",
            "Epoch 152/300\n",
            " - 1s - loss: 0.0011 - val_loss: 0.0067\n",
            "Epoch 153/300\n",
            " - 1s - loss: 0.0011 - val_loss: 0.0069\n",
            "Epoch 154/300\n",
            " - 1s - loss: 0.0011 - val_loss: 0.0051\n",
            "Epoch 155/300\n",
            " - 1s - loss: 0.0011 - val_loss: 0.0054\n",
            "Epoch 156/300\n",
            " - 1s - loss: 0.0011 - val_loss: 0.0100\n",
            "Epoch 157/300\n",
            " - 1s - loss: 0.0010 - val_loss: 0.0069\n",
            "Epoch 158/300\n",
            " - 1s - loss: 0.0010 - val_loss: 0.0054\n",
            "Epoch 159/300\n",
            " - 1s - loss: 0.0011 - val_loss: 0.0073\n",
            "Epoch 160/300\n",
            " - 1s - loss: 0.0010 - val_loss: 0.0058\n",
            "Epoch 161/300\n",
            " - 1s - loss: 0.0010 - val_loss: 0.0093\n",
            "Epoch 162/300\n",
            " - 1s - loss: 0.0010 - val_loss: 0.0052\n",
            "Epoch 163/300\n",
            " - 1s - loss: 0.0010 - val_loss: 0.0060\n",
            "Epoch 164/300\n",
            " - 1s - loss: 0.0010 - val_loss: 0.0079\n",
            "Epoch 165/300\n",
            " - 1s - loss: 9.6995e-04 - val_loss: 0.0048\n",
            "Epoch 166/300\n",
            " - 1s - loss: 0.0011 - val_loss: 0.0052\n",
            "Epoch 167/300\n",
            " - 1s - loss: 0.0010 - val_loss: 0.0051\n",
            "Epoch 168/300\n",
            " - 1s - loss: 9.7732e-04 - val_loss: 0.0043\n",
            "Epoch 169/300\n",
            " - 1s - loss: 9.9756e-04 - val_loss: 0.0049\n",
            "Epoch 170/300\n",
            " - 1s - loss: 0.0010 - val_loss: 0.0067\n",
            "Epoch 171/300\n",
            " - 1s - loss: 0.0010 - val_loss: 0.0067\n",
            "Epoch 172/300\n",
            " - 1s - loss: 0.0011 - val_loss: 0.0049\n",
            "Epoch 173/300\n",
            " - 1s - loss: 0.0010 - val_loss: 0.0036\n",
            "Epoch 174/300\n",
            " - 1s - loss: 9.2513e-04 - val_loss: 0.0059\n",
            "Epoch 175/300\n",
            " - 1s - loss: 9.4375e-04 - val_loss: 0.0035\n",
            "Epoch 176/300\n",
            " - 1s - loss: 0.0011 - val_loss: 0.0069\n",
            "Epoch 177/300\n",
            " - 1s - loss: 0.0010 - val_loss: 0.0036\n",
            "Epoch 178/300\n",
            " - 1s - loss: 9.6917e-04 - val_loss: 0.0040\n",
            "Epoch 179/300\n",
            " - 1s - loss: 9.7975e-04 - val_loss: 0.0042\n",
            "Epoch 180/300\n",
            " - 1s - loss: 0.0010 - val_loss: 0.0050\n",
            "Epoch 181/300\n",
            " - 1s - loss: 9.7378e-04 - val_loss: 0.0032\n",
            "Epoch 182/300\n",
            " - 1s - loss: 9.9019e-04 - val_loss: 0.0049\n",
            "Epoch 183/300\n",
            " - 1s - loss: 9.5827e-04 - val_loss: 0.0036\n",
            "Epoch 184/300\n",
            " - 1s - loss: 9.1121e-04 - val_loss: 0.0050\n",
            "Epoch 185/300\n",
            " - 1s - loss: 9.5793e-04 - val_loss: 0.0052\n",
            "Epoch 186/300\n",
            " - 1s - loss: 9.7265e-04 - val_loss: 0.0055\n",
            "Epoch 187/300\n",
            " - 1s - loss: 9.0985e-04 - val_loss: 0.0058\n",
            "Epoch 188/300\n",
            " - 1s - loss: 8.9467e-04 - val_loss: 0.0051\n",
            "Epoch 189/300\n",
            " - 1s - loss: 9.0323e-04 - val_loss: 0.0063\n",
            "Epoch 190/300\n",
            " - 1s - loss: 8.9257e-04 - val_loss: 0.0057\n",
            "Epoch 191/300\n",
            " - 1s - loss: 9.0426e-04 - val_loss: 0.0050\n",
            "Epoch 192/300\n",
            " - 1s - loss: 9.7766e-04 - val_loss: 0.0057\n",
            "Epoch 193/300\n",
            " - 1s - loss: 9.7283e-04 - val_loss: 0.0040\n",
            "Epoch 194/300\n",
            " - 1s - loss: 8.9606e-04 - val_loss: 0.0044\n",
            "Epoch 195/300\n",
            " - 1s - loss: 9.3113e-04 - val_loss: 0.0028\n",
            "Epoch 196/300\n",
            " - 1s - loss: 9.0089e-04 - val_loss: 0.0043\n",
            "Epoch 197/300\n",
            " - 1s - loss: 8.9191e-04 - val_loss: 0.0044\n",
            "Epoch 198/300\n",
            " - 1s - loss: 9.4141e-04 - val_loss: 0.0038\n",
            "Epoch 199/300\n",
            " - 1s - loss: 9.3052e-04 - val_loss: 0.0042\n",
            "Epoch 200/300\n",
            " - 1s - loss: 8.6610e-04 - val_loss: 0.0046\n",
            "Epoch 201/300\n",
            " - 1s - loss: 8.9722e-04 - val_loss: 0.0046\n",
            "Epoch 202/300\n",
            " - 1s - loss: 8.8211e-04 - val_loss: 0.0034\n",
            "Epoch 203/300\n",
            " - 1s - loss: 8.7428e-04 - val_loss: 0.0036\n",
            "Epoch 204/300\n",
            " - 1s - loss: 8.8193e-04 - val_loss: 0.0053\n",
            "Epoch 205/300\n",
            " - 1s - loss: 8.8637e-04 - val_loss: 0.0047\n",
            "Epoch 206/300\n",
            " - 1s - loss: 8.4379e-04 - val_loss: 0.0038\n",
            "Epoch 207/300\n",
            " - 1s - loss: 9.1970e-04 - val_loss: 0.0053\n",
            "Epoch 208/300\n",
            " - 1s - loss: 9.2958e-04 - val_loss: 0.0047\n",
            "Epoch 209/300\n",
            " - 1s - loss: 8.3900e-04 - val_loss: 0.0044\n",
            "Epoch 210/300\n",
            " - 1s - loss: 8.8569e-04 - val_loss: 0.0036\n",
            "Epoch 211/300\n",
            " - 1s - loss: 8.4899e-04 - val_loss: 0.0047\n",
            "Epoch 212/300\n",
            " - 1s - loss: 8.5161e-04 - val_loss: 0.0043\n",
            "Epoch 213/300\n",
            " - 1s - loss: 8.6600e-04 - val_loss: 0.0048\n",
            "Epoch 214/300\n",
            " - 1s - loss: 8.4556e-04 - val_loss: 0.0029\n",
            "Epoch 215/300\n",
            " - 1s - loss: 8.7628e-04 - val_loss: 0.0041\n",
            "Epoch 216/300\n",
            " - 1s - loss: 9.4948e-04 - val_loss: 0.0034\n",
            "Epoch 217/300\n",
            " - 1s - loss: 8.9101e-04 - val_loss: 0.0041\n",
            "Epoch 218/300\n",
            " - 1s - loss: 7.7533e-04 - val_loss: 0.0036\n",
            "Epoch 219/300\n",
            " - 1s - loss: 8.6391e-04 - val_loss: 0.0056\n",
            "Epoch 220/300\n",
            " - 1s - loss: 9.2614e-04 - val_loss: 0.0034\n",
            "Epoch 221/300\n",
            " - 1s - loss: 8.4211e-04 - val_loss: 0.0047\n",
            "Epoch 222/300\n",
            " - 1s - loss: 8.3333e-04 - val_loss: 0.0044\n",
            "Epoch 223/300\n",
            " - 1s - loss: 8.3681e-04 - val_loss: 0.0029\n",
            "Epoch 224/300\n",
            " - 1s - loss: 8.9116e-04 - val_loss: 0.0038\n",
            "Epoch 225/300\n",
            " - 1s - loss: 8.1901e-04 - val_loss: 0.0049\n",
            "Epoch 226/300\n",
            " - 1s - loss: 8.7668e-04 - val_loss: 0.0046\n",
            "Epoch 227/300\n",
            " - 1s - loss: 8.2201e-04 - val_loss: 0.0037\n",
            "Epoch 228/300\n",
            " - 1s - loss: 8.7088e-04 - val_loss: 0.0045\n",
            "Epoch 229/300\n",
            " - 1s - loss: 8.3763e-04 - val_loss: 0.0035\n",
            "Epoch 230/300\n",
            " - 1s - loss: 9.7164e-04 - val_loss: 0.0044\n",
            "Epoch 231/300\n",
            " - 1s - loss: 8.4754e-04 - val_loss: 0.0037\n",
            "Epoch 232/300\n",
            " - 1s - loss: 8.4401e-04 - val_loss: 0.0037\n",
            "Epoch 233/300\n",
            " - 1s - loss: 8.9002e-04 - val_loss: 0.0035\n",
            "Epoch 234/300\n",
            " - 1s - loss: 8.0129e-04 - val_loss: 0.0035\n",
            "Epoch 235/300\n",
            " - 1s - loss: 8.2804e-04 - val_loss: 0.0040\n",
            "Epoch 236/300\n",
            " - 1s - loss: 8.1260e-04 - val_loss: 0.0035\n",
            "Epoch 237/300\n",
            " - 1s - loss: 8.4532e-04 - val_loss: 0.0029\n",
            "Epoch 238/300\n",
            " - 1s - loss: 8.1813e-04 - val_loss: 0.0037\n",
            "Epoch 239/300\n",
            " - 1s - loss: 8.4845e-04 - val_loss: 0.0028\n",
            "Epoch 240/300\n",
            " - 1s - loss: 8.2936e-04 - val_loss: 0.0031\n",
            "Epoch 241/300\n",
            " - 1s - loss: 8.4733e-04 - val_loss: 0.0043\n",
            "Epoch 242/300\n",
            " - 1s - loss: 8.5618e-04 - val_loss: 0.0033\n",
            "Epoch 243/300\n",
            " - 1s - loss: 7.7247e-04 - val_loss: 0.0031\n",
            "Epoch 244/300\n",
            " - 1s - loss: 8.1036e-04 - val_loss: 0.0032\n",
            "Epoch 245/300\n",
            " - 1s - loss: 8.2301e-04 - val_loss: 0.0028\n",
            "Epoch 246/300\n",
            " - 1s - loss: 7.8939e-04 - val_loss: 0.0031\n",
            "Epoch 247/300\n",
            " - 1s - loss: 7.8873e-04 - val_loss: 0.0026\n",
            "Epoch 248/300\n",
            " - 1s - loss: 8.0023e-04 - val_loss: 0.0036\n",
            "Epoch 249/300\n",
            " - 1s - loss: 8.0857e-04 - val_loss: 0.0030\n",
            "Epoch 250/300\n",
            " - 1s - loss: 8.0632e-04 - val_loss: 0.0043\n",
            "Epoch 251/300\n",
            " - 1s - loss: 7.8479e-04 - val_loss: 0.0038\n",
            "Epoch 252/300\n",
            " - 1s - loss: 7.7984e-04 - val_loss: 0.0032\n",
            "Epoch 253/300\n",
            " - 1s - loss: 7.8594e-04 - val_loss: 0.0028\n",
            "Epoch 254/300\n",
            " - 1s - loss: 8.4259e-04 - val_loss: 0.0045\n",
            "Epoch 255/300\n",
            " - 1s - loss: 7.9324e-04 - val_loss: 0.0029\n",
            "Epoch 256/300\n",
            " - 1s - loss: 7.8632e-04 - val_loss: 0.0028\n",
            "Epoch 257/300\n",
            " - 1s - loss: 7.2571e-04 - val_loss: 0.0022\n",
            "Epoch 258/300\n",
            " - 1s - loss: 8.4555e-04 - val_loss: 0.0030\n",
            "Epoch 259/300\n",
            " - 1s - loss: 7.8339e-04 - val_loss: 0.0028\n",
            "Epoch 260/300\n",
            " - 1s - loss: 8.0327e-04 - val_loss: 0.0037\n",
            "Epoch 261/300\n",
            " - 1s - loss: 8.2469e-04 - val_loss: 0.0028\n",
            "Epoch 262/300\n",
            " - 1s - loss: 7.9354e-04 - val_loss: 0.0038\n",
            "Epoch 263/300\n",
            " - 1s - loss: 8.0057e-04 - val_loss: 0.0029\n",
            "Epoch 264/300\n",
            " - 1s - loss: 7.7332e-04 - val_loss: 0.0033\n",
            "Epoch 265/300\n",
            " - 1s - loss: 7.7236e-04 - val_loss: 0.0031\n",
            "Epoch 266/300\n",
            " - 1s - loss: 8.0160e-04 - val_loss: 0.0028\n",
            "Epoch 267/300\n",
            " - 1s - loss: 7.7291e-04 - val_loss: 0.0028\n",
            "Epoch 268/300\n",
            " - 1s - loss: 7.8839e-04 - val_loss: 0.0049\n",
            "Epoch 269/300\n",
            " - 1s - loss: 7.6162e-04 - val_loss: 0.0039\n",
            "Epoch 270/300\n",
            " - 1s - loss: 7.9320e-04 - val_loss: 0.0024\n",
            "Epoch 271/300\n",
            " - 1s - loss: 7.4631e-04 - val_loss: 0.0024\n",
            "Epoch 272/300\n",
            " - 1s - loss: 7.8708e-04 - val_loss: 0.0023\n",
            "Epoch 273/300\n",
            " - 1s - loss: 8.1930e-04 - val_loss: 0.0065\n",
            "Epoch 274/300\n",
            " - 1s - loss: 8.2502e-04 - val_loss: 0.0032\n",
            "Epoch 275/300\n",
            " - 1s - loss: 7.4308e-04 - val_loss: 0.0029\n",
            "Epoch 276/300\n",
            " - 1s - loss: 7.4848e-04 - val_loss: 0.0028\n",
            "Epoch 277/300\n",
            " - 1s - loss: 7.5850e-04 - val_loss: 0.0027\n",
            "Epoch 278/300\n",
            " - 1s - loss: 7.5947e-04 - val_loss: 0.0020\n",
            "Epoch 279/300\n",
            " - 1s - loss: 8.3712e-04 - val_loss: 0.0028\n",
            "Epoch 280/300\n",
            " - 1s - loss: 7.5767e-04 - val_loss: 0.0030\n",
            "Epoch 281/300\n",
            " - 1s - loss: 7.2408e-04 - val_loss: 0.0028\n",
            "Epoch 282/300\n",
            " - 1s - loss: 7.6954e-04 - val_loss: 0.0030\n",
            "Epoch 283/300\n",
            " - 1s - loss: 7.7633e-04 - val_loss: 0.0039\n",
            "Epoch 284/300\n",
            " - 1s - loss: 7.9451e-04 - val_loss: 0.0026\n",
            "Epoch 285/300\n",
            " - 1s - loss: 7.9969e-04 - val_loss: 0.0049\n",
            "Epoch 286/300\n",
            " - 1s - loss: 7.3077e-04 - val_loss: 0.0024\n",
            "Epoch 287/300\n",
            " - 1s - loss: 7.8304e-04 - val_loss: 0.0030\n",
            "Epoch 288/300\n",
            " - 1s - loss: 7.6946e-04 - val_loss: 0.0025\n",
            "Epoch 289/300\n",
            " - 1s - loss: 7.7272e-04 - val_loss: 0.0037\n",
            "Epoch 290/300\n",
            " - 1s - loss: 7.5298e-04 - val_loss: 0.0022\n",
            "Epoch 291/300\n",
            " - 1s - loss: 7.6688e-04 - val_loss: 0.0033\n",
            "Epoch 292/300\n",
            " - 1s - loss: 7.8126e-04 - val_loss: 0.0025\n",
            "Epoch 293/300\n",
            " - 1s - loss: 8.1589e-04 - val_loss: 0.0028\n",
            "Epoch 294/300\n",
            " - 1s - loss: 7.5005e-04 - val_loss: 0.0025\n",
            "Epoch 295/300\n",
            " - 1s - loss: 6.8922e-04 - val_loss: 0.0031\n",
            "Epoch 296/300\n",
            " - 1s - loss: 7.0257e-04 - val_loss: 0.0022\n",
            "Epoch 297/300\n",
            " - 1s - loss: 7.7696e-04 - val_loss: 0.0033\n",
            "Epoch 298/300\n",
            " - 1s - loss: 7.5986e-04 - val_loss: 0.0032\n",
            "Epoch 299/300\n",
            " - 1s - loss: 7.5124e-04 - val_loss: 0.0028\n",
            "Epoch 300/300\n",
            " - 1s - loss: 7.3472e-04 - val_loss: 0.0025\n"
          ],
          "name": "stdout"
        }
      ]
    },
    {
      "cell_type": "markdown",
      "metadata": {
        "id": "jX0AG0kZ9i9U",
        "colab_type": "text"
      },
      "source": [
        "## Etape 5 : Prédiction et visualisation du résultat.\n"
      ]
    },
    {
      "cell_type": "markdown",
      "metadata": {
        "id": "PudUpjB1_vcY",
        "colab_type": "text"
      },
      "source": [
        "On visualise le coût lors de l'apprentissage et lors de la validation."
      ]
    },
    {
      "cell_type": "code",
      "metadata": {
        "id": "FVaQwMZg7qpI",
        "colab_type": "code",
        "outputId": "e083842e-0a7f-47e3-ece2-7f2967f42bde",
        "colab": {
          "base_uri": "https://localhost:8080/",
          "height": 531
        }
      },
      "source": [
        "plt.figure()\n",
        "plt.figure(figsize=(15,8))\n",
        "plt.plot(history.history['loss'], color='red')\n",
        "plt.plot(history.history['val_loss'], color='green')\n",
        "plt.title('Coût du modèle')\n",
        "plt.ylabel('Coût')\n",
        "plt.xlabel('Epoque')\n",
        "plt.legend(['Apprentissage', 'Test'], loc='upper left')\n",
        "plt.show()"
      ],
      "execution_count": 18,
      "outputs": [
        {
          "output_type": "display_data",
          "data": {
            "text/plain": [
              "<Figure size 432x288 with 0 Axes>"
            ]
          },
          "metadata": {
            "tags": []
          }
        },
        {
          "output_type": "display_data",
          "data": {
            "image/png": "[encoded data removed]",
            "text/plain": [
              "<Figure size 1080x576 with 1 Axes>"
            ]
          },
          "metadata": {
            "tags": []
          }
        }
      ]
    },
    {
      "cell_type": "markdown",
      "metadata": {
        "id": "ERKTqVJTzDDM",
        "colab_type": "text"
      },
      "source": [
        "Le coût lors de la phase du test ne suit aucune tendance, il oscille beaucoup autour de celui de la phase d'entrainement."
      ]
    },
    {
      "cell_type": "markdown",
      "metadata": {
        "id": "XL55jVTHAhzx",
        "colab_type": "text"
      },
      "source": [
        "La prédiction avec le modèle est la suivante :"
      ]
    },
    {
      "cell_type": "code",
      "metadata": {
        "id": "_sDrtbso_D1X",
        "colab_type": "code",
        "outputId": "ea0b614c-b8a4-40f4-dd79-d6075e6bff6d",
        "colab": {
          "base_uri": "https://localhost:8080/",
          "height": 34
        }
      },
      "source": [
        "from sklearn.metrics import mean_squared_error\n",
        "\n",
        "y_pred = model.predict(trim_dataset(x_test_t, batch_size), batch_size=batch_size)\n",
        "y_pred = y_pred.flatten()\n",
        "y_test_t = trim_dataset(y_test_t, batch_size)\n",
        "error = mean_squared_error(y_test_t, y_pred)\n",
        "\n",
        "print(\"L'erreur est :\", error)"
      ],
      "execution_count": 19,
      "outputs": [
        {
          "output_type": "stream",
          "text": [
            "L'erreur est : 0.0026646914484816163\n"
          ],
          "name": "stdout"
        }
      ]
    },
    {
      "cell_type": "markdown",
      "metadata": {
        "id": "GTg56W5EDvsd",
        "colab_type": "text"
      },
      "source": [
        "Nous allons ensuite convertir le vecteur prédit en d'intervalles de données réelles :"
      ]
    },
    {
      "cell_type": "code",
      "metadata": {
        "id": "the3y6rvDiXT",
        "colab_type": "code",
        "outputId": "be2ecdcb-b5de-4d24-8e57-7fae68d07bb1",
        "colab": {
          "base_uri": "https://localhost:8080/",
          "height": 34
        }
      },
      "source": [
        "y_pred_org = (y_pred * min_max_scaler.data_range_[3]) + min_max_scaler.data_min_[3]\n",
        "y_test_t_org = (y_test_t * min_max_scaler.data_range_[3]) + min_max_scaler.data_min_[3]\n",
        "error = mean_squared_error(y_test_t_org, y_pred_org)\n",
        "\n",
        "print(\"L'erreur réelle est :\", error)"
      ],
      "execution_count": 20,
      "outputs": [
        {
          "output_type": "stream",
          "text": [
            "L'erreur réelle est : 72.7133994210068\n"
          ],
          "name": "stdout"
        }
      ]
    },
    {
      "cell_type": "markdown",
      "metadata": {
        "id": "04xoI33RFNB7",
        "colab_type": "text"
      },
      "source": [
        "Sur la même figure, la prédiction en rouge et le graphe réel en vert :"
      ]
    },
    {
      "cell_type": "code",
      "metadata": {
        "id": "TkrXaVVKEzrm",
        "colab_type": "code",
        "outputId": "13b3fea1-9c2f-44d3-e8f1-6a949311b274",
        "colab": {
          "base_uri": "https://localhost:8080/",
          "height": 531
        }
      },
      "source": [
        "plt.figure()\n",
        "plt.figure(figsize=(15,8))\n",
        "plt.plot(y_pred_org, color='red')\n",
        "plt.plot(y_test_t_org, color='green')\n",
        "plt.title('Prediction et Prix réel')\n",
        "plt.ylabel('Prix')\n",
        "plt.xlabel('Jours')\n",
        "plt.legend(['Prediction', 'Réel'], loc='upper left')\n",
        "plt.show()"
      ],
      "execution_count": 21,
      "outputs": [
        {
          "output_type": "display_data",
          "data": {
            "text/plain": [
              "<Figure size 432x288 with 0 Axes>"
            ]
          },
          "metadata": {
            "tags": []
          }
        },
        {
          "output_type": "display_data",
          "data": {
            "image/png": "[encoded data removed]",
            "text/plain": [
              "<Figure size 1080x576 with 1 Axes>"
            ]
          },
          "metadata": {
            "tags": []
          }
        }
      ]
    },
    {
      "cell_type": "markdown",
      "metadata": {
        "id": "L_QfSVLDdAyG",
        "colab_type": "text"
      },
      "source": [
        "Le résultat montre que le modèle ne se comporte pas du tout bien vis à vis de notre dataset un peu limité en niveau de taille, il parvient à prédire la tendance des actions mais nous avons besoin de beaucoup plus de précisions pour parvenir à un bon résultat."
      ]
    },
    {
      "cell_type": "markdown",
      "metadata": {
        "id": "JXfo2TgnysSF",
        "colab_type": "text"
      },
      "source": [
        "# Nous allons essayer d'avancer dans l'étude en recherchant des méthodes plus optimisés et un modèle plus pertinent pour gérer le manque de données.\n",
        "\n",
        "# [Continuez la lecture ici](https://github.com/adnaneaabbar/stock-trading-system/blob/master/Optimized%20%20trading%20methods.ipynb)"
      ]
    }
  ]
}