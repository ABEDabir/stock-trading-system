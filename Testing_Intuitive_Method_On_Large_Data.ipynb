{
  "nbformat": 4,
  "nbformat_minor": 0,
  "metadata": {
    "colab": {
      "name": "stock-trading-system.ipynb",
      "provenance": [],
      "toc_visible": true,
      "authorship_tag": "ABX9TyMWepyE1jjzKEyhBi9XgF1u",
      "include_colab_link": true
    },
    "kernelspec": {
      "name": "python3",
      "display_name": "Python 3"
    }
  },
  "cells": [
    {
      "cell_type": "markdown",
      "metadata": {
        "id": "view-in-github",
        "colab_type": "text"
      },
      "source": [
        "<a href=\"https://colab.research.google.com/github/adnaneaabbar/stock-trading-system/blob/master/Testing-stock_trading_system-on-large-data.ipynb\" target=\"_parent\"><img src=\"https://colab.research.google.com/assets/colab-badge.svg\" alt=\"Open In Colab\"/></a>"
      ]
    },
    {
      "cell_type": "markdown",
      "metadata": {
        "id": "4f2W_a4TUkei",
        "colab_type": "text"
      },
      "source": [
        "Nous allons tout d'abord faire l'étude, sur la GE - General Electric Co. Nous allons essayer de prédire à l'aide de séries chronologiques les prix de leurs actions.\n",
        "\n",
        "---\n",
        "\n",
        "# Etude à base de modèle LSTM\n",
        "\n",
        "\n",
        "---\n",
        "\n",
        "## Etape 1 : Chargement et analyse des données.\n",
        "\n",
        "Nous utiliserons les données historiques des 55 dernières années du cours des actions de GE. Vous pouvez trouver les données sur yahoo finance.\n"
      ]
    },
    {
      "cell_type": "code",
      "metadata": {
        "id": "_3USqhyhU3Dh",
        "colab_type": "code",
        "colab": {}
      },
      "source": [
        "import numpy as np\n",
        "import pandas as pd "
      ],
      "execution_count": 0,
      "outputs": []
    },
    {
      "cell_type": "code",
      "metadata": {
        "id": "l9oBxgb0X_qz",
        "colab_type": "code",
        "colab": {}
      },
      "source": [
        "url = 'https://raw.githubusercontent.com/adnaneaabbar/stock-trading-system/master/data/ge.csv?token=AKSKTRR27W6GPGTXETAZPWC6Z5T3K'\n",
        "gs = pd.read_csv(url)"
      ],
      "execution_count": 0,
      "outputs": []
    },
    {
      "cell_type": "code",
      "metadata": {
        "id": "r26rdGWjZ8Rh",
        "colab_type": "code",
        "outputId": "42a4764d-dca1-48d0-c61d-820827a10555",
        "colab": {
          "base_uri": "https://localhost:8080/",
          "height": 197
        }
      },
      "source": [
        "gs.head()"
      ],
      "execution_count": 0,
      "outputs": [
        {
          "output_type": "execute_result",
          "data": {
            "text/html": [
              "<div>\n",
              "<style scoped>\n",
              "    .dataframe tbody tr th:only-of-type {\n",
              "        vertical-align: middle;\n",
              "    }\n",
              "\n",
              "    .dataframe tbody tr th {\n",
              "        vertical-align: top;\n",
              "    }\n",
              "\n",
              "    .dataframe thead th {\n",
              "        text-align: right;\n",
              "    }\n",
              "</style>\n",
              "<table border=\"1\" class=\"dataframe\">\n",
              "  <thead>\n",
              "    <tr style=\"text-align: right;\">\n",
              "      <th></th>\n",
              "      <th>Date</th>\n",
              "      <th>Open</th>\n",
              "      <th>High</th>\n",
              "      <th>Low</th>\n",
              "      <th>Close</th>\n",
              "      <th>Volume</th>\n",
              "      <th>OpenInt</th>\n",
              "    </tr>\n",
              "  </thead>\n",
              "  <tbody>\n",
              "    <tr>\n",
              "      <th>0</th>\n",
              "      <td>1962-01-02</td>\n",
              "      <td>0.6277</td>\n",
              "      <td>0.6362</td>\n",
              "      <td>0.6201</td>\n",
              "      <td>0.6201</td>\n",
              "      <td>2575579</td>\n",
              "      <td>0</td>\n",
              "    </tr>\n",
              "    <tr>\n",
              "      <th>1</th>\n",
              "      <td>1962-01-03</td>\n",
              "      <td>0.6201</td>\n",
              "      <td>0.6201</td>\n",
              "      <td>0.6122</td>\n",
              "      <td>0.6201</td>\n",
              "      <td>1764749</td>\n",
              "      <td>0</td>\n",
              "    </tr>\n",
              "    <tr>\n",
              "      <th>2</th>\n",
              "      <td>1962-01-04</td>\n",
              "      <td>0.6201</td>\n",
              "      <td>0.6201</td>\n",
              "      <td>0.6037</td>\n",
              "      <td>0.6122</td>\n",
              "      <td>2194010</td>\n",
              "      <td>0</td>\n",
              "    </tr>\n",
              "    <tr>\n",
              "      <th>3</th>\n",
              "      <td>1962-01-05</td>\n",
              "      <td>0.6122</td>\n",
              "      <td>0.6122</td>\n",
              "      <td>0.5798</td>\n",
              "      <td>0.5957</td>\n",
              "      <td>3255244</td>\n",
              "      <td>0</td>\n",
              "    </tr>\n",
              "    <tr>\n",
              "      <th>4</th>\n",
              "      <td>1962-01-08</td>\n",
              "      <td>0.5957</td>\n",
              "      <td>0.5957</td>\n",
              "      <td>0.5716</td>\n",
              "      <td>0.5957</td>\n",
              "      <td>3696430</td>\n",
              "      <td>0</td>\n",
              "    </tr>\n",
              "  </tbody>\n",
              "</table>\n",
              "</div>"
            ],
            "text/plain": [
              "         Date    Open    High     Low   Close   Volume  OpenInt\n",
              "0  1962-01-02  0.6277  0.6362  0.6201  0.6201  2575579        0\n",
              "1  1962-01-03  0.6201  0.6201  0.6122  0.6201  1764749        0\n",
              "2  1962-01-04  0.6201  0.6201  0.6037  0.6122  2194010        0\n",
              "3  1962-01-05  0.6122  0.6122  0.5798  0.5957  3255244        0\n",
              "4  1962-01-08  0.5957  0.5957  0.5716  0.5957  3696430        0"
            ]
          },
          "metadata": {
            "tags": []
          },
          "execution_count": 4
        }
      ]
    },
    {
      "cell_type": "code",
      "metadata": {
        "id": "ya_YX1uqaJPG",
        "colab_type": "code",
        "outputId": "c8dc2e21-cc51-4d50-b2b6-904772c90ba4",
        "colab": {
          "base_uri": "https://localhost:8080/",
          "height": 197
        }
      },
      "source": [
        "gs.tail()"
      ],
      "execution_count": 0,
      "outputs": [
        {
          "output_type": "execute_result",
          "data": {
            "text/html": [
              "<div>\n",
              "<style scoped>\n",
              "    .dataframe tbody tr th:only-of-type {\n",
              "        vertical-align: middle;\n",
              "    }\n",
              "\n",
              "    .dataframe tbody tr th {\n",
              "        vertical-align: top;\n",
              "    }\n",
              "\n",
              "    .dataframe thead th {\n",
              "        text-align: right;\n",
              "    }\n",
              "</style>\n",
              "<table border=\"1\" class=\"dataframe\">\n",
              "  <thead>\n",
              "    <tr style=\"text-align: right;\">\n",
              "      <th></th>\n",
              "      <th>Date</th>\n",
              "      <th>Open</th>\n",
              "      <th>High</th>\n",
              "      <th>Low</th>\n",
              "      <th>Close</th>\n",
              "      <th>Volume</th>\n",
              "      <th>OpenInt</th>\n",
              "    </tr>\n",
              "  </thead>\n",
              "  <tbody>\n",
              "    <tr>\n",
              "      <th>14053</th>\n",
              "      <td>2017-11-06</td>\n",
              "      <td>20.52</td>\n",
              "      <td>20.530</td>\n",
              "      <td>20.08</td>\n",
              "      <td>20.13</td>\n",
              "      <td>60641787</td>\n",
              "      <td>0</td>\n",
              "    </tr>\n",
              "    <tr>\n",
              "      <th>14054</th>\n",
              "      <td>2017-11-07</td>\n",
              "      <td>20.17</td>\n",
              "      <td>20.250</td>\n",
              "      <td>20.12</td>\n",
              "      <td>20.21</td>\n",
              "      <td>41622851</td>\n",
              "      <td>0</td>\n",
              "    </tr>\n",
              "    <tr>\n",
              "      <th>14055</th>\n",
              "      <td>2017-11-08</td>\n",
              "      <td>20.21</td>\n",
              "      <td>20.320</td>\n",
              "      <td>20.07</td>\n",
              "      <td>20.12</td>\n",
              "      <td>39672190</td>\n",
              "      <td>0</td>\n",
              "    </tr>\n",
              "    <tr>\n",
              "      <th>14056</th>\n",
              "      <td>2017-11-09</td>\n",
              "      <td>20.04</td>\n",
              "      <td>20.071</td>\n",
              "      <td>19.85</td>\n",
              "      <td>19.99</td>\n",
              "      <td>50831779</td>\n",
              "      <td>0</td>\n",
              "    </tr>\n",
              "    <tr>\n",
              "      <th>14057</th>\n",
              "      <td>2017-11-10</td>\n",
              "      <td>19.98</td>\n",
              "      <td>20.680</td>\n",
              "      <td>19.90</td>\n",
              "      <td>20.49</td>\n",
              "      <td>100698474</td>\n",
              "      <td>0</td>\n",
              "    </tr>\n",
              "  </tbody>\n",
              "</table>\n",
              "</div>"
            ],
            "text/plain": [
              "             Date   Open    High    Low  Close     Volume  OpenInt\n",
              "14053  2017-11-06  20.52  20.530  20.08  20.13   60641787        0\n",
              "14054  2017-11-07  20.17  20.250  20.12  20.21   41622851        0\n",
              "14055  2017-11-08  20.21  20.320  20.07  20.12   39672190        0\n",
              "14056  2017-11-09  20.04  20.071  19.85  19.99   50831779        0\n",
              "14057  2017-11-10  19.98  20.680  19.90  20.49  100698474        0"
            ]
          },
          "metadata": {
            "tags": []
          },
          "execution_count": 5
        }
      ]
    },
    {
      "cell_type": "markdown",
      "metadata": {
        "id": "FANml5p5co4j",
        "colab_type": "text"
      },
      "source": [
        "\n",
        "Comme vous pouvez le voir, il y a 14056 lignes, chacune représentant les attributs boursiers d'une journée pour la compagnie. Traçons les différents attributs :"
      ]
    },
    {
      "cell_type": "code",
      "metadata": {
        "id": "JRpvJhO1c_G1",
        "colab_type": "code",
        "outputId": "491a9e2a-cfc6-4fea-bdfa-4b37bc84ea3f",
        "colab": {
          "base_uri": "https://localhost:8080/",
          "height": 531
        }
      },
      "source": [
        "from matplotlib import pyplot as plt\n",
        "from matplotlib import style\n",
        "style.use('dark_background')\n",
        "\n",
        "plt.figure()\n",
        "plt.figure(figsize=(15,8))\n",
        "plt.plot(gs[\"Open\"])\n",
        "plt.plot(gs[\"High\"])\n",
        "plt.plot(gs[\"Low\"])\n",
        "plt.plot(gs[\"Close\"])\n",
        "plt.title('Historique des prix des actions de GE')\n",
        "plt.ylabel('Prix USD')\n",
        "plt.xlabel('Jours')\n",
        "plt.legend(['Open','High','Low','Close'], loc='upper left')\n",
        "plt.show()"
      ],
      "execution_count": 0,
      "outputs": [
        {
          "output_type": "display_data",
          "data": {
            "text/plain": [
              "<Figure size 432x288 with 0 Axes>"
            ]
          },
          "metadata": {
            "tags": []
          }
        },
        {
          "output_type": "display_data",
          "data": {
            "image/png": "[encoded data removed]",
            "text/plain": [
              "<Figure size 1080x576 with 1 Axes>"
            ]
          },
          "metadata": {
            "tags": []
          }
        }
      ]
    },
    {
      "cell_type": "markdown",
      "metadata": {
        "id": "LTX6GHK7fumo",
        "colab_type": "text"
      },
      "source": [
        "\n",
        "Les prix - Open, Close, Low, High - ne varient pas trop les uns des autres, sauf occasionnellement. Traçons le Volume:"
      ]
    },
    {
      "cell_type": "code",
      "metadata": {
        "id": "VicBEOXdgDky",
        "colab_type": "code",
        "outputId": "24b6aeaa-1e17-45df-ee43-8fc8acc57521",
        "colab": {
          "base_uri": "https://localhost:8080/",
          "height": 531
        }
      },
      "source": [
        "plt.figure()\n",
        "plt.figure(figsize=(15,8))\n",
        "plt.plot(gs[\"Volume\"])\n",
        "plt.title('Historique du volume')\n",
        "plt.ylabel('Volume')\n",
        "plt.xlabel('Jours')\n",
        "plt.show()"
      ],
      "execution_count": 0,
      "outputs": [
        {
          "output_type": "display_data",
          "data": {
            "text/plain": [
              "<Figure size 432x288 with 0 Axes>"
            ]
          },
          "metadata": {
            "tags": []
          }
        },
        {
          "output_type": "display_data",
          "data": {
            "image/png": "[encoded data removed]",
            "text/plain": [
              "<Figure size 1080x576 with 1 Axes>"
            ]
          },
          "metadata": {
            "tags": []
          }
        }
      ]
    },
    {
      "cell_type": "markdown",
      "metadata": {
        "id": "ncT0wm8PXYaF",
        "colab_type": "text"
      },
      "source": [
        "Il y a une forte augmentation du nombre de transactions autour du 12000ème jour sur la chronologie, qui coïncide avec la chute soudaine du cours des actions just après quelques jours.\n"
      ]
    },
    {
      "cell_type": "markdown",
      "metadata": {
        "id": "aEACIbZeYGhs",
        "colab_type": "text"
      },
      "source": [
        "Après avoir chargé les données, nous nous assurons que toutes les données sont présentes, lorsqu'une donnée n'existe pas, elle est remplacée par la valeur null ou NaN."
      ]
    },
    {
      "cell_type": "code",
      "metadata": {
        "id": "iSnAurY6YVZs",
        "colab_type": "code",
        "outputId": "f58c2506-6890-4ff7-e0c4-5f2aac6078c6",
        "colab": {
          "base_uri": "https://localhost:8080/",
          "height": 158
        }
      },
      "source": [
        "gs.isna().sum()"
      ],
      "execution_count": 0,
      "outputs": [
        {
          "output_type": "execute_result",
          "data": {
            "text/plain": [
              "Date       0\n",
              "Open       0\n",
              "High       0\n",
              "Low        0\n",
              "Close      0\n",
              "Volume     0\n",
              "OpenInt    0\n",
              "dtype: int64"
            ]
          },
          "metadata": {
            "tags": []
          },
          "execution_count": 8
        }
      ]
    },
    {
      "cell_type": "markdown",
      "metadata": {
        "id": "jJC7t_6YYddr",
        "colab_type": "text"
      },
      "source": [
        "Comme nous pouvons voir toutes les valeurs existent et de type int64."
      ]
    },
    {
      "cell_type": "markdown",
      "metadata": {
        "id": "0xjxv3K6aQe9",
        "colab_type": "text"
      },
      "source": [
        "## Etape 2 : Normalisation des données.\n",
        "\n",
        "Les données ne sont pas normalisées et la plage pour chaque colonne varie, en particulier le volume. La normalisation des données aide l'algorithme à converger, c'est-à-dire à trouver efficacement le minimum local / global. \n"
      ]
    },
    {
      "cell_type": "markdown",
      "metadata": {
        "id": "TKWOo1eGalsa",
        "colab_type": "text"
      },
      "source": [
        "Nous utiliserons MinMaxScaler de Sci-kit Learn. Mais avant cela, nous devons diviser l'ensemble de données en ensembles de données d'apprentissage(**training**) et de **test**. Je vais également convertir le *DataFrame* en *ndarray* dans le processus.\n"
      ]
    },
    {
      "cell_type": "code",
      "metadata": {
        "id": "AzzuaYx3a-7K",
        "colab_type": "code",
        "outputId": "034148b9-6939-4760-dde2-98bf663d9611",
        "colab": {
          "base_uri": "https://localhost:8080/",
          "height": 87
        }
      },
      "source": [
        "from sklearn.preprocessing import MinMaxScaler\n",
        "from sklearn.model_selection import train_test_split\n",
        "\n",
        "# definir les colonnes qu'on va nourrir à notre modèle d'apprentissage\n",
        "train_cols = [\"Open\",\"High\",\"Low\",\"Close\",\"Volume\"]\n",
        "\n",
        "# nous voulons 80% des données en training et les 20% qui restent pour tester le modèle sur des données qu'il n'a pas encore appris\n",
        "gs_train, gs_test = train_test_split(gs, train_size=0.8, test_size=0.2, shuffle=False)\n",
        "\n",
        "# regarder la forme de nos données, leur taille..\n",
        "print(gs_train.shape)\n",
        "print(gs_test.shape)\n",
        "\n",
        "# redimensionnement pour garder les colonnes qui nous interéssent\n",
        "x = gs_train.loc[:,train_cols].values\n",
        "xx = gs_test.loc[:,train_cols].values\n",
        "min_max_scaler = MinMaxScaler()\n",
        "x_train = min_max_scaler.fit_transform(x)\n",
        "x_test = min_max_scaler.transform(xx)\n",
        "\n",
        "print(x_train.shape)\n",
        "print(x_test.shape)"
      ],
      "execution_count": 0,
      "outputs": [
        {
          "output_type": "stream",
          "text": [
            "(11246, 7)\n",
            "(2812, 7)\n",
            "(11246, 5)\n",
            "(2812, 5)\n"
          ],
          "name": "stdout"
        }
      ]
    },
    {
      "cell_type": "markdown",
      "metadata": {
        "id": "cdDF9FZugdxA",
        "colab_type": "text"
      },
      "source": [
        "## Etape 3 : Conversion des données en séries chronologiques.\n",
        "\n",
        "\n",
        "Les ***LSTM***s consomment des entrées au format **[batch_size, time_steps, features]** un tableau tridimensionnel.\n",
        "\n",
        "\n",
        "*   ***batch_size*** : indique le nombre d'échantillons d'entrée que vous souhaitez que votre réseau processe avant de mettre à jour les poids. L'utilisation d'une très petite taille de lot réduit la vitesse de formation et d'autre part, l'utilisation d'une taille de lot trop grande réduit la capacité des modèles à se généraliser à différentes données et consomme également plus de mémoire.\n",
        "\n"
      ]
    },
    {
      "cell_type": "code",
      "metadata": {
        "id": "nBJMWi6KnrYD",
        "colab_type": "code",
        "colab": {}
      },
      "source": [
        "batch_size = 20"
      ],
      "execution_count": 0,
      "outputs": []
    },
    {
      "cell_type": "markdown",
      "metadata": {
        "id": "EvbdCMCLnqaw",
        "colab_type": "text"
      },
      "source": [
        "*   ***time_steps*** : définissent le nombre d'unités dans le temps passé que vous souhaitez que votre réseau prenne en considération. Dans notre cas, nous utiliserons la valeur **10**, c'est-à-dire que nous examinerons **10 jours** de données pour prédire le prix du jour suivant.\n",
        "\n"
      ]
    },
    {
      "cell_type": "code",
      "metadata": {
        "id": "v132N1BojpZy",
        "colab_type": "code",
        "colab": {}
      },
      "source": [
        "time_steps = 10"
      ],
      "execution_count": 0,
      "outputs": []
    },
    {
      "cell_type": "markdown",
      "metadata": {
        "id": "MzY2w-XckKO2",
        "colab_type": "text"
      },
      "source": [
        "\n",
        "\n",
        "*   ***features*** : indique le nombre d'attributs utilisés pour représenter chaque ***time_step***.\n",
        "\n",
        "\n",
        "Nous allons écrire deux fonctions qui vont nous permettre de faire cette conversion de nos données en séries chronologiques."
      ]
    },
    {
      "cell_type": "code",
      "metadata": {
        "id": "pqFCHqLQkyBC",
        "colab_type": "code",
        "colab": {}
      },
      "source": [
        "from tqdm import tqdm\n",
        "\n",
        "def build_timeseries(matrix, y_col_index):\n",
        "    # y_col_index est l'indice dela colonne qui sera l'output\n",
        "    '''\n",
        "     le dernier échantillon permet de prédire la dernière case\n",
        "     donc le nombre total d'échantillons est len(matrix) - time_steps\n",
        "    '''\n",
        "    n = matrix.shape[0] - time_steps\n",
        "    m = matrix.shape[1]\n",
        "\n",
        "    x = np.zeros((n, time_steps, m))\n",
        "    y = np.zeros((n,))\n",
        "    \n",
        "    for i in tqdm(range(n)):\n",
        "        x[i] = matrix[i:time_steps+i]\n",
        "        y[i] = matrix[time_steps+i, y_col_index]\n",
        "    print(\"La taille de la série chronologique est :\\nInput : \", x.shape, \"\\nOutput : \", y.shape)\n",
        "    return x, y"
      ],
      "execution_count": 0,
      "outputs": []
    },
    {
      "cell_type": "markdown",
      "metadata": {
        "id": "9GbDvmqQoXff",
        "colab_type": "text"
      },
      "source": [
        "\n",
        "***y_col_index*** est l'indice de la colonne output. Supposons maintenant qu'après la conversion des données vous avez **41 échantillons** dans votre jeu de données d'entraînement mais votre ***batch_size*** est de **20** nous aurons un échantillon qui ne sera pas utilisé."
      ]
    },
    {
      "cell_type": "markdown",
      "metadata": {
        "id": "Yxa8_VGopThD",
        "colab_type": "text"
      },
      "source": [
        "Pour raison de nettoyage de données, nous devrons couper l'ensemble d'apprentissage pour supprimer les échantillons laissés de côté."
      ]
    },
    {
      "cell_type": "code",
      "metadata": {
        "id": "JnrssQHFpUoU",
        "colab_type": "code",
        "colab": {}
      },
      "source": [
        "# coupe l'ensemble d'apprentissage en une taille divisible par le batch_size\n",
        "def trim_dataset(matrix, batch_size):\n",
        "    rows_to_drop = matrix.shape[0] % batch_size\n",
        "    if(rows_to_drop > 0):\n",
        "        return matrix[:-rows_to_drop] # retire rows_to_drop ligne depuis la fin\n",
        "    else:\n",
        "        return matrix"
      ],
      "execution_count": 0,
      "outputs": []
    },
    {
      "cell_type": "markdown",
      "metadata": {
        "id": "xcS50yaIqfh0",
        "colab_type": "text"
      },
      "source": [
        "### Maintenant on peut faire la conversion de notre dataset."
      ]
    },
    {
      "cell_type": "code",
      "metadata": {
        "id": "BpMescPrqcR6",
        "colab_type": "code",
        "outputId": "0a4b6654-aa26-4eb6-bd3b-dc35dee3a798",
        "colab": {
          "base_uri": "https://localhost:8080/",
          "height": 158
        }
      },
      "source": [
        "# training set\n",
        "x_t, y_t = build_timeseries(x_train, 3) # y_col_index=3 car on prédit la colonne prix 'Close'\n",
        "x_t = trim_dataset(x_t, batch_size)\n",
        "y_t = trim_dataset(y_t, batch_size)\n",
        "\n",
        "# validation set and test set\n",
        "x_temp, y_temp = build_timeseries(x_test, 3)\n",
        "x_val, x_test_t = np.split(trim_dataset(x_temp, batch_size), 2)\n",
        "y_val, y_test_t = np.split(trim_dataset(y_temp, batch_size), 2)"
      ],
      "execution_count": 0,
      "outputs": [
        {
          "output_type": "stream",
          "text": [
            "100%|██████████| 11236/11236 [00:00<00:00, 569389.13it/s]\n",
            "100%|██████████| 2802/2802 [00:00<00:00, 364010.40it/s]"
          ],
          "name": "stderr"
        },
        {
          "output_type": "stream",
          "text": [
            "La taille de la série chronologique est :\n",
            "Input :  (11236, 10, 5) \n",
            "Output :  (11236,)\n",
            "La taille de la série chronologique est :\n",
            "Input :  (2802, 10, 5) \n",
            "Output :  (2802,)\n"
          ],
          "name": "stdout"
        },
        {
          "output_type": "stream",
          "text": [
            "\n"
          ],
          "name": "stderr"
        }
      ]
    },
    {
      "cell_type": "markdown",
      "metadata": {
        "id": "VjDv4_equaPZ",
        "colab_type": "text"
      },
      "source": [
        "## Etape 4 : Création du modèle.\n",
        "\n",
        "\n",
        "Le LSTM est une variation des réseaux de neurones récurrents, nous allons utiliser **une couche de 100 blocks LSTM**, **un dropout de 0.5** qui va permettre de désactiver la moitié des neurones aléatoirement pour accélérer l'apprentissage, **une couche** qui applique la fonction ***relu*** qui est tout simplement la fonction x -> max(x, 0) effectuée élément par élément, et enfin **une couche** qui applique la fonction ***sigmoid*** .\n",
        "\n",
        "![alt text](https://wikimedia.org/api/rest_v1/media/math/render/svg/13a5596ec9730facb11304344463632904f83242)\n",
        "\n",
        "Nous allons laisser le modèle s'entraîner à minimiser la fonction de coût qui est l'**erreur en moyenne quadratique MSE** à l'aide de l'algorithme d'optimistion RMSprop, nous allons fixer le pas d'apprentissage à 0.0001 en avançant vers le minimum de cette fonction de coût, nous pourrions le changer si nous voulons et voir ce qui se passerait.\n"
      ]
    },
    {
      "cell_type": "code",
      "metadata": {
        "id": "VNcXnuF5sabD",
        "colab_type": "code",
        "colab": {}
      },
      "source": [
        "from keras.models import Sequential\n",
        "from keras.layers import Dense, Dropout\n",
        "from keras.layers import LSTM\n",
        "from keras import optimizers\n",
        "\n",
        "learning_rate = 1e-4\n",
        "optimizer = optimizers.RMSprop(lr=learning_rate)"
      ],
      "execution_count": 0,
      "outputs": []
    },
    {
      "cell_type": "code",
      "metadata": {
        "id": "QmUX5ke51o3v",
        "colab_type": "code",
        "outputId": "bf8b4294-e893-4616-d89d-dfdb98b33fb6",
        "colab": {
          "base_uri": "https://localhost:8080/",
          "height": 301
        }
      },
      "source": [
        "model = Sequential([\n",
        "    LSTM(100, batch_input_shape=(batch_size, time_steps, x_t.shape[2]), stateful=True, kernel_initializer='random_uniform'),\n",
        "    Dropout(0.5),\n",
        "    Dense(20,activation='relu'),\n",
        "    Dense(1,activation='sigmoid')                  \n",
        "])\n",
        "\n",
        "model.summary()\n",
        "\n",
        "model.compile(loss='mean_squared_error', optimizer=optimizer)"
      ],
      "execution_count": 0,
      "outputs": [
        {
          "output_type": "stream",
          "text": [
            "Model: \"sequential_7\"\n",
            "_________________________________________________________________\n",
            "Layer (type)                 Output Shape              Param #   \n",
            "=================================================================\n",
            "lstm_7 (LSTM)                (20, 100)                 42400     \n",
            "_________________________________________________________________\n",
            "dropout_7 (Dropout)          (20, 100)                 0         \n",
            "_________________________________________________________________\n",
            "dense_13 (Dense)             (20, 20)                  2020      \n",
            "_________________________________________________________________\n",
            "dense_14 (Dense)             (20, 1)                   21        \n",
            "=================================================================\n",
            "Total params: 44,441\n",
            "Trainable params: 44,441\n",
            "Non-trainable params: 0\n",
            "_________________________________________________________________\n"
          ],
          "name": "stdout"
        }
      ]
    },
    {
      "cell_type": "markdown",
      "metadata": {
        "id": "vI6-qWrd6Txg",
        "colab_type": "text"
      },
      "source": [
        "### Il ne reste plus qu'à lancer l'apprentissage pour 300 époques."
      ]
    },
    {
      "cell_type": "code",
      "metadata": {
        "id": "00ItZRQihQMp",
        "colab_type": "code",
        "colab": {}
      },
      "source": [
        "val_data = (trim_dataset(x_val, batch_size), trim_dataset(y_val, batch_size))"
      ],
      "execution_count": 0,
      "outputs": []
    },
    {
      "cell_type": "code",
      "metadata": {
        "id": "KpKk96-u5shi",
        "colab_type": "code",
        "outputId": "c7030998-d1db-40b0-f761-407609f0937a",
        "colab": {
          "base_uri": "https://localhost:8080/",
          "height": 1000
        }
      },
      "source": [
        "history = model.fit(\n",
        "    x_t,\n",
        "    y_t,\n",
        "    epochs=300,\n",
        "    verbose=2,\n",
        "    shuffle=False,\n",
        "    batch_size = batch_size,\n",
        "    validation_data = val_data,\n",
        ")"
      ],
      "execution_count": 0,
      "outputs": [
        {
          "output_type": "stream",
          "text": [
            "Train on 11220 samples, validate on 1400 samples\n",
            "Epoch 1/300\n",
            " - 3s - loss: 0.0280 - val_loss: 0.0260\n",
            "Epoch 2/300\n",
            " - 3s - loss: 0.0091 - val_loss: 0.0040\n",
            "Epoch 3/300\n",
            " - 3s - loss: 0.0030 - val_loss: 0.0120\n",
            "Epoch 4/300\n",
            " - 3s - loss: 0.0012 - val_loss: 0.0037\n",
            "Epoch 5/300\n",
            " - 3s - loss: 0.0024 - val_loss: 0.0037\n",
            "Epoch 6/300\n",
            " - 3s - loss: 0.0019 - val_loss: 0.0044\n",
            "Epoch 7/300\n",
            " - 3s - loss: 0.0017 - val_loss: 0.0041\n",
            "Epoch 8/300\n",
            " - 3s - loss: 0.0016 - val_loss: 0.0063\n",
            "Epoch 9/300\n",
            " - 3s - loss: 0.0011 - val_loss: 0.0043\n",
            "Epoch 10/300\n",
            " - 3s - loss: 0.0014 - val_loss: 0.0050\n",
            "Epoch 11/300\n",
            " - 3s - loss: 0.0012 - val_loss: 0.0042\n",
            "Epoch 12/300\n",
            " - 3s - loss: 0.0011 - val_loss: 0.0039\n",
            "Epoch 13/300\n",
            " - 3s - loss: 0.0012 - val_loss: 0.0046\n",
            "Epoch 14/300\n",
            " - 3s - loss: 9.8482e-04 - val_loss: 0.0045\n",
            "Epoch 15/300\n",
            " - 3s - loss: 9.7619e-04 - val_loss: 0.0034\n",
            "Epoch 16/300\n",
            " - 3s - loss: 9.6626e-04 - val_loss: 0.0038\n",
            "Epoch 17/300\n",
            " - 3s - loss: 8.4790e-04 - val_loss: 0.0027\n",
            "Epoch 18/300\n",
            " - 3s - loss: 9.6539e-04 - val_loss: 0.0035\n",
            "Epoch 19/300\n",
            " - 3s - loss: 7.9143e-04 - val_loss: 0.0025\n",
            "Epoch 20/300\n",
            " - 3s - loss: 8.9699e-04 - val_loss: 0.0023\n",
            "Epoch 21/300\n",
            " - 3s - loss: 8.4549e-04 - val_loss: 0.0024\n",
            "Epoch 22/300\n",
            " - 3s - loss: 8.5090e-04 - val_loss: 0.0021\n",
            "Epoch 23/300\n",
            " - 3s - loss: 8.2489e-04 - val_loss: 0.0023\n",
            "Epoch 24/300\n",
            " - 3s - loss: 8.1905e-04 - val_loss: 0.0022\n",
            "Epoch 25/300\n",
            " - 3s - loss: 8.0587e-04 - val_loss: 0.0016\n",
            "Epoch 26/300\n",
            " - 3s - loss: 7.5096e-04 - val_loss: 0.0018\n",
            "Epoch 27/300\n",
            " - 3s - loss: 7.6080e-04 - val_loss: 0.0021\n",
            "Epoch 28/300\n",
            " - 3s - loss: 7.2250e-04 - val_loss: 0.0020\n",
            "Epoch 29/300\n",
            " - 3s - loss: 7.5067e-04 - val_loss: 0.0020\n",
            "Epoch 30/300\n",
            " - 3s - loss: 7.2308e-04 - val_loss: 0.0020\n",
            "Epoch 31/300\n",
            " - 3s - loss: 6.9599e-04 - val_loss: 0.0018\n",
            "Epoch 32/300\n",
            " - 3s - loss: 6.9131e-04 - val_loss: 0.0017\n",
            "Epoch 33/300\n",
            " - 3s - loss: 6.5142e-04 - val_loss: 0.0018\n",
            "Epoch 34/300\n",
            " - 3s - loss: 6.6062e-04 - val_loss: 0.0016\n",
            "Epoch 35/300\n",
            " - 3s - loss: 6.3309e-04 - val_loss: 0.0018\n",
            "Epoch 36/300\n",
            " - 3s - loss: 6.1948e-04 - val_loss: 0.0016\n",
            "Epoch 37/300\n",
            " - 3s - loss: 5.9979e-04 - val_loss: 0.0014\n",
            "Epoch 38/300\n",
            " - 3s - loss: 5.9250e-04 - val_loss: 0.0016\n",
            "Epoch 39/300\n",
            " - 3s - loss: 5.9773e-04 - val_loss: 0.0014\n",
            "Epoch 40/300\n",
            " - 3s - loss: 5.6377e-04 - val_loss: 0.0012\n",
            "Epoch 41/300\n",
            " - 3s - loss: 5.6558e-04 - val_loss: 0.0015\n",
            "Epoch 42/300\n",
            " - 3s - loss: 5.3877e-04 - val_loss: 0.0013\n",
            "Epoch 43/300\n",
            " - 3s - loss: 5.2206e-04 - val_loss: 0.0014\n",
            "Epoch 44/300\n",
            " - 3s - loss: 5.4105e-04 - val_loss: 0.0014\n",
            "Epoch 45/300\n",
            " - 3s - loss: 5.0940e-04 - val_loss: 0.0011\n",
            "Epoch 46/300\n",
            " - 3s - loss: 5.1410e-04 - val_loss: 0.0012\n",
            "Epoch 47/300\n",
            " - 3s - loss: 4.7894e-04 - val_loss: 0.0012\n",
            "Epoch 48/300\n",
            " - 3s - loss: 4.8094e-04 - val_loss: 0.0013\n",
            "Epoch 49/300\n",
            " - 3s - loss: 4.7178e-04 - val_loss: 0.0012\n",
            "Epoch 50/300\n",
            " - 3s - loss: 4.6832e-04 - val_loss: 0.0011\n",
            "Epoch 51/300\n",
            " - 3s - loss: 4.3642e-04 - val_loss: 0.0013\n",
            "Epoch 52/300\n",
            " - 3s - loss: 4.6782e-04 - val_loss: 0.0010\n",
            "Epoch 53/300\n",
            " - 3s - loss: 4.6048e-04 - val_loss: 9.7327e-04\n",
            "Epoch 54/300\n",
            " - 3s - loss: 4.5760e-04 - val_loss: 0.0011\n",
            "Epoch 55/300\n",
            " - 3s - loss: 4.3789e-04 - val_loss: 0.0011\n",
            "Epoch 56/300\n",
            " - 3s - loss: 4.6041e-04 - val_loss: 0.0010\n",
            "Epoch 57/300\n",
            " - 3s - loss: 4.3575e-04 - val_loss: 0.0011\n",
            "Epoch 58/300\n",
            " - 3s - loss: 4.0923e-04 - val_loss: 0.0011\n",
            "Epoch 59/300\n",
            " - 3s - loss: 4.1205e-04 - val_loss: 0.0011\n",
            "Epoch 60/300\n",
            " - 3s - loss: 4.1169e-04 - val_loss: 9.6440e-04\n",
            "Epoch 61/300\n",
            " - 3s - loss: 4.1253e-04 - val_loss: 9.6546e-04\n",
            "Epoch 62/300\n",
            " - 3s - loss: 3.8571e-04 - val_loss: 9.0181e-04\n",
            "Epoch 63/300\n",
            " - 3s - loss: 4.0632e-04 - val_loss: 8.7709e-04\n",
            "Epoch 64/300\n",
            " - 3s - loss: 3.8874e-04 - val_loss: 8.0636e-04\n",
            "Epoch 65/300\n",
            " - 3s - loss: 4.0900e-04 - val_loss: 7.4530e-04\n",
            "Epoch 66/300\n",
            " - 3s - loss: 3.9517e-04 - val_loss: 8.3758e-04\n",
            "Epoch 67/300\n",
            " - 3s - loss: 4.0247e-04 - val_loss: 8.9157e-04\n",
            "Epoch 68/300\n",
            " - 3s - loss: 3.8410e-04 - val_loss: 8.6409e-04\n",
            "Epoch 69/300\n",
            " - 3s - loss: 3.8861e-04 - val_loss: 8.2420e-04\n",
            "Epoch 70/300\n",
            " - 3s - loss: 3.9533e-04 - val_loss: 7.3940e-04\n",
            "Epoch 71/300\n",
            " - 3s - loss: 3.8473e-04 - val_loss: 8.0363e-04\n",
            "Epoch 72/300\n",
            " - 3s - loss: 3.7522e-04 - val_loss: 7.7472e-04\n",
            "Epoch 73/300\n",
            " - 3s - loss: 3.7707e-04 - val_loss: 7.3147e-04\n",
            "Epoch 74/300\n",
            " - 3s - loss: 3.9766e-04 - val_loss: 7.0419e-04\n",
            "Epoch 75/300\n",
            " - 3s - loss: 3.5015e-04 - val_loss: 6.5441e-04\n",
            "Epoch 76/300\n",
            " - 3s - loss: 3.5264e-04 - val_loss: 6.6831e-04\n",
            "Epoch 77/300\n",
            " - 3s - loss: 3.6188e-04 - val_loss: 6.7952e-04\n",
            "Epoch 78/300\n",
            " - 3s - loss: 3.7657e-04 - val_loss: 6.7810e-04\n",
            "Epoch 79/300\n",
            " - 3s - loss: 3.6024e-04 - val_loss: 7.2897e-04\n",
            "Epoch 80/300\n",
            " - 3s - loss: 3.5437e-04 - val_loss: 6.8949e-04\n",
            "Epoch 81/300\n",
            " - 3s - loss: 3.5481e-04 - val_loss: 8.0208e-04\n",
            "Epoch 82/300\n",
            " - 3s - loss: 3.5674e-04 - val_loss: 6.7300e-04\n",
            "Epoch 83/300\n",
            " - 3s - loss: 3.6204e-04 - val_loss: 6.2718e-04\n",
            "Epoch 84/300\n",
            " - 3s - loss: 3.6032e-04 - val_loss: 6.3656e-04\n",
            "Epoch 85/300\n",
            " - 3s - loss: 3.6771e-04 - val_loss: 6.2291e-04\n",
            "Epoch 86/300\n",
            " - 3s - loss: 3.6335e-04 - val_loss: 6.7890e-04\n",
            "Epoch 87/300\n",
            " - 3s - loss: 3.3888e-04 - val_loss: 5.4284e-04\n",
            "Epoch 88/300\n",
            " - 3s - loss: 3.4251e-04 - val_loss: 5.6957e-04\n",
            "Epoch 89/300\n",
            " - 3s - loss: 3.5338e-04 - val_loss: 5.9451e-04\n",
            "Epoch 90/300\n",
            " - 3s - loss: 3.5341e-04 - val_loss: 5.6289e-04\n",
            "Epoch 91/300\n",
            " - 3s - loss: 3.2978e-04 - val_loss: 5.1203e-04\n",
            "Epoch 92/300\n",
            " - 3s - loss: 3.3265e-04 - val_loss: 4.9979e-04\n",
            "Epoch 93/300\n",
            " - 3s - loss: 3.4310e-04 - val_loss: 4.8672e-04\n",
            "Epoch 94/300\n",
            " - 3s - loss: 3.5024e-04 - val_loss: 4.8108e-04\n",
            "Epoch 95/300\n",
            " - 3s - loss: 3.3193e-04 - val_loss: 5.6008e-04\n",
            "Epoch 96/300\n",
            " - 3s - loss: 3.3515e-04 - val_loss: 4.8789e-04\n",
            "Epoch 97/300\n",
            " - 3s - loss: 3.5441e-04 - val_loss: 4.7659e-04\n",
            "Epoch 98/300\n",
            " - 3s - loss: 3.3945e-04 - val_loss: 5.0227e-04\n",
            "Epoch 99/300\n",
            " - 3s - loss: 3.3160e-04 - val_loss: 4.4589e-04\n",
            "Epoch 100/300\n",
            " - 3s - loss: 3.3326e-04 - val_loss: 3.9757e-04\n",
            "Epoch 101/300\n",
            " - 3s - loss: 3.2581e-04 - val_loss: 4.2454e-04\n",
            "Epoch 102/300\n",
            " - 3s - loss: 3.3276e-04 - val_loss: 3.8892e-04\n",
            "Epoch 103/300\n",
            " - 3s - loss: 3.3008e-04 - val_loss: 4.1036e-04\n",
            "Epoch 104/300\n",
            " - 3s - loss: 3.2340e-04 - val_loss: 4.0660e-04\n",
            "Epoch 105/300\n",
            " - 3s - loss: 3.3425e-04 - val_loss: 3.9586e-04\n",
            "Epoch 106/300\n",
            " - 3s - loss: 3.1166e-04 - val_loss: 5.0078e-04\n",
            "Epoch 107/300\n",
            " - 3s - loss: 3.1769e-04 - val_loss: 4.3044e-04\n",
            "Epoch 108/300\n",
            " - 3s - loss: 3.3197e-04 - val_loss: 4.1994e-04\n",
            "Epoch 109/300\n",
            " - 3s - loss: 3.4304e-04 - val_loss: 3.6430e-04\n",
            "Epoch 110/300\n",
            " - 3s - loss: 3.2845e-04 - val_loss: 3.3154e-04\n",
            "Epoch 111/300\n",
            " - 3s - loss: 3.2046e-04 - val_loss: 4.1583e-04\n",
            "Epoch 112/300\n",
            " - 3s - loss: 3.2931e-04 - val_loss: 4.5326e-04\n",
            "Epoch 113/300\n",
            " - 3s - loss: 3.2693e-04 - val_loss: 3.9280e-04\n",
            "Epoch 114/300\n",
            " - 3s - loss: 3.0555e-04 - val_loss: 6.8610e-04\n",
            "Epoch 115/300\n",
            " - 3s - loss: 3.1880e-04 - val_loss: 4.5311e-04\n",
            "Epoch 116/300\n",
            " - 3s - loss: 3.2176e-04 - val_loss: 6.5479e-04\n",
            "Epoch 117/300\n",
            " - 3s - loss: 3.2397e-04 - val_loss: 5.2699e-04\n",
            "Epoch 118/300\n",
            " - 3s - loss: 3.1028e-04 - val_loss: 5.0606e-04\n",
            "Epoch 119/300\n",
            " - 3s - loss: 3.0624e-04 - val_loss: 4.9640e-04\n",
            "Epoch 120/300\n",
            " - 3s - loss: 3.2477e-04 - val_loss: 3.9578e-04\n",
            "Epoch 121/300\n",
            " - 3s - loss: 3.0747e-04 - val_loss: 4.3001e-04\n",
            "Epoch 122/300\n",
            " - 3s - loss: 3.1505e-04 - val_loss: 5.6975e-04\n",
            "Epoch 123/300\n",
            " - 3s - loss: 3.2772e-04 - val_loss: 3.6826e-04\n",
            "Epoch 124/300\n",
            " - 3s - loss: 3.1362e-04 - val_loss: 4.1876e-04\n",
            "Epoch 125/300\n",
            " - 3s - loss: 3.2584e-04 - val_loss: 4.1764e-04\n",
            "Epoch 126/300\n",
            " - 3s - loss: 3.0278e-04 - val_loss: 4.4903e-04\n",
            "Epoch 127/300\n",
            " - 3s - loss: 3.1131e-04 - val_loss: 5.0922e-04\n",
            "Epoch 128/300\n",
            " - 3s - loss: 3.0393e-04 - val_loss: 5.2467e-04\n",
            "Epoch 129/300\n",
            " - 3s - loss: 3.1926e-04 - val_loss: 4.2408e-04\n",
            "Epoch 130/300\n",
            " - 3s - loss: 3.0248e-04 - val_loss: 4.6690e-04\n",
            "Epoch 131/300\n",
            " - 3s - loss: 3.2566e-04 - val_loss: 5.0751e-04\n",
            "Epoch 132/300\n",
            " - 3s - loss: 3.0642e-04 - val_loss: 4.6800e-04\n",
            "Epoch 133/300\n",
            " - 3s - loss: 3.0679e-04 - val_loss: 4.5444e-04\n",
            "Epoch 134/300\n",
            " - 3s - loss: 3.1215e-04 - val_loss: 4.8222e-04\n",
            "Epoch 135/300\n",
            " - 3s - loss: 3.1862e-04 - val_loss: 4.1705e-04\n",
            "Epoch 136/300\n",
            " - 3s - loss: 2.9277e-04 - val_loss: 5.5241e-04\n",
            "Epoch 137/300\n",
            " - 3s - loss: 3.0528e-04 - val_loss: 3.4652e-04\n",
            "Epoch 138/300\n",
            " - 3s - loss: 3.0136e-04 - val_loss: 4.0614e-04\n",
            "Epoch 139/300\n",
            " - 3s - loss: 3.0041e-04 - val_loss: 4.3015e-04\n",
            "Epoch 140/300\n",
            " - 3s - loss: 3.1815e-04 - val_loss: 3.1390e-04\n",
            "Epoch 141/300\n",
            " - 3s - loss: 3.2517e-04 - val_loss: 5.3561e-04\n",
            "Epoch 142/300\n",
            " - 3s - loss: 3.2172e-04 - val_loss: 4.6659e-04\n",
            "Epoch 143/300\n",
            " - 3s - loss: 3.1110e-04 - val_loss: 4.5929e-04\n",
            "Epoch 144/300\n",
            " - 3s - loss: 2.9300e-04 - val_loss: 4.3569e-04\n",
            "Epoch 145/300\n",
            " - 3s - loss: 2.9650e-04 - val_loss: 6.0404e-04\n",
            "Epoch 146/300\n",
            " - 3s - loss: 2.8905e-04 - val_loss: 5.0514e-04\n",
            "Epoch 147/300\n",
            " - 3s - loss: 2.9099e-04 - val_loss: 3.3838e-04\n",
            "Epoch 148/300\n",
            " - 3s - loss: 3.1461e-04 - val_loss: 4.0836e-04\n",
            "Epoch 149/300\n",
            " - 3s - loss: 2.9291e-04 - val_loss: 4.6579e-04\n",
            "Epoch 150/300\n",
            " - 3s - loss: 2.8908e-04 - val_loss: 4.0631e-04\n",
            "Epoch 151/300\n",
            " - 3s - loss: 3.0347e-04 - val_loss: 5.1967e-04\n",
            "Epoch 152/300\n",
            " - 3s - loss: 3.0048e-04 - val_loss: 7.3077e-04\n",
            "Epoch 153/300\n",
            " - 3s - loss: 3.1703e-04 - val_loss: 5.1281e-04\n",
            "Epoch 154/300\n",
            " - 3s - loss: 2.8239e-04 - val_loss: 5.9864e-04\n",
            "Epoch 155/300\n",
            " - 3s - loss: 2.9905e-04 - val_loss: 6.7200e-04\n",
            "Epoch 156/300\n",
            " - 3s - loss: 2.8889e-04 - val_loss: 3.6444e-04\n",
            "Epoch 157/300\n",
            " - 3s - loss: 3.0348e-04 - val_loss: 4.4137e-04\n",
            "Epoch 158/300\n",
            " - 3s - loss: 2.8988e-04 - val_loss: 5.3895e-04\n",
            "Epoch 159/300\n",
            " - 3s - loss: 2.9966e-04 - val_loss: 4.4283e-04\n",
            "Epoch 160/300\n",
            " - 3s - loss: 2.8892e-04 - val_loss: 5.2075e-04\n",
            "Epoch 161/300\n",
            " - 3s - loss: 2.8316e-04 - val_loss: 4.8998e-04\n",
            "Epoch 162/300\n",
            " - 3s - loss: 2.8987e-04 - val_loss: 3.5431e-04\n",
            "Epoch 163/300\n",
            " - 3s - loss: 3.1507e-04 - val_loss: 3.9075e-04\n",
            "Epoch 164/300\n",
            " - 3s - loss: 3.0131e-04 - val_loss: 4.4636e-04\n",
            "Epoch 165/300\n",
            " - 3s - loss: 3.0041e-04 - val_loss: 4.7961e-04\n",
            "Epoch 166/300\n",
            " - 3s - loss: 2.9586e-04 - val_loss: 3.5086e-04\n",
            "Epoch 167/300\n",
            " - 3s - loss: 2.9201e-04 - val_loss: 4.3379e-04\n",
            "Epoch 168/300\n",
            " - 3s - loss: 2.8600e-04 - val_loss: 4.5130e-04\n",
            "Epoch 169/300\n",
            " - 3s - loss: 2.9442e-04 - val_loss: 4.0476e-04\n",
            "Epoch 170/300\n",
            " - 3s - loss: 2.9526e-04 - val_loss: 3.8019e-04\n",
            "Epoch 171/300\n",
            " - 3s - loss: 2.9560e-04 - val_loss: 3.1934e-04\n",
            "Epoch 172/300\n",
            " - 3s - loss: 2.7870e-04 - val_loss: 4.3651e-04\n",
            "Epoch 173/300\n",
            " - 3s - loss: 2.9955e-04 - val_loss: 2.8923e-04\n",
            "Epoch 174/300\n",
            " - 3s - loss: 3.0257e-04 - val_loss: 2.5586e-04\n",
            "Epoch 175/300\n",
            " - 3s - loss: 2.7304e-04 - val_loss: 2.5626e-04\n",
            "Epoch 176/300\n",
            " - 3s - loss: 2.9243e-04 - val_loss: 4.2838e-04\n",
            "Epoch 177/300\n",
            " - 3s - loss: 2.8586e-04 - val_loss: 3.1903e-04\n",
            "Epoch 178/300\n",
            " - 3s - loss: 2.7503e-04 - val_loss: 3.3104e-04\n",
            "Epoch 179/300\n",
            " - 3s - loss: 2.8675e-04 - val_loss: 4.1290e-04\n",
            "Epoch 180/300\n",
            " - 3s - loss: 2.9707e-04 - val_loss: 3.9922e-04\n",
            "Epoch 181/300\n",
            " - 3s - loss: 2.9720e-04 - val_loss: 3.8236e-04\n",
            "Epoch 182/300\n",
            " - 3s - loss: 2.9179e-04 - val_loss: 3.7094e-04\n",
            "Epoch 183/300\n",
            " - 3s - loss: 2.8605e-04 - val_loss: 3.2804e-04\n",
            "Epoch 184/300\n",
            " - 3s - loss: 2.7783e-04 - val_loss: 2.6363e-04\n",
            "Epoch 185/300\n",
            " - 3s - loss: 2.8386e-04 - val_loss: 3.8431e-04\n",
            "Epoch 186/300\n",
            " - 3s - loss: 2.7996e-04 - val_loss: 2.8123e-04\n",
            "Epoch 187/300\n",
            " - 3s - loss: 2.8279e-04 - val_loss: 3.1010e-04\n",
            "Epoch 188/300\n",
            " - 3s - loss: 2.8419e-04 - val_loss: 3.7669e-04\n",
            "Epoch 189/300\n",
            " - 3s - loss: 2.8191e-04 - val_loss: 3.9173e-04\n",
            "Epoch 190/300\n",
            " - 3s - loss: 2.7461e-04 - val_loss: 2.2893e-04\n",
            "Epoch 191/300\n",
            " - 3s - loss: 2.7407e-04 - val_loss: 3.0168e-04\n",
            "Epoch 192/300\n",
            " - 3s - loss: 2.8342e-04 - val_loss: 3.4177e-04\n",
            "Epoch 193/300\n",
            " - 3s - loss: 2.9483e-04 - val_loss: 3.4958e-04\n",
            "Epoch 194/300\n",
            " - 3s - loss: 2.8403e-04 - val_loss: 2.8478e-04\n",
            "Epoch 195/300\n",
            " - 3s - loss: 2.9063e-04 - val_loss: 2.4560e-04\n",
            "Epoch 196/300\n",
            " - 3s - loss: 2.6185e-04 - val_loss: 3.2252e-04\n",
            "Epoch 197/300\n",
            " - 3s - loss: 2.7482e-04 - val_loss: 3.9725e-04\n",
            "Epoch 198/300\n",
            " - 3s - loss: 2.6977e-04 - val_loss: 2.8262e-04\n",
            "Epoch 199/300\n",
            " - 3s - loss: 2.8127e-04 - val_loss: 2.6578e-04\n",
            "Epoch 200/300\n",
            " - 3s - loss: 2.7567e-04 - val_loss: 2.5961e-04\n",
            "Epoch 201/300\n",
            " - 3s - loss: 2.7331e-04 - val_loss: 2.7977e-04\n",
            "Epoch 202/300\n",
            " - 3s - loss: 2.7919e-04 - val_loss: 3.2703e-04\n",
            "Epoch 203/300\n",
            " - 3s - loss: 2.8500e-04 - val_loss: 2.3095e-04\n",
            "Epoch 204/300\n",
            " - 3s - loss: 2.7102e-04 - val_loss: 2.6358e-04\n",
            "Epoch 205/300\n",
            " - 3s - loss: 2.6456e-04 - val_loss: 2.7749e-04\n",
            "Epoch 206/300\n",
            " - 3s - loss: 2.7063e-04 - val_loss: 2.8625e-04\n",
            "Epoch 207/300\n",
            " - 3s - loss: 2.8098e-04 - val_loss: 2.7162e-04\n",
            "Epoch 208/300\n",
            " - 3s - loss: 2.6599e-04 - val_loss: 2.1836e-04\n",
            "Epoch 209/300\n",
            " - 3s - loss: 2.8256e-04 - val_loss: 2.8786e-04\n",
            "Epoch 210/300\n",
            " - 3s - loss: 2.7287e-04 - val_loss: 2.1088e-04\n",
            "Epoch 211/300\n",
            " - 3s - loss: 2.6170e-04 - val_loss: 2.2692e-04\n",
            "Epoch 212/300\n",
            " - 3s - loss: 2.7735e-04 - val_loss: 2.3270e-04\n",
            "Epoch 213/300\n",
            " - 3s - loss: 2.7301e-04 - val_loss: 1.9592e-04\n",
            "Epoch 214/300\n",
            " - 3s - loss: 2.5914e-04 - val_loss: 1.9062e-04\n",
            "Epoch 215/300\n",
            " - 3s - loss: 2.6979e-04 - val_loss: 1.8016e-04\n",
            "Epoch 216/300\n",
            " - 3s - loss: 2.5483e-04 - val_loss: 1.7721e-04\n",
            "Epoch 217/300\n",
            " - 3s - loss: 2.5614e-04 - val_loss: 1.9017e-04\n",
            "Epoch 218/300\n",
            " - 3s - loss: 2.5795e-04 - val_loss: 1.6107e-04\n",
            "Epoch 219/300\n",
            " - 3s - loss: 2.5246e-04 - val_loss: 1.6486e-04\n",
            "Epoch 220/300\n",
            " - 3s - loss: 2.5430e-04 - val_loss: 2.1776e-04\n",
            "Epoch 221/300\n",
            " - 3s - loss: 2.6319e-04 - val_loss: 2.1539e-04\n",
            "Epoch 222/300\n",
            " - 3s - loss: 2.5981e-04 - val_loss: 1.7189e-04\n",
            "Epoch 223/300\n",
            " - 3s - loss: 2.7006e-04 - val_loss: 1.7585e-04\n",
            "Epoch 224/300\n",
            " - 3s - loss: 2.5899e-04 - val_loss: 1.9593e-04\n",
            "Epoch 225/300\n",
            " - 3s - loss: 2.4766e-04 - val_loss: 1.9256e-04\n",
            "Epoch 226/300\n",
            " - 3s - loss: 2.4669e-04 - val_loss: 1.6389e-04\n",
            "Epoch 227/300\n",
            " - 3s - loss: 2.5453e-04 - val_loss: 2.2035e-04\n",
            "Epoch 228/300\n",
            " - 3s - loss: 2.5601e-04 - val_loss: 1.8127e-04\n",
            "Epoch 229/300\n",
            " - 3s - loss: 2.4824e-04 - val_loss: 1.8489e-04\n",
            "Epoch 230/300\n",
            " - 3s - loss: 2.3349e-04 - val_loss: 2.1079e-04\n",
            "Epoch 231/300\n",
            " - 3s - loss: 2.6097e-04 - val_loss: 1.7454e-04\n",
            "Epoch 232/300\n",
            " - 3s - loss: 2.6691e-04 - val_loss: 1.8036e-04\n",
            "Epoch 233/300\n",
            " - 3s - loss: 2.5516e-04 - val_loss: 1.9115e-04\n",
            "Epoch 234/300\n",
            " - 3s - loss: 2.6000e-04 - val_loss: 2.0221e-04\n",
            "Epoch 235/300\n",
            " - 3s - loss: 2.4552e-04 - val_loss: 1.8893e-04\n",
            "Epoch 236/300\n",
            " - 3s - loss: 2.6154e-04 - val_loss: 1.9011e-04\n",
            "Epoch 237/300\n",
            " - 3s - loss: 2.4297e-04 - val_loss: 1.9690e-04\n",
            "Epoch 238/300\n",
            " - 3s - loss: 2.5202e-04 - val_loss: 2.1965e-04\n",
            "Epoch 239/300\n",
            " - 3s - loss: 2.4931e-04 - val_loss: 2.1075e-04\n",
            "Epoch 240/300\n",
            " - 3s - loss: 2.4679e-04 - val_loss: 2.0006e-04\n",
            "Epoch 241/300\n",
            " - 3s - loss: 2.4454e-04 - val_loss: 2.0637e-04\n",
            "Epoch 242/300\n",
            " - 3s - loss: 2.5424e-04 - val_loss: 2.0525e-04\n",
            "Epoch 243/300\n",
            " - 3s - loss: 2.3221e-04 - val_loss: 2.0299e-04\n",
            "Epoch 244/300\n",
            " - 3s - loss: 2.3402e-04 - val_loss: 2.0201e-04\n",
            "Epoch 245/300\n",
            " - 3s - loss: 2.4106e-04 - val_loss: 2.3051e-04\n",
            "Epoch 246/300\n",
            " - 3s - loss: 2.4146e-04 - val_loss: 2.4580e-04\n",
            "Epoch 247/300\n",
            " - 3s - loss: 2.5198e-04 - val_loss: 1.9451e-04\n",
            "Epoch 248/300\n",
            " - 3s - loss: 2.4976e-04 - val_loss: 2.1566e-04\n",
            "Epoch 249/300\n",
            " - 3s - loss: 2.3154e-04 - val_loss: 2.2581e-04\n",
            "Epoch 250/300\n",
            " - 3s - loss: 2.4095e-04 - val_loss: 2.1916e-04\n",
            "Epoch 251/300\n",
            " - 3s - loss: 2.4615e-04 - val_loss: 2.1951e-04\n",
            "Epoch 252/300\n",
            " - 3s - loss: 2.3533e-04 - val_loss: 2.2234e-04\n",
            "Epoch 253/300\n",
            " - 3s - loss: 2.3773e-04 - val_loss: 2.1420e-04\n",
            "Epoch 254/300\n",
            " - 3s - loss: 2.1847e-04 - val_loss: 2.3163e-04\n",
            "Epoch 255/300\n",
            " - 3s - loss: 2.2833e-04 - val_loss: 2.1688e-04\n",
            "Epoch 256/300\n",
            " - 3s - loss: 2.3987e-04 - val_loss: 2.0973e-04\n",
            "Epoch 257/300\n",
            " - 3s - loss: 2.3649e-04 - val_loss: 1.8800e-04\n",
            "Epoch 258/300\n",
            " - 3s - loss: 2.2187e-04 - val_loss: 2.0163e-04\n",
            "Epoch 259/300\n",
            " - 3s - loss: 2.2232e-04 - val_loss: 2.0566e-04\n",
            "Epoch 260/300\n",
            " - 3s - loss: 2.2530e-04 - val_loss: 2.3968e-04\n",
            "Epoch 261/300\n",
            " - 3s - loss: 2.1592e-04 - val_loss: 2.2894e-04\n",
            "Epoch 262/300\n",
            " - 3s - loss: 2.3054e-04 - val_loss: 2.0613e-04\n",
            "Epoch 263/300\n",
            " - 3s - loss: 2.2030e-04 - val_loss: 2.2503e-04\n",
            "Epoch 264/300\n",
            " - 3s - loss: 2.2773e-04 - val_loss: 2.0765e-04\n",
            "Epoch 265/300\n",
            " - 3s - loss: 2.0969e-04 - val_loss: 2.4185e-04\n",
            "Epoch 266/300\n",
            " - 3s - loss: 2.3513e-04 - val_loss: 2.2584e-04\n",
            "Epoch 267/300\n",
            " - 3s - loss: 2.3154e-04 - val_loss: 1.9410e-04\n",
            "Epoch 268/300\n",
            " - 3s - loss: 2.0737e-04 - val_loss: 2.2814e-04\n",
            "Epoch 269/300\n",
            " - 3s - loss: 2.2291e-04 - val_loss: 2.8197e-04\n",
            "Epoch 270/300\n",
            " - 3s - loss: 2.3231e-04 - val_loss: 2.4100e-04\n",
            "Epoch 271/300\n",
            " - 3s - loss: 2.2060e-04 - val_loss: 2.4638e-04\n",
            "Epoch 272/300\n",
            " - 3s - loss: 2.1548e-04 - val_loss: 2.5362e-04\n",
            "Epoch 273/300\n",
            " - 3s - loss: 2.2067e-04 - val_loss: 2.2765e-04\n",
            "Epoch 274/300\n",
            " - 3s - loss: 2.2097e-04 - val_loss: 2.1395e-04\n",
            "Epoch 275/300\n",
            " - 3s - loss: 2.1545e-04 - val_loss: 2.1867e-04\n",
            "Epoch 276/300\n",
            " - 3s - loss: 2.1755e-04 - val_loss: 2.9535e-04\n",
            "Epoch 277/300\n",
            " - 3s - loss: 2.2684e-04 - val_loss: 2.4241e-04\n",
            "Epoch 278/300\n",
            " - 3s - loss: 2.1328e-04 - val_loss: 2.4433e-04\n",
            "Epoch 279/300\n",
            " - 3s - loss: 2.0427e-04 - val_loss: 2.9535e-04\n",
            "Epoch 280/300\n",
            " - 3s - loss: 2.1091e-04 - val_loss: 2.8809e-04\n",
            "Epoch 281/300\n",
            " - 3s - loss: 2.1742e-04 - val_loss: 2.7180e-04\n",
            "Epoch 282/300\n",
            " - 3s - loss: 2.2163e-04 - val_loss: 2.8113e-04\n",
            "Epoch 283/300\n",
            " - 3s - loss: 2.2063e-04 - val_loss: 2.9580e-04\n",
            "Epoch 284/300\n",
            " - 3s - loss: 2.1517e-04 - val_loss: 2.7395e-04\n",
            "Epoch 285/300\n",
            " - 3s - loss: 2.0641e-04 - val_loss: 2.8570e-04\n",
            "Epoch 286/300\n",
            " - 3s - loss: 2.0828e-04 - val_loss: 2.7905e-04\n",
            "Epoch 287/300\n",
            " - 3s - loss: 2.1269e-04 - val_loss: 3.0508e-04\n",
            "Epoch 288/300\n",
            " - 3s - loss: 2.1790e-04 - val_loss: 2.4210e-04\n",
            "Epoch 289/300\n",
            " - 3s - loss: 2.0017e-04 - val_loss: 2.6616e-04\n",
            "Epoch 290/300\n",
            " - 3s - loss: 2.0851e-04 - val_loss: 3.4273e-04\n",
            "Epoch 291/300\n",
            " - 3s - loss: 2.1431e-04 - val_loss: 2.7491e-04\n",
            "Epoch 292/300\n",
            " - 3s - loss: 2.1524e-04 - val_loss: 2.3463e-04\n",
            "Epoch 293/300\n",
            " - 3s - loss: 2.1121e-04 - val_loss: 3.1095e-04\n",
            "Epoch 294/300\n",
            " - 3s - loss: 2.2231e-04 - val_loss: 2.5563e-04\n",
            "Epoch 295/300\n",
            " - 3s - loss: 2.1117e-04 - val_loss: 2.5667e-04\n",
            "Epoch 296/300\n",
            " - 3s - loss: 2.1789e-04 - val_loss: 2.3785e-04\n",
            "Epoch 297/300\n",
            " - 3s - loss: 2.0333e-04 - val_loss: 2.9594e-04\n",
            "Epoch 298/300\n",
            " - 3s - loss: 2.1417e-04 - val_loss: 2.6617e-04\n",
            "Epoch 299/300\n",
            " - 3s - loss: 2.1549e-04 - val_loss: 2.5014e-04\n",
            "Epoch 300/300\n",
            " - 3s - loss: 2.0744e-04 - val_loss: 2.3601e-04\n"
          ],
          "name": "stdout"
        }
      ]
    },
    {
      "cell_type": "markdown",
      "metadata": {
        "id": "jX0AG0kZ9i9U",
        "colab_type": "text"
      },
      "source": [
        "## Etape 5 : Prédiction et visualisation du résultat.\n"
      ]
    },
    {
      "cell_type": "markdown",
      "metadata": {
        "id": "PudUpjB1_vcY",
        "colab_type": "text"
      },
      "source": [
        "On visualise le coût lors de l'apprentissage et lors de la validation."
      ]
    },
    {
      "cell_type": "code",
      "metadata": {
        "id": "FVaQwMZg7qpI",
        "colab_type": "code",
        "outputId": "6dab66a9-2d4d-4b48-97d1-7eb7f1944f6d",
        "colab": {
          "base_uri": "https://localhost:8080/",
          "height": 531
        }
      },
      "source": [
        "plt.figure()\n",
        "plt.figure(figsize=(15,8))\n",
        "plt.plot(history.history['loss'], color='red')\n",
        "plt.plot(history.history['val_loss'], color='green')\n",
        "plt.title('Coût du modèle')\n",
        "plt.ylabel('Coût')\n",
        "plt.xlabel('Epoque')\n",
        "plt.legend(['Apprentissage', 'Test'], loc='upper left')\n",
        "plt.show()"
      ],
      "execution_count": 0,
      "outputs": [
        {
          "output_type": "display_data",
          "data": {
            "text/plain": [
              "<Figure size 432x288 with 0 Axes>"
            ]
          },
          "metadata": {
            "tags": []
          }
        },
        {
          "output_type": "display_data",
          "data": {
            "image/png": "[encoded data removed]",
            "text/plain": [
              "<Figure size 1080x576 with 1 Axes>"
            ]
          },
          "metadata": {
            "tags": []
          }
        }
      ]
    },
    {
      "cell_type": "markdown",
      "metadata": {
        "id": "fD8BhZQDxqwj",
        "colab_type": "text"
      },
      "source": [
        " Après les 50 premières époques, le coût de la phase du test rejoint l'ordre de grandeur de la phase d'entrainement."
      ]
    },
    {
      "cell_type": "markdown",
      "metadata": {
        "id": "XL55jVTHAhzx",
        "colab_type": "text"
      },
      "source": [
        "La prédiction avec le modèle est la suivante :"
      ]
    },
    {
      "cell_type": "code",
      "metadata": {
        "id": "_sDrtbso_D1X",
        "colab_type": "code",
        "outputId": "9b2d13eb-0bc6-4999-a023-6ac56fa5d5d4",
        "colab": {
          "base_uri": "https://localhost:8080/",
          "height": 34
        }
      },
      "source": [
        "from sklearn.metrics import mean_squared_error\n",
        "\n",
        "y_pred = model.predict(trim_dataset(x_test_t, batch_size), batch_size=batch_size)\n",
        "y_pred = y_pred.flatten()\n",
        "y_test_t = trim_dataset(y_test_t, batch_size)\n",
        "error = mean_squared_error(y_test_t, y_pred)\n",
        "\n",
        "print(\"L'erreur est :\", error)"
      ],
      "execution_count": 0,
      "outputs": [
        {
          "output_type": "stream",
          "text": [
            "L'erreur est : 0.00019025974420750928\n"
          ],
          "name": "stdout"
        }
      ]
    },
    {
      "cell_type": "markdown",
      "metadata": {
        "id": "GTg56W5EDvsd",
        "colab_type": "text"
      },
      "source": [
        "Nous allons ensuite convertir le vecteur prédit en d'intervalles de données réelles :"
      ]
    },
    {
      "cell_type": "code",
      "metadata": {
        "id": "the3y6rvDiXT",
        "colab_type": "code",
        "outputId": "112817b0-148a-4777-9c80-9c199aa59ac7",
        "colab": {
          "base_uri": "https://localhost:8080/",
          "height": 34
        }
      },
      "source": [
        "y_pred_org = (y_pred * min_max_scaler.data_range_[3]) + min_max_scaler.data_min_[3]\n",
        "y_test_t_org = (y_test_t * min_max_scaler.data_range_[3]) + min_max_scaler.data_min_[3]\n",
        "error = mean_squared_error(y_test_t_org, y_pred_org)\n",
        "\n",
        "print(\"L'erreur réelle est :\", error)"
      ],
      "execution_count": 0,
      "outputs": [
        {
          "output_type": "stream",
          "text": [
            "L'erreur réelle est : 0.4310290423608122\n"
          ],
          "name": "stdout"
        }
      ]
    },
    {
      "cell_type": "markdown",
      "metadata": {
        "id": "04xoI33RFNB7",
        "colab_type": "text"
      },
      "source": [
        "Sur la même figure, la prédiction en rouge et le graphe réel en vert :"
      ]
    },
    {
      "cell_type": "code",
      "metadata": {
        "id": "TkrXaVVKEzrm",
        "colab_type": "code",
        "outputId": "db080d29-2e47-4121-ffdc-341971ec31ac",
        "colab": {
          "base_uri": "https://localhost:8080/",
          "height": 531
        }
      },
      "source": [
        "plt.figure()\n",
        "plt.figure(figsize=(15,8))\n",
        "plt.plot(y_pred_org, color='red')\n",
        "plt.plot(y_test_t_org, color='green')\n",
        "plt.title('Prediction et Prix réel')\n",
        "plt.ylabel('Prix')\n",
        "plt.xlabel('Jours')\n",
        "plt.legend(['Prediction', 'Réel'], loc='upper left')\n",
        "plt.show()"
      ],
      "execution_count": 0,
      "outputs": [
        {
          "output_type": "display_data",
          "data": {
            "text/plain": [
              "<Figure size 432x288 with 0 Axes>"
            ]
          },
          "metadata": {
            "tags": []
          }
        },
        {
          "output_type": "display_data",
          "data": {
            "image/png": "[encoded data removed]",
            "text/plain": [
              "<Figure size 1080x576 with 1 Axes>"
            ]
          },
          "metadata": {
            "tags": []
          }
        }
      ]
    },
    {
      "cell_type": "markdown",
      "metadata": {
        "id": "L_QfSVLDdAyG",
        "colab_type": "text"
      },
      "source": [
        "On peut dire que le modèle est plus ou moins bien, il parvient à prédire la hausse ou la baisse d'une manière exacte, à l'exclusion des premiers jours."
      ]
    },
    {
      "cell_type": "code",
      "metadata": {
        "id": "Z5Xgel8fnN3j",
        "colab_type": "code",
        "colab": {}
      },
      "source": [
        "import pickle\n",
        "\n",
        "filename = 'stock_price_prediction_tuned.sav'\n",
        "pickle.dump(model, open(filename, 'wb'))"
      ],
      "execution_count": 0,
      "outputs": []
    },
    {
      "cell_type": "code",
      "metadata": {
        "id": "NtL_kVBEnQuc",
        "colab_type": "code",
        "colab": {}
      },
      "source": [
        "from google.colab import files\n",
        "files.download(filename)"
      ],
      "execution_count": 0,
      "outputs": []
    },
    {
      "cell_type": "code",
      "metadata": {
        "id": "UUNm6eFEonTQ",
        "colab_type": "code",
        "colab": {}
      },
      "source": [
        "from google.colab import files\n",
        "files.upload()"
      ],
      "execution_count": 0,
      "outputs": []
    },
    {
      "cell_type": "code",
      "metadata": {
        "id": "CAykSD_5pmkX",
        "colab_type": "code",
        "colab": {}
      },
      "source": [
        "filename = 'stock_price_prediction_tuned.sav'\n",
        "loaded_model = pickle.load(open(filename, 'rb'))"
      ],
      "execution_count": 0,
      "outputs": []
    },
    {
      "cell_type": "code",
      "metadata": {
        "id": "zDkZHgYkqOte",
        "colab_type": "code",
        "outputId": "02137bf4-02fc-4e32-a7f7-dcc8d41290ca",
        "colab": {
          "base_uri": "https://localhost:8080/",
          "height": 301
        }
      },
      "source": [
        "loaded_model.summary()"
      ],
      "execution_count": 0,
      "outputs": [
        {
          "output_type": "stream",
          "text": [
            "Model: \"sequential_7\"\n",
            "_________________________________________________________________\n",
            "Layer (type)                 Output Shape              Param #   \n",
            "=================================================================\n",
            "lstm_7 (LSTM)                (20, 100)                 42400     \n",
            "_________________________________________________________________\n",
            "dropout_7 (Dropout)          (20, 100)                 0         \n",
            "_________________________________________________________________\n",
            "dense_13 (Dense)             (20, 20)                  2020      \n",
            "_________________________________________________________________\n",
            "dense_14 (Dense)             (20, 1)                   21        \n",
            "=================================================================\n",
            "Total params: 44,441\n",
            "Trainable params: 44,441\n",
            "Non-trainable params: 0\n",
            "_________________________________________________________________\n"
          ],
          "name": "stdout"
        }
      ]
    }
  ]
}